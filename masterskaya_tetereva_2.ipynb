{
 "cells": [
  {
   "cell_type": "code",
   "execution_count": 1,
   "id": "fab4d660",
   "metadata": {},
   "outputs": [],
   "source": [
    "import numpy as np\n",
    "import pandas as pd\n",
    "pd.set_option('display.float_format', '{:,.2f}'.format)\n",
    "import matplotlib.pyplot as plt\n",
    "import seaborn as sns"
   ]
  },
  {
   "cell_type": "code",
   "execution_count": 2,
   "id": "fbbb4777",
   "metadata": {},
   "outputs": [],
   "source": [
    "path = 'C:/Users/user/JupiterIra/Yandex/Мастерская/1_предсказание частоты событий/data/data_blago_all.xlsx'\n",
    "donors = pd.read_excel(path, sheet_name='Доноры')\n",
    "donats = pd.read_excel(path, sheet_name='Пожертвования')"
   ]
  },
  {
   "cell_type": "code",
   "execution_count": 3,
   "id": "59721cef",
   "metadata": {},
   "outputs": [],
   "source": [
    "# Функция для просмотра данных в дф\n",
    "def date_first_glampse(df):\n",
    "    display('Несколько строк: ', df.sample(3))\n",
    "    display('Общая информация: ')\n",
    "    df.info()\n",
    "    display('Дубликаты: ', df.duplicated().sum())\n",
    "    for col in df.columns:\n",
    "        display(f'Уникальные значения в колонке {col} и их количество: ', df[col].value_counts(dropna=False))"
   ]
  },
  {
   "cell_type": "code",
   "execution_count": 4,
   "id": "1cc1250d",
   "metadata": {},
   "outputs": [
    {
     "data": {
      "text/plain": [
       "'Несколько строк: '"
      ]
     },
     "metadata": {},
     "output_type": "display_data"
    },
    {
     "data": {
      "text/html": [
       "<div>\n",
       "<style scoped>\n",
       "    .dataframe tbody tr th:only-of-type {\n",
       "        vertical-align: middle;\n",
       "    }\n",
       "\n",
       "    .dataframe tbody tr th {\n",
       "        vertical-align: top;\n",
       "    }\n",
       "\n",
       "    .dataframe thead th {\n",
       "        text-align: right;\n",
       "    }\n",
       "</style>\n",
       "<table border=\"1\" class=\"dataframe\">\n",
       "  <thead>\n",
       "    <tr style=\"text-align: right;\">\n",
       "      <th></th>\n",
       "      <th>ID</th>\n",
       "      <th>Пол</th>\n",
       "      <th>Город</th>\n",
       "      <th>Дата последней email активности</th>\n",
       "    </tr>\n",
       "  </thead>\n",
       "  <tbody>\n",
       "    <tr>\n",
       "      <th>1383</th>\n",
       "      <td>B3401D8D-0CBD-46FB-9F7F-5FA6956239EC</td>\n",
       "      <td>NaN</td>\n",
       "      <td>NaN</td>\n",
       "      <td>NaT</td>\n",
       "    </tr>\n",
       "    <tr>\n",
       "      <th>778</th>\n",
       "      <td>283211C1-DDFC-4EF6-A596-38D1545BD5AE</td>\n",
       "      <td>Женский                                       ...</td>\n",
       "      <td>NaN</td>\n",
       "      <td>NaT</td>\n",
       "    </tr>\n",
       "    <tr>\n",
       "      <th>107</th>\n",
       "      <td>C44DD231-2A72-473C-A6F8-07DEFBCF92C3</td>\n",
       "      <td>Женский                                       ...</td>\n",
       "      <td>NaN</td>\n",
       "      <td>2022-07-18 16:29:58</td>\n",
       "    </tr>\n",
       "  </tbody>\n",
       "</table>\n",
       "</div>"
      ],
      "text/plain": [
       "                                        ID  \\\n",
       "1383  B3401D8D-0CBD-46FB-9F7F-5FA6956239EC   \n",
       "778   283211C1-DDFC-4EF6-A596-38D1545BD5AE   \n",
       "107   C44DD231-2A72-473C-A6F8-07DEFBCF92C3   \n",
       "\n",
       "                                                    Пол Город  \\\n",
       "1383                                                NaN   NaN   \n",
       "778   Женский                                       ...   NaN   \n",
       "107   Женский                                       ...   NaN   \n",
       "\n",
       "     Дата последней email активности  \n",
       "1383                             NaT  \n",
       "778                              NaT  \n",
       "107              2022-07-18 16:29:58  "
      ]
     },
     "metadata": {},
     "output_type": "display_data"
    },
    {
     "data": {
      "text/plain": [
       "'Общая информация: '"
      ]
     },
     "metadata": {},
     "output_type": "display_data"
    },
    {
     "name": "stdout",
     "output_type": "stream",
     "text": [
      "<class 'pandas.core.frame.DataFrame'>\n",
      "RangeIndex: 3683 entries, 0 to 3682\n",
      "Data columns (total 4 columns):\n",
      " #   Column                           Non-Null Count  Dtype         \n",
      "---  ------                           --------------  -----         \n",
      " 0   ID                               3683 non-null   object        \n",
      " 1   Пол                              2431 non-null   object        \n",
      " 2   Город                            1015 non-null   object        \n",
      " 3   Дата последней email активности  1835 non-null   datetime64[ns]\n",
      "dtypes: datetime64[ns](1), object(3)\n",
      "memory usage: 115.2+ KB\n"
     ]
    },
    {
     "data": {
      "text/plain": [
       "'Дубликаты: '"
      ]
     },
     "metadata": {},
     "output_type": "display_data"
    },
    {
     "data": {
      "text/plain": [
       "0"
      ]
     },
     "metadata": {},
     "output_type": "display_data"
    },
    {
     "data": {
      "text/plain": [
       "'Уникальные значения в колонке ID и их количество: '"
      ]
     },
     "metadata": {},
     "output_type": "display_data"
    },
    {
     "data": {
      "text/plain": [
       "472C53AC-DBD0-495E-A681-C109C5514311    1\n",
       "388545BE-4250-4B7D-B99E-786DDA769D6F    1\n",
       "A5FD3F99-E1D9-4425-ACAA-9AC861F311DE    1\n",
       "6BA628DC-D775-470C-A22D-B0EF55E62628    1\n",
       "8AC1E694-1574-4FB9-BD6C-43D091C79A45    1\n",
       "                                       ..\n",
       "9737D0B5-73B6-4C27-BE4E-BA63211BDE9E    1\n",
       "165A2949-BC8B-4DAC-B105-937CDB87AF4F    1\n",
       "35C018DB-2BD9-4353-9B92-4B0258C0FA2F    1\n",
       "90788691-E551-479E-8881-ECDE6074FFB8    1\n",
       "9317C9BD-FCE8-461C-A0B0-8FEE514C6124    1\n",
       "Name: ID, Length: 3683, dtype: int64"
      ]
     },
     "metadata": {},
     "output_type": "display_data"
    },
    {
     "data": {
      "text/plain": [
       "'Уникальные значения в колонке Пол и их количество: '"
      ]
     },
     "metadata": {},
     "output_type": "display_data"
    },
    {
     "data": {
      "text/plain": [
       "Женский                                                                                                                                                                                                                                                       1874\n",
       "NaN                                                                                                                                                                                                                                                           1252\n",
       "Мужской                                                                                                                                                                                                                                                        557\n",
       "Name: Пол, dtype: int64"
      ]
     },
     "metadata": {},
     "output_type": "display_data"
    },
    {
     "data": {
      "text/plain": [
       "'Уникальные значения в колонке Город и их количество: '"
      ]
     },
     "metadata": {},
     "output_type": "display_data"
    },
    {
     "data": {
      "text/plain": [
       "NaN                2668\n",
       "Москва              458\n",
       "Санкт-Петербург      78\n",
       "Краснодар            23\n",
       "Нижний Новгород      20\n",
       "                   ... \n",
       "БЕРЕЗКА               1\n",
       "ЗАСЕЧНОЕ              1\n",
       "Элиста                1\n",
       "Салтыкова             1\n",
       "Helsinki              1\n",
       "Name: Город, Length: 235, dtype: int64"
      ]
     },
     "metadata": {},
     "output_type": "display_data"
    },
    {
     "data": {
      "text/plain": [
       "'Уникальные значения в колонке Дата последней email активности и их количество: '"
      ]
     },
     "metadata": {},
     "output_type": "display_data"
    },
    {
     "data": {
      "text/plain": [
       "NaT                    1848\n",
       "2022-07-18 16:29:49     294\n",
       "2022-07-18 16:29:48     229\n",
       "2022-07-18 16:29:50     163\n",
       "2022-07-18 16:29:47     114\n",
       "                       ... \n",
       "2022-07-25 10:09:28       1\n",
       "2022-05-18 12:26:22       1\n",
       "2022-07-18 16:54:44       1\n",
       "2022-07-21 20:42:34       1\n",
       "2022-07-22 15:21:48       1\n",
       "Name: Дата последней email активности, Length: 654, dtype: int64"
      ]
     },
     "metadata": {},
     "output_type": "display_data"
    },
    {
     "data": {
      "text/plain": [
       "'Несколько строк: '"
      ]
     },
     "metadata": {},
     "output_type": "display_data"
    },
    {
     "data": {
      "text/html": [
       "<div>\n",
       "<style scoped>\n",
       "    .dataframe tbody tr th:only-of-type {\n",
       "        vertical-align: middle;\n",
       "    }\n",
       "\n",
       "    .dataframe tbody tr th {\n",
       "        vertical-align: top;\n",
       "    }\n",
       "\n",
       "    .dataframe thead th {\n",
       "        text-align: right;\n",
       "    }\n",
       "</style>\n",
       "<table border=\"1\" class=\"dataframe\">\n",
       "  <thead>\n",
       "    <tr style=\"text-align: right;\">\n",
       "      <th></th>\n",
       "      <th>Donor ID</th>\n",
       "      <th>Дата платежа</th>\n",
       "      <th>Сумма платежа</th>\n",
       "      <th>Рекуррентный</th>\n",
       "      <th>Назначение платежа</th>\n",
       "      <th>Канал оплаты</th>\n",
       "    </tr>\n",
       "  </thead>\n",
       "  <tbody>\n",
       "    <tr>\n",
       "      <th>13863</th>\n",
       "      <td>235EABC7-EADD-4CE5-B014-FE442BF6D4A0</td>\n",
       "      <td>2020-01-29 11:22:36</td>\n",
       "      <td>500.00</td>\n",
       "      <td>Да                                            ...</td>\n",
       "      <td>Пожертвование в фонд помощи детям-отказникам и...</td>\n",
       "      <td>Банковские карты</td>\n",
       "    </tr>\n",
       "    <tr>\n",
       "      <th>4489</th>\n",
       "      <td>CE077435-2E0D-4FC9-A305-E29B1BD45F07</td>\n",
       "      <td>2020-04-27 10:15:20</td>\n",
       "      <td>500.00</td>\n",
       "      <td>Да                                            ...</td>\n",
       "      <td>ПОЖЕРТВОВАНИЕ</td>\n",
       "      <td>Банковские карты</td>\n",
       "    </tr>\n",
       "    <tr>\n",
       "      <th>10562</th>\n",
       "      <td>E38CC464-F845-427E-9790-D92188E5A47C</td>\n",
       "      <td>2021-04-28 20:19:54</td>\n",
       "      <td>500.00</td>\n",
       "      <td>Да                                            ...</td>\n",
       "      <td>ПОЖЕРТВОВАНИЕ</td>\n",
       "      <td>Банковские карты</td>\n",
       "    </tr>\n",
       "  </tbody>\n",
       "</table>\n",
       "</div>"
      ],
      "text/plain": [
       "                                   Donor ID        Дата платежа  \\\n",
       "13863  235EABC7-EADD-4CE5-B014-FE442BF6D4A0 2020-01-29 11:22:36   \n",
       "4489   CE077435-2E0D-4FC9-A305-E29B1BD45F07 2020-04-27 10:15:20   \n",
       "10562  E38CC464-F845-427E-9790-D92188E5A47C 2021-04-28 20:19:54   \n",
       "\n",
       "       Сумма платежа                                       Рекуррентный  \\\n",
       "13863         500.00  Да                                            ...   \n",
       "4489          500.00  Да                                            ...   \n",
       "10562         500.00  Да                                            ...   \n",
       "\n",
       "                                      Назначение платежа        Канал оплаты  \n",
       "13863  Пожертвование в фонд помощи детям-отказникам и...  Банковские карты    \n",
       "4489                                       ПОЖЕРТВОВАНИЕ  Банковские карты    \n",
       "10562                                      ПОЖЕРТВОВАНИЕ  Банковские карты    "
      ]
     },
     "metadata": {},
     "output_type": "display_data"
    },
    {
     "data": {
      "text/plain": [
       "'Общая информация: '"
      ]
     },
     "metadata": {},
     "output_type": "display_data"
    },
    {
     "name": "stdout",
     "output_type": "stream",
     "text": [
      "<class 'pandas.core.frame.DataFrame'>\n",
      "RangeIndex: 14043 entries, 0 to 14042\n",
      "Data columns (total 6 columns):\n",
      " #   Column              Non-Null Count  Dtype         \n",
      "---  ------              --------------  -----         \n",
      " 0   Donor ID            14043 non-null  object        \n",
      " 1   Дата платежа        14043 non-null  datetime64[ns]\n",
      " 2   Сумма платежа       14043 non-null  float64       \n",
      " 3   Рекуррентный        14043 non-null  object        \n",
      " 4   Назначение платежа  12774 non-null  object        \n",
      " 5   Канал оплаты        14043 non-null  object        \n",
      "dtypes: datetime64[ns](1), float64(1), object(4)\n",
      "memory usage: 658.4+ KB\n"
     ]
    },
    {
     "data": {
      "text/plain": [
       "'Дубликаты: '"
      ]
     },
     "metadata": {},
     "output_type": "display_data"
    },
    {
     "data": {
      "text/plain": [
       "12"
      ]
     },
     "metadata": {},
     "output_type": "display_data"
    },
    {
     "data": {
      "text/plain": [
       "'Уникальные значения в колонке Donor ID и их количество: '"
      ]
     },
     "metadata": {},
     "output_type": "display_data"
    },
    {
     "data": {
      "text/plain": [
       "8A8DAECD-40B3-4A41-B53C-06A62BE672E6    83\n",
       "F836F738-FB7E-4134-ABA8-B6E9CA1E71EA    76\n",
       "0B6DA68C-558B-4153-806E-B1D775585B88    76\n",
       "85348172-F358-4345-91F1-DB8CF0531C8A    73\n",
       "4ECB767F-8830-497B-B395-851D4EACD1F8    65\n",
       "                                        ..\n",
       "E4DC14A8-8927-4D39-BE7A-6E606D4C5E85     1\n",
       "E9C1E7AA-0220-4510-B354-7249250D4656     1\n",
       "019DC134-2EE3-42A9-901D-3FD3D6C47129     1\n",
       "3B7AE14E-B443-4808-8D46-053A5FCF9192     1\n",
       "9317C9BD-FCE8-461C-A0B0-8FEE514C6124     1\n",
       "Name: Donor ID, Length: 3683, dtype: int64"
      ]
     },
     "metadata": {},
     "output_type": "display_data"
    },
    {
     "data": {
      "text/plain": [
       "'Уникальные значения в колонке Дата платежа и их количество: '"
      ]
     },
     "metadata": {},
     "output_type": "display_data"
    },
    {
     "data": {
      "text/plain": [
       "2021-04-12 00:00:00    9\n",
       "2022-05-02 00:00:00    8\n",
       "2022-07-18 00:00:00    8\n",
       "2022-04-24 00:00:00    7\n",
       "2021-06-16 00:00:00    7\n",
       "                      ..\n",
       "2021-03-25 15:48:54    1\n",
       "2016-04-16 14:40:04    1\n",
       "2021-12-25 09:13:51    1\n",
       "2022-03-03 20:23:36    1\n",
       "2019-04-28 20:04:13    1\n",
       "Name: Дата платежа, Length: 13386, dtype: int64"
      ]
     },
     "metadata": {},
     "output_type": "display_data"
    },
    {
     "data": {
      "text/plain": [
       "'Уникальные значения в колонке Сумма платежа и их количество: '"
      ]
     },
     "metadata": {},
     "output_type": "display_data"
    },
    {
     "data": {
      "text/plain": [
       "500.00       3175\n",
       "100.00       2470\n",
       "300.00       1744\n",
       "1,000.00     1743\n",
       "200.00       1454\n",
       "             ... \n",
       "27,108.00       1\n",
       "661.00          1\n",
       "0.69            1\n",
       "8.65            1\n",
       "188.00          1\n",
       "Name: Сумма платежа, Length: 373, dtype: int64"
      ]
     },
     "metadata": {},
     "output_type": "display_data"
    },
    {
     "data": {
      "text/plain": [
       "'Уникальные значения в колонке Рекуррентный и их количество: '"
      ]
     },
     "metadata": {},
     "output_type": "display_data"
    },
    {
     "data": {
      "text/plain": [
       "Да                                                                                                                                                                                                                                                            8085\n",
       "Нет                                                                                                                                                                                                                                                           5958\n",
       "Name: Рекуррентный, dtype: int64"
      ]
     },
     "metadata": {},
     "output_type": "display_data"
    },
    {
     "data": {
      "text/plain": [
       "'Уникальные значения в колонке Назначение платежа и их количество: '"
      ]
     },
     "metadata": {},
     "output_type": "display_data"
    },
    {
     "data": {
      "text/plain": [
       "ПОЖЕРТВОВАНИЕ                                                                                   3811\n",
       "Пожертвование в фонд помощи детям-отказникам и детям-сиротам \"Бюро Добрых Дел\"                  3335\n",
       "ПОЖЕРТВОВАНИЕ  undefined                                                                        2162\n",
       "NaN                                                                                             1269\n",
       "Добровольное пожертвование. НДС не облагается                                                    497\n",
       "                                                                                                ... \n",
       "ДОБРОВОЛЬНОЕ ПОЖЕРТВОВАНИЕ;Амиру;Сумма 100.00 руб.;Комиссия 0.00 руб;Дата оплаты 11/03/2021;       1\n",
       "ДОБРОВОЛЬНОЕ ПОЖЕРТВОВАНИЕ;Сумма 30.00 руб.;Комиссия 0.00 руб;Дата оплаты 31/10/2021;              1\n",
       "ДОБРОВОЛЬНОЕ ПОЖЕРТВОВАНИЕ;12345;Сумма 5.16 руб.;Комиссия 0.00 руб;Дата оплаты 12/07/2021;         1\n",
       "ДОБРОВОЛЬНОЕ ПОЖЕРТВОВАНИЕ;Сумма 99 руб.;Комиссия 0 руб;Дата оплаты 02/05/2020;                    1\n",
       "ДОБРОВОЛЬНОЕ ПОЖЕРТВОВАНИЕ;Сумма 200 руб.;Комиссия 0 руб;Дата оплаты 25/03/2019;                   1\n",
       "Name: Назначение платежа, Length: 894, dtype: int64"
      ]
     },
     "metadata": {},
     "output_type": "display_data"
    },
    {
     "data": {
      "text/plain": [
       "'Уникальные значения в колонке Канал оплаты и их количество: '"
      ]
     },
     "metadata": {},
     "output_type": "display_data"
    },
    {
     "data": {
      "text/plain": [
       "Банковские карты                11204\n",
       "SMS                              1474\n",
       "Прямые поступления на счет       1362\n",
       "Наличные в кассу                    3\n",
       "Name: Канал оплаты, dtype: int64"
      ]
     },
     "metadata": {},
     "output_type": "display_data"
    }
   ],
   "source": [
    "for df in [donors,donats]:\n",
    "    date_first_glampse(df)"
   ]
  },
  {
   "cell_type": "code",
   "execution_count": 5,
   "id": "9da8dda6",
   "metadata": {},
   "outputs": [],
   "source": [
    "# т.к. количество уникальных id равны, объединим таблицы в одну,\n",
    "# предварительно переименовав столбец в donats\n",
    "\n",
    "donats = donats.rename(columns={'Donor ID' : 'ID'})\n",
    "\n",
    "df = donats.merge(donors, how='left', on = 'ID')"
   ]
  },
  {
   "cell_type": "code",
   "execution_count": 6,
   "id": "41375bec",
   "metadata": {},
   "outputs": [],
   "source": [
    "#приведем датасет к нижнему регистру\n",
    "df = df.apply(lambda x: x.str.lower() if(x.dtype == 'object') else x)\n",
    "\n",
    "# переименуем столбцы, приведя их к змеиному регистру\n",
    "df = df.rename(columns = \n",
    "              {\n",
    "                  'ID':'id',\n",
    "                  'Дата платежа':'date',\n",
    "                  'Сумма платежа':'sum',\n",
    "                  'Пол':'gender',\n",
    "                  'Город':'city',\n",
    "                  'Назначение платежа' : 'purpose',\n",
    "                  'Рекуррентный' : 'is_reccurent',\n",
    "                  'Канал оплаты' : 'channel',\n",
    "                  'Дата последней email активности': 'last_email_activity'\n",
    "                  \n",
    "              }\n",
    "              )\n",
    "\n",
    "# удалим дубликаты\n",
    "df = df.drop_duplicates()"
   ]
  },
  {
   "cell_type": "code",
   "execution_count": 7,
   "id": "d01253a3",
   "metadata": {},
   "outputs": [],
   "source": [
    "# Добавим новые столбцы\n",
    "df['payment_date'] = df['date'].dt.date\n",
    "df['payment_time'] = df['date'].dt.hour\n",
    "df['payment_year'] = df['date'].dt.year\n",
    "df['last_email_activity'] = df['last_email_activity'].dt.date\n",
    "\n",
    "df = df.drop('date',axis=1)"
   ]
  },
  {
   "cell_type": "code",
   "execution_count": 8,
   "id": "f684b27c",
   "metadata": {},
   "outputs": [
    {
     "data": {
      "text/plain": [
       "id                    0.00\n",
       "sum                   0.00\n",
       "is_reccurent          0.00\n",
       "purpose               0.09\n",
       "channel               0.00\n",
       "gender                0.11\n",
       "city                  0.52\n",
       "last_email_activity   0.21\n",
       "payment_date          0.00\n",
       "payment_time          0.00\n",
       "payment_year          0.00\n",
       "dtype: float64"
      ]
     },
     "execution_count": 8,
     "metadata": {},
     "output_type": "execute_result"
    }
   ],
   "source": [
    "# Пропуски\n",
    "df.isna().sum()/len(df)"
   ]
  },
  {
   "cell_type": "code",
   "execution_count": 9,
   "id": "f539bddf",
   "metadata": {},
   "outputs": [],
   "source": [
    "df['is_reccurent'] = df['is_reccurent'].replace({'нет                                                                                                                                                                                                                                                       ':\n",
    "                                                 0, \n",
    "                                                 'да                                                                                                                                                                                                                                                        ':\n",
    "                                                 1})\n",
    "df['is_woman'] = df['gender'].replace({'мужской                                                                                                                                                                                                                                                   ':\n",
    "                                     0, \n",
    "                                    'женский                                                                                                                                                                                                                                                   ':\n",
    "                                    1})"
   ]
  },
  {
   "cell_type": "code",
   "execution_count": 10,
   "id": "fb2a697d",
   "metadata": {},
   "outputs": [],
   "source": [
    "# Лайфтайм\n",
    "df = df.sort_values(by='payment_date')\n",
    "df['life_time'] = df.groupby('id')['payment_date'].apply(lambda x: x.diff().abs().fillna(pd.Timedelta(0)))\n",
    "df['life_time'] = df['life_time'].dt.days.astype('int')"
   ]
  },
  {
   "cell_type": "code",
   "execution_count": 11,
   "id": "f392fd0f",
   "metadata": {},
   "outputs": [
    {
     "data": {
      "text/plain": [
       "пожертвование                                                                    0.27\n",
       "пожертвование в фонд помощи детям-отказникам и детям-сиротам \"бюро добрых дел\"   0.24\n",
       "пожертвование  undefined                                                         0.15\n",
       "добровольное пожертвование. ндс не облагается                                    0.04\n",
       "sms bdd                                                                          0.02\n",
       "пожертвование клуб друзей                                                        0.01\n",
       "на психологические консультации артёму                                           0.01\n",
       "пожертвование без назначения                                                     0.01\n",
       "пожертвование на обучение артёма                                                 0.00\n",
       "пожертвование на обучение александры                                             0.00\n",
       "Name: purpose, dtype: float64"
      ]
     },
     "execution_count": 11,
     "metadata": {},
     "output_type": "execute_result"
    }
   ],
   "source": [
    "# доля назначений пожертвований\n",
    "(df['purpose'].value_counts()/len(df['id'])).head(10)"
   ]
  },
  {
   "cell_type": "code",
   "execution_count": 12,
   "id": "f3e0d3d5",
   "metadata": {},
   "outputs": [],
   "source": [
    "def purose_category(purpose):\n",
    "    \n",
    "    if 'фонд' in purpose.loc['purpose']:\n",
    "        return 'на работу фонда'\n",
    "    elif 'no_info' in purpose.loc['purpose']:\n",
    "        return 'no_info'\n",
    "    elif 'программ' in purpose.loc['purpose']:\n",
    "        return 'на программу'\n",
    "    else:\n",
    "        return 'адресное пожертвование'\n",
    "\n",
    "\n",
    "# применим функцию\n",
    "df['purpose'] = df['purpose'].fillna('no_info')\n",
    "df['purpose'] = df.apply(purose_category, axis=1)"
   ]
  },
  {
   "cell_type": "code",
   "execution_count": 13,
   "id": "933df497",
   "metadata": {},
   "outputs": [
    {
     "data": {
      "image/png": "[encoded data removed]",
      "text/plain": [
       "<Figure size 432x216 with 1 Axes>"
      ]
     },
     "metadata": {
      "needs_background": "light"
     },
     "output_type": "display_data"
    }
   ],
   "source": [
    "df['purpose'].hist(figsize=(6,3));"
   ]
  },
  {
   "cell_type": "code",
   "execution_count": 14,
   "id": "b5ac98f6",
   "metadata": {},
   "outputs": [],
   "source": [
    "df['mean_sum_per_day'] = np.where(df['life_time'] == 0, df['life_time'], df['sum']/df['life_time'])"
   ]
  },
  {
   "cell_type": "code",
   "execution_count": 15,
   "id": "8542c91d",
   "metadata": {
    "scrolled": false
   },
   "outputs": [
    {
     "data": {
      "text/html": [
       "<div>\n",
       "<style scoped>\n",
       "    .dataframe tbody tr th:only-of-type {\n",
       "        vertical-align: middle;\n",
       "    }\n",
       "\n",
       "    .dataframe tbody tr th {\n",
       "        vertical-align: top;\n",
       "    }\n",
       "\n",
       "    .dataframe thead th {\n",
       "        text-align: right;\n",
       "    }\n",
       "</style>\n",
       "<table border=\"1\" class=\"dataframe\">\n",
       "  <thead>\n",
       "    <tr style=\"text-align: right;\">\n",
       "      <th></th>\n",
       "      <th>id</th>\n",
       "      <th>sum</th>\n",
       "      <th>is_reccurent</th>\n",
       "      <th>purpose</th>\n",
       "      <th>channel</th>\n",
       "      <th>gender</th>\n",
       "      <th>city</th>\n",
       "      <th>last_email_activity</th>\n",
       "      <th>payment_date</th>\n",
       "      <th>payment_time</th>\n",
       "      <th>payment_year</th>\n",
       "      <th>is_woman</th>\n",
       "      <th>life_time</th>\n",
       "      <th>mean_sum_per_day</th>\n",
       "    </tr>\n",
       "  </thead>\n",
       "  <tbody>\n",
       "    <tr>\n",
       "      <th>1086</th>\n",
       "      <td>cfd213f1-4875-44b4-bcf3-c602decce30c</td>\n",
       "      <td>4,000.00</td>\n",
       "      <td>0</td>\n",
       "      <td>адресное пожертвование</td>\n",
       "      <td>прямые поступления на счет</td>\n",
       "      <td>мужской                                       ...</td>\n",
       "      <td>NaN</td>\n",
       "      <td>NaT</td>\n",
       "      <td>2022-01-14</td>\n",
       "      <td>0</td>\n",
       "      <td>2022</td>\n",
       "      <td>0.00</td>\n",
       "      <td>42</td>\n",
       "      <td>95.24</td>\n",
       "    </tr>\n",
       "    <tr>\n",
       "      <th>4322</th>\n",
       "      <td>d97700b7-278d-47ef-ae7d-1a6482a87a57</td>\n",
       "      <td>50.00</td>\n",
       "      <td>1</td>\n",
       "      <td>адресное пожертвование</td>\n",
       "      <td>банковские карты</td>\n",
       "      <td>женский                                       ...</td>\n",
       "      <td>NaN</td>\n",
       "      <td>2022-07-18</td>\n",
       "      <td>2021-07-03</td>\n",
       "      <td>18</td>\n",
       "      <td>2021</td>\n",
       "      <td>1.00</td>\n",
       "      <td>30</td>\n",
       "      <td>1.67</td>\n",
       "    </tr>\n",
       "    <tr>\n",
       "      <th>13566</th>\n",
       "      <td>2c801223-8afd-4f7a-81d4-5fc7d9f8200b</td>\n",
       "      <td>300.00</td>\n",
       "      <td>1</td>\n",
       "      <td>на работу фонда</td>\n",
       "      <td>банковские карты</td>\n",
       "      <td>женский                                       ...</td>\n",
       "      <td>NaN</td>\n",
       "      <td>2022-06-24</td>\n",
       "      <td>2018-12-14</td>\n",
       "      <td>17</td>\n",
       "      <td>2018</td>\n",
       "      <td>1.00</td>\n",
       "      <td>30</td>\n",
       "      <td>10.00</td>\n",
       "    </tr>\n",
       "  </tbody>\n",
       "</table>\n",
       "</div>"
      ],
      "text/plain": [
       "                                         id      sum  is_reccurent  \\\n",
       "1086   cfd213f1-4875-44b4-bcf3-c602decce30c 4,000.00             0   \n",
       "4322   d97700b7-278d-47ef-ae7d-1a6482a87a57    50.00             1   \n",
       "13566  2c801223-8afd-4f7a-81d4-5fc7d9f8200b   300.00             1   \n",
       "\n",
       "                      purpose                       channel  \\\n",
       "1086   адресное пожертвование  прямые поступления на счет     \n",
       "4322   адресное пожертвование            банковские карты     \n",
       "13566         на работу фонда            банковские карты     \n",
       "\n",
       "                                                  gender city  \\\n",
       "1086   мужской                                       ...  NaN   \n",
       "4322   женский                                       ...  NaN   \n",
       "13566  женский                                       ...  NaN   \n",
       "\n",
       "      last_email_activity payment_date  payment_time  payment_year  is_woman  \\\n",
       "1086                  NaT   2022-01-14             0          2022      0.00   \n",
       "4322           2022-07-18   2021-07-03            18          2021      1.00   \n",
       "13566          2022-06-24   2018-12-14            17          2018      1.00   \n",
       "\n",
       "       life_time  mean_sum_per_day  \n",
       "1086          42             95.24  \n",
       "4322          30              1.67  \n",
       "13566         30             10.00  "
      ]
     },
     "execution_count": 15,
     "metadata": {},
     "output_type": "execute_result"
    }
   ],
   "source": [
    "df.sample(3)"
   ]
  },
  {
   "cell_type": "code",
   "execution_count": 16,
   "id": "7377d56e",
   "metadata": {
    "scrolled": true
   },
   "outputs": [],
   "source": [
    "# Разделим дф на выборки: обучающую и тестовую\n"
   ]
  },
  {
   "cell_type": "code",
   "execution_count": 17,
   "id": "c1766405",
   "metadata": {},
   "outputs": [],
   "source": [
    "# Добавим дамми переменные по признаку причин\n",
    "df = pd.concat([df, pd.get_dummies(df['purpose'])], axis=1)\n",
    "df = pd.concat([df, pd.get_dummies(df['channel'])], axis=1)\n",
    "df = pd.concat([df, pd.get_dummies(df['city'])], axis=1)\n",
    "\n"
   ]
  },
  {
   "cell_type": "code",
   "execution_count": 18,
   "id": "685b8094",
   "metadata": {},
   "outputs": [
    {
     "data": {
      "text/html": [
       "<div>\n",
       "<style scoped>\n",
       "    .dataframe tbody tr th:only-of-type {\n",
       "        vertical-align: middle;\n",
       "    }\n",
       "\n",
       "    .dataframe tbody tr th {\n",
       "        vertical-align: top;\n",
       "    }\n",
       "\n",
       "    .dataframe thead th {\n",
       "        text-align: right;\n",
       "    }\n",
       "</style>\n",
       "<table border=\"1\" class=\"dataframe\">\n",
       "  <thead>\n",
       "    <tr style=\"text-align: right;\">\n",
       "      <th></th>\n",
       "      <th>mean_sum_per_day</th>\n",
       "    </tr>\n",
       "  </thead>\n",
       "  <tbody>\n",
       "    <tr>\n",
       "      <th>6358</th>\n",
       "      <td>0.00</td>\n",
       "    </tr>\n",
       "  </tbody>\n",
       "</table>\n",
       "</div>"
      ],
      "text/plain": [
       "      mean_sum_per_day\n",
       "6358              0.00"
      ]
     },
     "execution_count": 18,
     "metadata": {},
     "output_type": "execute_result"
    }
   ],
   "source": [
    "df[df['id']=='ffb1c4fa-f950-4bb7-a1f2-9dd655298fff'][['mean_sum_per_day']]"
   ]
  },
  {
   "cell_type": "code",
   "execution_count": 19,
   "id": "45dd27d8",
   "metadata": {},
   "outputs": [
    {
     "data": {
      "text/plain": [
       "MultiIndex([(      'mean_sum_per_day',    'mean'),\n",
       "            (      'mean_sum_per_day',     'std'),\n",
       "            (          'payment_date', 'nunique'),\n",
       "            (          'payment_year', 'nunique'),\n",
       "            (          'is_reccurent',    'mean'),\n",
       "            (          'is_reccurent',     'std'),\n",
       "            (       'на работу фонда',     'sum'),\n",
       "            (               'no_info',     'sum'),\n",
       "            (          'на программу',     'sum'),\n",
       "            ('адресное пожертвование',     'sum')],\n",
       "           )"
      ]
     },
     "execution_count": 19,
     "metadata": {},
     "output_type": "execute_result"
    }
   ],
   "source": [
    "df_for_model = df.groupby('id').agg({'mean_sum_per_day':('mean','std'),\n",
    "                                      'payment_date':'nunique',\n",
    "                                      'payment_year':'nunique',\n",
    "                                      'is_reccurent':('mean','std'),\n",
    "                                      'на работу фонда':'sum',\n",
    "                                      'no_info':'sum',\n",
    "                                      'на программу':'sum',\n",
    "                                      'адресное пожертвование':'sum'})\n",
    "df_for_model.columns"
   ]
  },
  {
   "cell_type": "code",
   "execution_count": 20,
   "id": "a8816c0e",
   "metadata": {},
   "outputs": [
    {
     "data": {
      "text/html": [
       "<div>\n",
       "<style scoped>\n",
       "    .dataframe tbody tr th:only-of-type {\n",
       "        vertical-align: middle;\n",
       "    }\n",
       "\n",
       "    .dataframe tbody tr th {\n",
       "        vertical-align: top;\n",
       "    }\n",
       "\n",
       "    .dataframe thead th {\n",
       "        text-align: right;\n",
       "    }\n",
       "</style>\n",
       "<table border=\"1\" class=\"dataframe\">\n",
       "  <thead>\n",
       "    <tr style=\"text-align: right;\">\n",
       "      <th></th>\n",
       "      <th>mean_sum_per_day</th>\n",
       "      <th>std_sum_per_day</th>\n",
       "      <th>payments_total</th>\n",
       "      <th>total_years</th>\n",
       "      <th>mean_reccurent</th>\n",
       "      <th>std_reccurent</th>\n",
       "      <th>total_for_fund</th>\n",
       "      <th>total_for_nan</th>\n",
       "      <th>total_for_programm</th>\n",
       "      <th>total_for_person</th>\n",
       "    </tr>\n",
       "    <tr>\n",
       "      <th>id</th>\n",
       "      <th></th>\n",
       "      <th></th>\n",
       "      <th></th>\n",
       "      <th></th>\n",
       "      <th></th>\n",
       "      <th></th>\n",
       "      <th></th>\n",
       "      <th></th>\n",
       "      <th></th>\n",
       "      <th></th>\n",
       "    </tr>\n",
       "  </thead>\n",
       "  <tbody>\n",
       "    <tr>\n",
       "      <th>994dd6c5-ea13-4105-bc0f-9cb72080f14b</th>\n",
       "      <td>0.00</td>\n",
       "      <td>NaN</td>\n",
       "      <td>1</td>\n",
       "      <td>1</td>\n",
       "      <td>0.00</td>\n",
       "      <td>NaN</td>\n",
       "      <td>0</td>\n",
       "      <td>0</td>\n",
       "      <td>0</td>\n",
       "      <td>1</td>\n",
       "    </tr>\n",
       "    <tr>\n",
       "      <th>90185142-8951-415e-aeec-8bf9189cf6e2</th>\n",
       "      <td>0.00</td>\n",
       "      <td>NaN</td>\n",
       "      <td>1</td>\n",
       "      <td>1</td>\n",
       "      <td>0.00</td>\n",
       "      <td>NaN</td>\n",
       "      <td>0</td>\n",
       "      <td>0</td>\n",
       "      <td>0</td>\n",
       "      <td>1</td>\n",
       "    </tr>\n",
       "    <tr>\n",
       "      <th>e6882a0f-136c-495b-8578-93ed9e075435</th>\n",
       "      <td>0.00</td>\n",
       "      <td>NaN</td>\n",
       "      <td>1</td>\n",
       "      <td>1</td>\n",
       "      <td>0.00</td>\n",
       "      <td>NaN</td>\n",
       "      <td>0</td>\n",
       "      <td>0</td>\n",
       "      <td>0</td>\n",
       "      <td>1</td>\n",
       "    </tr>\n",
       "  </tbody>\n",
       "</table>\n",
       "</div>"
      ],
      "text/plain": [
       "                                      mean_sum_per_day  std_sum_per_day  \\\n",
       "id                                                                        \n",
       "994dd6c5-ea13-4105-bc0f-9cb72080f14b              0.00              NaN   \n",
       "90185142-8951-415e-aeec-8bf9189cf6e2              0.00              NaN   \n",
       "e6882a0f-136c-495b-8578-93ed9e075435              0.00              NaN   \n",
       "\n",
       "                                      payments_total  total_years  \\\n",
       "id                                                                  \n",
       "994dd6c5-ea13-4105-bc0f-9cb72080f14b               1            1   \n",
       "90185142-8951-415e-aeec-8bf9189cf6e2               1            1   \n",
       "e6882a0f-136c-495b-8578-93ed9e075435               1            1   \n",
       "\n",
       "                                      mean_reccurent  std_reccurent  \\\n",
       "id                                                                    \n",
       "994dd6c5-ea13-4105-bc0f-9cb72080f14b            0.00            NaN   \n",
       "90185142-8951-415e-aeec-8bf9189cf6e2            0.00            NaN   \n",
       "e6882a0f-136c-495b-8578-93ed9e075435            0.00            NaN   \n",
       "\n",
       "                                      total_for_fund  total_for_nan  \\\n",
       "id                                                                    \n",
       "994dd6c5-ea13-4105-bc0f-9cb72080f14b               0              0   \n",
       "90185142-8951-415e-aeec-8bf9189cf6e2               0              0   \n",
       "e6882a0f-136c-495b-8578-93ed9e075435               0              0   \n",
       "\n",
       "                                      total_for_programm  total_for_person  \n",
       "id                                                                          \n",
       "994dd6c5-ea13-4105-bc0f-9cb72080f14b                   0                 1  \n",
       "90185142-8951-415e-aeec-8bf9189cf6e2                   0                 1  \n",
       "e6882a0f-136c-495b-8578-93ed9e075435                   0                 1  "
      ]
     },
     "execution_count": 20,
     "metadata": {},
     "output_type": "execute_result"
    }
   ],
   "source": [
    "cols = {(      'mean_sum_per_day',    'mean'):'mean_sum_per_day',\n",
    "            (      'mean_sum_per_day',     'std'):'std_sum_per_day',\n",
    "            (          'payment_date', 'nunique'):'payments_total',\n",
    "            (          'payment_year', 'nunique'):'total_years',\n",
    "            (          'is_reccurent',    'mean'):'mean_reccurent',\n",
    "            (          'is_reccurent',     'std'):'std_reccurent',\n",
    "            (       'на работу фонда',     'sum'):'total_for_fund',\n",
    "            (               'no_info',     'sum'):'total_for_nan',\n",
    "            (          'на программу',     'sum'):'total_for_programm',\n",
    "            ('адресное пожертвование',     'sum'):'total_for_person'\n",
    "           }\n",
    "\n",
    "df_for_model.columns = [cols.get(x, x) for x in df_for_model.columns]\n",
    "df_for_model.sample(3)"
   ]
  },
  {
   "cell_type": "markdown",
   "id": "3182fbd6",
   "metadata": {},
   "source": [
    "Пропуски заполним нулями, т.к. они появились там, где всего 1 платёж.  \n",
    "добавим ещё признак - количество платежей в год"
   ]
  },
  {
   "cell_type": "code",
   "execution_count": 21,
   "id": "1e766e9f",
   "metadata": {},
   "outputs": [],
   "source": [
    "df_for_model['payments_per_year'] = df_for_model['payments_total']/df_for_model['total_years']\n",
    "df_for_model = df_for_model.drop(columns=['payments_total','total_years'])"
   ]
  },
  {
   "cell_type": "code",
   "execution_count": 22,
   "id": "08f45e82",
   "metadata": {
    "scrolled": true
   },
   "outputs": [
    {
     "data": {
      "text/html": [
       "<div>\n",
       "<style scoped>\n",
       "    .dataframe tbody tr th:only-of-type {\n",
       "        vertical-align: middle;\n",
       "    }\n",
       "\n",
       "    .dataframe tbody tr th {\n",
       "        vertical-align: top;\n",
       "    }\n",
       "\n",
       "    .dataframe thead th {\n",
       "        text-align: right;\n",
       "    }\n",
       "</style>\n",
       "<table border=\"1\" class=\"dataframe\">\n",
       "  <thead>\n",
       "    <tr style=\"text-align: right;\">\n",
       "      <th></th>\n",
       "      <th>mean_sum_per_day</th>\n",
       "      <th>std_sum_per_day</th>\n",
       "      <th>mean_reccurent</th>\n",
       "      <th>std_reccurent</th>\n",
       "      <th>total_for_fund</th>\n",
       "      <th>total_for_nan</th>\n",
       "      <th>total_for_programm</th>\n",
       "      <th>total_for_person</th>\n",
       "      <th>payments_per_year</th>\n",
       "    </tr>\n",
       "    <tr>\n",
       "      <th>id</th>\n",
       "      <th></th>\n",
       "      <th></th>\n",
       "      <th></th>\n",
       "      <th></th>\n",
       "      <th></th>\n",
       "      <th></th>\n",
       "      <th></th>\n",
       "      <th></th>\n",
       "      <th></th>\n",
       "    </tr>\n",
       "  </thead>\n",
       "  <tbody>\n",
       "    <tr>\n",
       "      <th>92ece61a-6f77-45e5-ac92-47c1965cb4a6</th>\n",
       "      <td>0.91</td>\n",
       "      <td>1.29</td>\n",
       "      <td>0.00</td>\n",
       "      <td>0.00</td>\n",
       "      <td>0</td>\n",
       "      <td>0</td>\n",
       "      <td>0</td>\n",
       "      <td>2</td>\n",
       "      <td>1.00</td>\n",
       "    </tr>\n",
       "    <tr>\n",
       "      <th>ce60aeec-3a6e-49ea-9606-5dc29b9fb07e</th>\n",
       "      <td>0.35</td>\n",
       "      <td>0.49</td>\n",
       "      <td>0.00</td>\n",
       "      <td>0.00</td>\n",
       "      <td>2</td>\n",
       "      <td>0</td>\n",
       "      <td>0</td>\n",
       "      <td>0</td>\n",
       "      <td>2.00</td>\n",
       "    </tr>\n",
       "    <tr>\n",
       "      <th>61b490c8-d05f-4756-9c02-01530fe2c3ed</th>\n",
       "      <td>0.00</td>\n",
       "      <td>0.00</td>\n",
       "      <td>0.00</td>\n",
       "      <td>0.00</td>\n",
       "      <td>0</td>\n",
       "      <td>1</td>\n",
       "      <td>0</td>\n",
       "      <td>0</td>\n",
       "      <td>1.00</td>\n",
       "    </tr>\n",
       "  </tbody>\n",
       "</table>\n",
       "</div>"
      ],
      "text/plain": [
       "                                      mean_sum_per_day  std_sum_per_day  \\\n",
       "id                                                                        \n",
       "92ece61a-6f77-45e5-ac92-47c1965cb4a6              0.91             1.29   \n",
       "ce60aeec-3a6e-49ea-9606-5dc29b9fb07e              0.35             0.49   \n",
       "61b490c8-d05f-4756-9c02-01530fe2c3ed              0.00             0.00   \n",
       "\n",
       "                                      mean_reccurent  std_reccurent  \\\n",
       "id                                                                    \n",
       "92ece61a-6f77-45e5-ac92-47c1965cb4a6            0.00           0.00   \n",
       "ce60aeec-3a6e-49ea-9606-5dc29b9fb07e            0.00           0.00   \n",
       "61b490c8-d05f-4756-9c02-01530fe2c3ed            0.00           0.00   \n",
       "\n",
       "                                      total_for_fund  total_for_nan  \\\n",
       "id                                                                    \n",
       "92ece61a-6f77-45e5-ac92-47c1965cb4a6               0              0   \n",
       "ce60aeec-3a6e-49ea-9606-5dc29b9fb07e               2              0   \n",
       "61b490c8-d05f-4756-9c02-01530fe2c3ed               0              1   \n",
       "\n",
       "                                      total_for_programm  total_for_person  \\\n",
       "id                                                                           \n",
       "92ece61a-6f77-45e5-ac92-47c1965cb4a6                   0                 2   \n",
       "ce60aeec-3a6e-49ea-9606-5dc29b9fb07e                   0                 0   \n",
       "61b490c8-d05f-4756-9c02-01530fe2c3ed                   0                 0   \n",
       "\n",
       "                                      payments_per_year  \n",
       "id                                                       \n",
       "92ece61a-6f77-45e5-ac92-47c1965cb4a6               1.00  \n",
       "ce60aeec-3a6e-49ea-9606-5dc29b9fb07e               2.00  \n",
       "61b490c8-d05f-4756-9c02-01530fe2c3ed               1.00  "
      ]
     },
     "execution_count": 22,
     "metadata": {},
     "output_type": "execute_result"
    }
   ],
   "source": [
    "df_for_model = df_for_model.fillna(0)\n",
    "df_for_model.sample(3)"
   ]
  },
  {
   "cell_type": "code",
   "execution_count": 23,
   "id": "236d97c8",
   "metadata": {},
   "outputs": [
    {
     "data": {
      "image/png": "[encoded data removed]",
      "text/plain": [
       "<Figure size 720x720 with 2 Axes>"
      ]
     },
     "metadata": {
      "needs_background": "light"
     },
     "output_type": "display_data"
    }
   ],
   "source": [
    "fig = plt.figure(figsize=(10,10))\n",
    "sns.heatmap(df_for_model.corr(), annot=True);"
   ]
  },
  {
   "cell_type": "code",
   "execution_count": 24,
   "id": "fd9bd9e3",
   "metadata": {},
   "outputs": [
    {
     "data": {
      "image/png": "[encoded data removed]",
      "text/plain": [
       "<Figure size 720x720 with 2 Axes>"
      ]
     },
     "metadata": {
      "needs_background": "light"
     },
     "output_type": "display_data"
    }
   ],
   "source": [
    "fig = plt.figure(figsize=(10,10))\n",
    "sns.heatmap(df_for_model.drop(columns=['payments_per_year','std_sum_per_day','mean_reccurent']).corr(), annot=True);"
   ]
  },
  {
   "cell_type": "code",
   "execution_count": 25,
   "id": "590e7d0f",
   "metadata": {},
   "outputs": [
    {
     "data": {
      "text/html": [
       "<div>\n",
       "<style scoped>\n",
       "    .dataframe tbody tr th:only-of-type {\n",
       "        vertical-align: middle;\n",
       "    }\n",
       "\n",
       "    .dataframe tbody tr th {\n",
       "        vertical-align: top;\n",
       "    }\n",
       "\n",
       "    .dataframe thead th {\n",
       "        text-align: right;\n",
       "    }\n",
       "</style>\n",
       "<table border=\"1\" class=\"dataframe\">\n",
       "  <thead>\n",
       "    <tr style=\"text-align: right;\">\n",
       "      <th></th>\n",
       "      <th>id</th>\n",
       "      <th>sum</th>\n",
       "      <th>is_reccurent</th>\n",
       "      <th>purpose</th>\n",
       "      <th>channel</th>\n",
       "      <th>gender</th>\n",
       "      <th>city</th>\n",
       "      <th>last_email_activity</th>\n",
       "      <th>payment_date</th>\n",
       "      <th>payment_time</th>\n",
       "      <th>...</th>\n",
       "      <th>электросталь</th>\n",
       "      <th>элиста</th>\n",
       "      <th>юбилейный</th>\n",
       "      <th>южно-сахалинск</th>\n",
       "      <th>якутск</th>\n",
       "      <th>ярково</th>\n",
       "      <th>ярославль</th>\n",
       "      <th>is_delta_lifetime_decrease</th>\n",
       "      <th>is_delta_sum_increase</th>\n",
       "      <th>is_target_group</th>\n",
       "    </tr>\n",
       "  </thead>\n",
       "  <tbody>\n",
       "    <tr>\n",
       "      <th>13996</th>\n",
       "      <td>daccf84d-6de5-4221-8d82-b219a234e83e</td>\n",
       "      <td>1,000.00</td>\n",
       "      <td>1</td>\n",
       "      <td>адресное пожертвование</td>\n",
       "      <td>банковские карты</td>\n",
       "      <td>женский                                       ...</td>\n",
       "      <td>NaN</td>\n",
       "      <td>2022-07-18</td>\n",
       "      <td>2021-04-02</td>\n",
       "      <td>23</td>\n",
       "      <td>...</td>\n",
       "      <td>0</td>\n",
       "      <td>0</td>\n",
       "      <td>0</td>\n",
       "      <td>0</td>\n",
       "      <td>0</td>\n",
       "      <td>0</td>\n",
       "      <td>0</td>\n",
       "      <td>0</td>\n",
       "      <td>1</td>\n",
       "      <td>1</td>\n",
       "    </tr>\n",
       "    <tr>\n",
       "      <th>4307</th>\n",
       "      <td>e4b35f98-6848-45ea-8059-8f27aea6a3af</td>\n",
       "      <td>1,000.00</td>\n",
       "      <td>0</td>\n",
       "      <td>адресное пожертвование</td>\n",
       "      <td>банковские карты</td>\n",
       "      <td>женский                                       ...</td>\n",
       "      <td>NaN</td>\n",
       "      <td>2022-07-18</td>\n",
       "      <td>2019-09-10</td>\n",
       "      <td>14</td>\n",
       "      <td>...</td>\n",
       "      <td>0</td>\n",
       "      <td>0</td>\n",
       "      <td>0</td>\n",
       "      <td>0</td>\n",
       "      <td>0</td>\n",
       "      <td>0</td>\n",
       "      <td>0</td>\n",
       "      <td>1</td>\n",
       "      <td>1</td>\n",
       "      <td>1</td>\n",
       "    </tr>\n",
       "    <tr>\n",
       "      <th>1188</th>\n",
       "      <td>da25159c-c588-4096-afa8-41f8aa85fe1e</td>\n",
       "      <td>500.00</td>\n",
       "      <td>0</td>\n",
       "      <td>адресное пожертвование</td>\n",
       "      <td>банковские карты</td>\n",
       "      <td>мужской                                       ...</td>\n",
       "      <td>санкт-петербург</td>\n",
       "      <td>2022-07-25</td>\n",
       "      <td>2022-05-30</td>\n",
       "      <td>12</td>\n",
       "      <td>...</td>\n",
       "      <td>0</td>\n",
       "      <td>0</td>\n",
       "      <td>0</td>\n",
       "      <td>0</td>\n",
       "      <td>0</td>\n",
       "      <td>0</td>\n",
       "      <td>0</td>\n",
       "      <td>1</td>\n",
       "      <td>1</td>\n",
       "      <td>1</td>\n",
       "    </tr>\n",
       "  </tbody>\n",
       "</table>\n",
       "<p>3 rows × 253 columns</p>\n",
       "</div>"
      ],
      "text/plain": [
       "                                         id      sum  is_reccurent  \\\n",
       "13996  daccf84d-6de5-4221-8d82-b219a234e83e 1,000.00             1   \n",
       "4307   e4b35f98-6848-45ea-8059-8f27aea6a3af 1,000.00             0   \n",
       "1188   da25159c-c588-4096-afa8-41f8aa85fe1e   500.00             0   \n",
       "\n",
       "                      purpose             channel  \\\n",
       "13996  адресное пожертвование  банковские карты     \n",
       "4307   адресное пожертвование  банковские карты     \n",
       "1188   адресное пожертвование  банковские карты     \n",
       "\n",
       "                                                  gender             city  \\\n",
       "13996  женский                                       ...              NaN   \n",
       "4307   женский                                       ...              NaN   \n",
       "1188   мужской                                       ...  санкт-петербург   \n",
       "\n",
       "      last_email_activity payment_date  payment_time  ...  электросталь  \\\n",
       "13996          2022-07-18   2021-04-02            23  ...             0   \n",
       "4307           2022-07-18   2019-09-10            14  ...             0   \n",
       "1188           2022-07-25   2022-05-30            12  ...             0   \n",
       "\n",
       "       элиста  юбилейный  южно-сахалинск  якутск  ярково  ярославль  \\\n",
       "13996       0          0               0       0       0          0   \n",
       "4307        0          0               0       0       0          0   \n",
       "1188        0          0               0       0       0          0   \n",
       "\n",
       "       is_delta_lifetime_decrease  is_delta_sum_increase  is_target_group  \n",
       "13996                           0                      1                1  \n",
       "4307                            1                      1                1  \n",
       "1188                            1                      1                1  \n",
       "\n",
       "[3 rows x 253 columns]"
      ]
     },
     "execution_count": 25,
     "metadata": {},
     "output_type": "execute_result"
    }
   ],
   "source": [
    "# Разметим целевую переменную\n",
    "df['is_delta_lifetime_decrease'] = df.groupby('id')['life_time'].apply(lambda x: x.diff().fillna(0))\n",
    "df['is_delta_lifetime_decrease'] = df['is_delta_lifetime_decrease'].apply(lambda x: 1 if x<=0 else 0)\n",
    "\n",
    "df['is_delta_sum_increase'] = df.groupby('id')['sum'].apply(lambda x: x.diff().fillna(0))\n",
    "df['is_delta_sum_increase'] = df['is_delta_sum_increase'].apply(lambda x: 1 if x>=0 else 0)\n",
    "\n",
    "df['is_target_group'] = df['is_delta_lifetime_decrease'] + df['is_delta_sum_increase']\n",
    "df['is_target_group'] = df['is_target_group'].apply(lambda x: 0 if x==0 else 1)\n",
    "\n",
    "df.sample(3)"
   ]
  },
  {
   "cell_type": "code",
   "execution_count": 26,
   "id": "86c47f94",
   "metadata": {},
   "outputs": [],
   "source": [
    "df['payment_date'] = pd.to_datetime(df['payment_date'])\n",
    "df['year_quarter'] = df['payment_date'].apply(lambda x: 1 if (x.month in [1,2,3]) else (2 if (x.month in [4,5,6]) else (3 if (x.month in [7,8,9]) else 4)))"
   ]
  },
  {
   "cell_type": "code",
   "execution_count": 27,
   "id": "14251285",
   "metadata": {},
   "outputs": [
    {
     "data": {
      "text/html": [
       "<div>\n",
       "<style scoped>\n",
       "    .dataframe tbody tr th:only-of-type {\n",
       "        vertical-align: middle;\n",
       "    }\n",
       "\n",
       "    .dataframe tbody tr th {\n",
       "        vertical-align: top;\n",
       "    }\n",
       "\n",
       "    .dataframe thead th {\n",
       "        text-align: right;\n",
       "    }\n",
       "</style>\n",
       "<table border=\"1\" class=\"dataframe\">\n",
       "  <thead>\n",
       "    <tr style=\"text-align: right;\">\n",
       "      <th></th>\n",
       "      <th>id</th>\n",
       "      <th>payment_year</th>\n",
       "      <th>year_quarter</th>\n",
       "      <th>sum</th>\n",
       "      <th>life_time</th>\n",
       "    </tr>\n",
       "  </thead>\n",
       "  <tbody>\n",
       "    <tr>\n",
       "      <th>0</th>\n",
       "      <td>0001afdd-94e3-48f3-b5e7-d5539700425e</td>\n",
       "      <td>2019</td>\n",
       "      <td>2</td>\n",
       "      <td>100.00</td>\n",
       "      <td>0</td>\n",
       "    </tr>\n",
       "    <tr>\n",
       "      <th>1</th>\n",
       "      <td>000711b2-2785-461b-bf5b-5cb7d2caba20</td>\n",
       "      <td>2020</td>\n",
       "      <td>1</td>\n",
       "      <td>500.00</td>\n",
       "      <td>0</td>\n",
       "    </tr>\n",
       "    <tr>\n",
       "      <th>2</th>\n",
       "      <td>000711b2-2785-461b-bf5b-5cb7d2caba20</td>\n",
       "      <td>2020</td>\n",
       "      <td>2</td>\n",
       "      <td>1,000.00</td>\n",
       "      <td>62</td>\n",
       "    </tr>\n",
       "    <tr>\n",
       "      <th>3</th>\n",
       "      <td>000711b2-2785-461b-bf5b-5cb7d2caba20</td>\n",
       "      <td>2020</td>\n",
       "      <td>3</td>\n",
       "      <td>1,000.00</td>\n",
       "      <td>91</td>\n",
       "    </tr>\n",
       "    <tr>\n",
       "      <th>4</th>\n",
       "      <td>000711b2-2785-461b-bf5b-5cb7d2caba20</td>\n",
       "      <td>2020</td>\n",
       "      <td>4</td>\n",
       "      <td>1,500.00</td>\n",
       "      <td>122</td>\n",
       "    </tr>\n",
       "    <tr>\n",
       "      <th>...</th>\n",
       "      <td>...</td>\n",
       "      <td>...</td>\n",
       "      <td>...</td>\n",
       "      <td>...</td>\n",
       "      <td>...</td>\n",
       "    </tr>\n",
       "    <tr>\n",
       "      <th>7480</th>\n",
       "      <td>ffa30123-a516-44a7-b030-f83ed369b645</td>\n",
       "      <td>2022</td>\n",
       "      <td>2</td>\n",
       "      <td>600.00</td>\n",
       "      <td>433</td>\n",
       "    </tr>\n",
       "    <tr>\n",
       "      <th>7481</th>\n",
       "      <td>ffa30123-a516-44a7-b030-f83ed369b645</td>\n",
       "      <td>2022</td>\n",
       "      <td>3</td>\n",
       "      <td>200.00</td>\n",
       "      <td>31</td>\n",
       "    </tr>\n",
       "    <tr>\n",
       "      <th>7482</th>\n",
       "      <td>ffb1c4fa-f950-4bb7-a1f2-9dd655298fff</td>\n",
       "      <td>2019</td>\n",
       "      <td>2</td>\n",
       "      <td>100.00</td>\n",
       "      <td>0</td>\n",
       "    </tr>\n",
       "    <tr>\n",
       "      <th>7483</th>\n",
       "      <td>ffccba23-89ca-4a22-bd8a-7cad2d9eb7f7</td>\n",
       "      <td>2021</td>\n",
       "      <td>3</td>\n",
       "      <td>60.00</td>\n",
       "      <td>21</td>\n",
       "    </tr>\n",
       "    <tr>\n",
       "      <th>7484</th>\n",
       "      <td>ffebaa14-fde5-4a6d-9363-fe84a18d68bc</td>\n",
       "      <td>2017</td>\n",
       "      <td>2</td>\n",
       "      <td>500.00</td>\n",
       "      <td>0</td>\n",
       "    </tr>\n",
       "  </tbody>\n",
       "</table>\n",
       "<p>7485 rows × 5 columns</p>\n",
       "</div>"
      ],
      "text/plain": [
       "                                        id  payment_year  year_quarter  \\\n",
       "0     0001afdd-94e3-48f3-b5e7-d5539700425e          2019             2   \n",
       "1     000711b2-2785-461b-bf5b-5cb7d2caba20          2020             1   \n",
       "2     000711b2-2785-461b-bf5b-5cb7d2caba20          2020             2   \n",
       "3     000711b2-2785-461b-bf5b-5cb7d2caba20          2020             3   \n",
       "4     000711b2-2785-461b-bf5b-5cb7d2caba20          2020             4   \n",
       "...                                    ...           ...           ...   \n",
       "7480  ffa30123-a516-44a7-b030-f83ed369b645          2022             2   \n",
       "7481  ffa30123-a516-44a7-b030-f83ed369b645          2022             3   \n",
       "7482  ffb1c4fa-f950-4bb7-a1f2-9dd655298fff          2019             2   \n",
       "7483  ffccba23-89ca-4a22-bd8a-7cad2d9eb7f7          2021             3   \n",
       "7484  ffebaa14-fde5-4a6d-9363-fe84a18d68bc          2017             2   \n",
       "\n",
       "          sum  life_time  \n",
       "0      100.00          0  \n",
       "1      500.00          0  \n",
       "2    1,000.00         62  \n",
       "3    1,000.00         91  \n",
       "4    1,500.00        122  \n",
       "...       ...        ...  \n",
       "7480   600.00        433  \n",
       "7481   200.00         31  \n",
       "7482   100.00          0  \n",
       "7483    60.00         21  \n",
       "7484   500.00          0  \n",
       "\n",
       "[7485 rows x 5 columns]"
      ]
     },
     "execution_count": 27,
     "metadata": {},
     "output_type": "execute_result"
    }
   ],
   "source": [
    "df_total_sum_lifetime = df.groupby(['id','payment_year','year_quarter']).agg({'sum':'sum','life_time':'sum'}).reset_index()\n",
    "df_total_sum_lifetime\n"
   ]
  },
  {
   "cell_type": "code",
   "execution_count": 28,
   "id": "3914d177",
   "metadata": {},
   "outputs": [
    {
     "data": {
      "text/html": [
       "<div>\n",
       "<style scoped>\n",
       "    .dataframe tbody tr th:only-of-type {\n",
       "        vertical-align: middle;\n",
       "    }\n",
       "\n",
       "    .dataframe tbody tr th {\n",
       "        vertical-align: top;\n",
       "    }\n",
       "\n",
       "    .dataframe thead th {\n",
       "        text-align: right;\n",
       "    }\n",
       "</style>\n",
       "<table border=\"1\" class=\"dataframe\">\n",
       "  <thead>\n",
       "    <tr style=\"text-align: right;\">\n",
       "      <th></th>\n",
       "      <th>id</th>\n",
       "      <th>payment_year</th>\n",
       "      <th>year_quarter</th>\n",
       "      <th>sum</th>\n",
       "      <th>life_time</th>\n",
       "    </tr>\n",
       "  </thead>\n",
       "  <tbody>\n",
       "    <tr>\n",
       "      <th>2</th>\n",
       "      <td>000711b2-2785-461b-bf5b-5cb7d2caba20</td>\n",
       "      <td>2020</td>\n",
       "      <td>2</td>\n",
       "      <td>1,000.00</td>\n",
       "      <td>62</td>\n",
       "    </tr>\n",
       "    <tr>\n",
       "      <th>3</th>\n",
       "      <td>000711b2-2785-461b-bf5b-5cb7d2caba20</td>\n",
       "      <td>2020</td>\n",
       "      <td>3</td>\n",
       "      <td>1,000.00</td>\n",
       "      <td>91</td>\n",
       "    </tr>\n",
       "    <tr>\n",
       "      <th>4</th>\n",
       "      <td>000711b2-2785-461b-bf5b-5cb7d2caba20</td>\n",
       "      <td>2020</td>\n",
       "      <td>4</td>\n",
       "      <td>1,500.00</td>\n",
       "      <td>122</td>\n",
       "    </tr>\n",
       "    <tr>\n",
       "      <th>5</th>\n",
       "      <td>000711b2-2785-461b-bf5b-5cb7d2caba20</td>\n",
       "      <td>2021</td>\n",
       "      <td>1</td>\n",
       "      <td>1,000.00</td>\n",
       "      <td>90</td>\n",
       "    </tr>\n",
       "    <tr>\n",
       "      <th>6</th>\n",
       "      <td>000711b2-2785-461b-bf5b-5cb7d2caba20</td>\n",
       "      <td>2021</td>\n",
       "      <td>2</td>\n",
       "      <td>1,500.00</td>\n",
       "      <td>92</td>\n",
       "    </tr>\n",
       "    <tr>\n",
       "      <th>...</th>\n",
       "      <td>...</td>\n",
       "      <td>...</td>\n",
       "      <td>...</td>\n",
       "      <td>...</td>\n",
       "      <td>...</td>\n",
       "    </tr>\n",
       "    <tr>\n",
       "      <th>7478</th>\n",
       "      <td>ffa30123-a516-44a7-b030-f83ed369b645</td>\n",
       "      <td>2020</td>\n",
       "      <td>4</td>\n",
       "      <td>900.00</td>\n",
       "      <td>91</td>\n",
       "    </tr>\n",
       "    <tr>\n",
       "      <th>7479</th>\n",
       "      <td>ffa30123-a516-44a7-b030-f83ed369b645</td>\n",
       "      <td>2021</td>\n",
       "      <td>1</td>\n",
       "      <td>1,000.00</td>\n",
       "      <td>90</td>\n",
       "    </tr>\n",
       "    <tr>\n",
       "      <th>7480</th>\n",
       "      <td>ffa30123-a516-44a7-b030-f83ed369b645</td>\n",
       "      <td>2022</td>\n",
       "      <td>2</td>\n",
       "      <td>600.00</td>\n",
       "      <td>433</td>\n",
       "    </tr>\n",
       "    <tr>\n",
       "      <th>7481</th>\n",
       "      <td>ffa30123-a516-44a7-b030-f83ed369b645</td>\n",
       "      <td>2022</td>\n",
       "      <td>3</td>\n",
       "      <td>200.00</td>\n",
       "      <td>31</td>\n",
       "    </tr>\n",
       "    <tr>\n",
       "      <th>7483</th>\n",
       "      <td>ffccba23-89ca-4a22-bd8a-7cad2d9eb7f7</td>\n",
       "      <td>2021</td>\n",
       "      <td>3</td>\n",
       "      <td>60.00</td>\n",
       "      <td>21</td>\n",
       "    </tr>\n",
       "  </tbody>\n",
       "</table>\n",
       "<p>4195 rows × 5 columns</p>\n",
       "</div>"
      ],
      "text/plain": [
       "                                        id  payment_year  year_quarter  \\\n",
       "2     000711b2-2785-461b-bf5b-5cb7d2caba20          2020             2   \n",
       "3     000711b2-2785-461b-bf5b-5cb7d2caba20          2020             3   \n",
       "4     000711b2-2785-461b-bf5b-5cb7d2caba20          2020             4   \n",
       "5     000711b2-2785-461b-bf5b-5cb7d2caba20          2021             1   \n",
       "6     000711b2-2785-461b-bf5b-5cb7d2caba20          2021             2   \n",
       "...                                    ...           ...           ...   \n",
       "7478  ffa30123-a516-44a7-b030-f83ed369b645          2020             4   \n",
       "7479  ffa30123-a516-44a7-b030-f83ed369b645          2021             1   \n",
       "7480  ffa30123-a516-44a7-b030-f83ed369b645          2022             2   \n",
       "7481  ffa30123-a516-44a7-b030-f83ed369b645          2022             3   \n",
       "7483  ffccba23-89ca-4a22-bd8a-7cad2d9eb7f7          2021             3   \n",
       "\n",
       "          sum  life_time  \n",
       "2    1,000.00         62  \n",
       "3    1,000.00         91  \n",
       "4    1,500.00        122  \n",
       "5    1,000.00         90  \n",
       "6    1,500.00         92  \n",
       "...       ...        ...  \n",
       "7478   900.00         91  \n",
       "7479 1,000.00         90  \n",
       "7480   600.00        433  \n",
       "7481   200.00         31  \n",
       "7483    60.00         21  \n",
       "\n",
       "[4195 rows x 5 columns]"
      ]
     },
     "execution_count": 28,
     "metadata": {},
     "output_type": "execute_result"
    }
   ],
   "source": [
    "df_total_sum_lifetime[df_total_sum_lifetime['life_time']>0]"
   ]
  },
  {
   "cell_type": "code",
   "execution_count": 29,
   "id": "f94a5592",
   "metadata": {},
   "outputs": [
    {
     "data": {
      "text/plain": [
       "inf       3290\n",
       "16.30      248\n",
       "3.26       179\n",
       "16.67      159\n",
       "16.48      153\n",
       "          ... \n",
       "3.80         1\n",
       "10.14        1\n",
       "14.39        1\n",
       "688.53       1\n",
       "114.75       1\n",
       "Name: sum_in_lifetime, Length: 1237, dtype: int64"
      ]
     },
     "execution_count": 29,
     "metadata": {},
     "output_type": "execute_result"
    }
   ],
   "source": [
    "df_total_sum_lifetime['sum_in_lifetime'] = df_total_sum_lifetime['sum']/df_total_sum_lifetime['life_time']\n",
    "df_total_sum_lifetime['sum_in_lifetime'].value_counts()"
   ]
  },
  {
   "cell_type": "code",
   "execution_count": 30,
   "id": "eb44d096",
   "metadata": {},
   "outputs": [],
   "source": [
    "df_without_nan = df.dropna()"
   ]
  },
  {
   "cell_type": "code",
   "execution_count": 31,
   "id": "6523c6b7",
   "metadata": {},
   "outputs": [
    {
     "data": {
      "text/plain": [
       "'Несколько строк: '"
      ]
     },
     "metadata": {},
     "output_type": "display_data"
    },
    {
     "data": {
      "text/html": [
       "<div>\n",
       "<style scoped>\n",
       "    .dataframe tbody tr th:only-of-type {\n",
       "        vertical-align: middle;\n",
       "    }\n",
       "\n",
       "    .dataframe tbody tr th {\n",
       "        vertical-align: top;\n",
       "    }\n",
       "\n",
       "    .dataframe thead th {\n",
       "        text-align: right;\n",
       "    }\n",
       "</style>\n",
       "<table border=\"1\" class=\"dataframe\">\n",
       "  <thead>\n",
       "    <tr style=\"text-align: right;\">\n",
       "      <th></th>\n",
       "      <th>id</th>\n",
       "      <th>sum</th>\n",
       "      <th>is_reccurent</th>\n",
       "      <th>purpose</th>\n",
       "      <th>channel</th>\n",
       "      <th>gender</th>\n",
       "      <th>city</th>\n",
       "      <th>last_email_activity</th>\n",
       "      <th>payment_date</th>\n",
       "      <th>payment_time</th>\n",
       "      <th>...</th>\n",
       "      <th>элиста</th>\n",
       "      <th>юбилейный</th>\n",
       "      <th>южно-сахалинск</th>\n",
       "      <th>якутск</th>\n",
       "      <th>ярково</th>\n",
       "      <th>ярославль</th>\n",
       "      <th>is_delta_lifetime_decrease</th>\n",
       "      <th>is_delta_sum_increase</th>\n",
       "      <th>is_target_group</th>\n",
       "      <th>year_quarter</th>\n",
       "    </tr>\n",
       "  </thead>\n",
       "  <tbody>\n",
       "    <tr>\n",
       "      <th>10663</th>\n",
       "      <td>7eb5c95c-6ae8-4778-b273-9447760b13bf</td>\n",
       "      <td>1,000.00</td>\n",
       "      <td>1</td>\n",
       "      <td>адресное пожертвование</td>\n",
       "      <td>банковские карты</td>\n",
       "      <td>женский                                       ...</td>\n",
       "      <td>москва</td>\n",
       "      <td>2022-07-25</td>\n",
       "      <td>2021-08-30</td>\n",
       "      <td>9</td>\n",
       "      <td>...</td>\n",
       "      <td>0</td>\n",
       "      <td>0</td>\n",
       "      <td>0</td>\n",
       "      <td>0</td>\n",
       "      <td>0</td>\n",
       "      <td>0</td>\n",
       "      <td>0</td>\n",
       "      <td>1</td>\n",
       "      <td>1</td>\n",
       "      <td>3</td>\n",
       "    </tr>\n",
       "    <tr>\n",
       "      <th>6269</th>\n",
       "      <td>a42a325c-b751-4475-af45-9e3dc64e71e6</td>\n",
       "      <td>300.00</td>\n",
       "      <td>0</td>\n",
       "      <td>адресное пожертвование</td>\n",
       "      <td>банковские карты</td>\n",
       "      <td>женский                                       ...</td>\n",
       "      <td>москва</td>\n",
       "      <td>2022-07-18</td>\n",
       "      <td>2021-02-09</td>\n",
       "      <td>8</td>\n",
       "      <td>...</td>\n",
       "      <td>0</td>\n",
       "      <td>0</td>\n",
       "      <td>0</td>\n",
       "      <td>0</td>\n",
       "      <td>0</td>\n",
       "      <td>0</td>\n",
       "      <td>1</td>\n",
       "      <td>1</td>\n",
       "      <td>1</td>\n",
       "      <td>1</td>\n",
       "    </tr>\n",
       "    <tr>\n",
       "      <th>5484</th>\n",
       "      <td>67bed449-3429-4190-aa55-df8267b7a196</td>\n",
       "      <td>2,500.00</td>\n",
       "      <td>1</td>\n",
       "      <td>адресное пожертвование</td>\n",
       "      <td>банковские карты</td>\n",
       "      <td>мужской                                       ...</td>\n",
       "      <td>мытищи</td>\n",
       "      <td>2022-07-18</td>\n",
       "      <td>2020-03-01</td>\n",
       "      <td>14</td>\n",
       "      <td>...</td>\n",
       "      <td>0</td>\n",
       "      <td>0</td>\n",
       "      <td>0</td>\n",
       "      <td>0</td>\n",
       "      <td>0</td>\n",
       "      <td>0</td>\n",
       "      <td>1</td>\n",
       "      <td>1</td>\n",
       "      <td>1</td>\n",
       "      <td>1</td>\n",
       "    </tr>\n",
       "  </tbody>\n",
       "</table>\n",
       "<p>3 rows × 254 columns</p>\n",
       "</div>"
      ],
      "text/plain": [
       "                                         id      sum  is_reccurent  \\\n",
       "10663  7eb5c95c-6ae8-4778-b273-9447760b13bf 1,000.00             1   \n",
       "6269   a42a325c-b751-4475-af45-9e3dc64e71e6   300.00             0   \n",
       "5484   67bed449-3429-4190-aa55-df8267b7a196 2,500.00             1   \n",
       "\n",
       "                      purpose             channel  \\\n",
       "10663  адресное пожертвование  банковские карты     \n",
       "6269   адресное пожертвование  банковские карты     \n",
       "5484   адресное пожертвование  банковские карты     \n",
       "\n",
       "                                                  gender    city  \\\n",
       "10663  женский                                       ...  москва   \n",
       "6269   женский                                       ...  москва   \n",
       "5484   мужской                                       ...  мытищи   \n",
       "\n",
       "      last_email_activity payment_date  payment_time  ...  элиста  юбилейный  \\\n",
       "10663          2022-07-25   2021-08-30             9  ...       0          0   \n",
       "6269           2022-07-18   2021-02-09             8  ...       0          0   \n",
       "5484           2022-07-18   2020-03-01            14  ...       0          0   \n",
       "\n",
       "       южно-сахалинск  якутск  ярково  ярославль  is_delta_lifetime_decrease  \\\n",
       "10663               0       0       0          0                           0   \n",
       "6269                0       0       0          0                           1   \n",
       "5484                0       0       0          0                           1   \n",
       "\n",
       "       is_delta_sum_increase  is_target_group  year_quarter  \n",
       "10663                      1                1             3  \n",
       "6269                       1                1             1  \n",
       "5484                       1                1             1  \n",
       "\n",
       "[3 rows x 254 columns]"
      ]
     },
     "metadata": {},
     "output_type": "display_data"
    },
    {
     "data": {
      "text/plain": [
       "'Общая информация: '"
      ]
     },
     "metadata": {},
     "output_type": "display_data"
    },
    {
     "name": "stdout",
     "output_type": "stream",
     "text": [
      "<class 'pandas.core.frame.DataFrame'>\n",
      "Int64Index: 5762 entries, 3296 to 12171\n",
      "Columns: 254 entries, id to year_quarter\n",
      "dtypes: datetime64[ns](1), float64(3), int32(1), int64(7), object(6), uint8(236)\n",
      "memory usage: 2.1+ MB\n"
     ]
    },
    {
     "data": {
      "text/plain": [
       "'Дубликаты: '"
      ]
     },
     "metadata": {},
     "output_type": "display_data"
    },
    {
     "data": {
      "text/plain": [
       "65"
      ]
     },
     "metadata": {},
     "output_type": "display_data"
    },
    {
     "data": {
      "text/plain": [
       "'Уникальные значения в колонке id и их количество: '"
      ]
     },
     "metadata": {},
     "output_type": "display_data"
    },
    {
     "data": {
      "text/plain": [
       "85348172-f358-4345-91f1-db8cf0531c8a    73\n",
       "4ecb767f-8830-497b-b395-851d4eacd1f8    65\n",
       "b350a5c5-2001-407c-9c9f-fb98201d5daf    63\n",
       "193fbef8-9c3e-4581-bbdf-a5d3ef653ae1    62\n",
       "235eabc7-eadd-4ce5-b014-fe442bf6d4a0    53\n",
       "                                        ..\n",
       "f39d96bc-a76c-464f-b1cc-1f520fbbc835     1\n",
       "19e60bd5-f437-4236-992b-8f72cb2cd807     1\n",
       "1b95c3d1-81e9-4dc7-825a-fdb0a21a7b82     1\n",
       "60d8b11d-d9a8-43f1-84f6-e1f960795f93     1\n",
       "39e0a0da-872f-4dfd-b47e-06a2efa7e5a4     1\n",
       "Name: id, Length: 640, dtype: int64"
      ]
     },
     "metadata": {},
     "output_type": "display_data"
    },
    {
     "data": {
      "text/plain": [
       "'Уникальные значения в колонке sum и их количество: '"
      ]
     },
     "metadata": {},
     "output_type": "display_data"
    },
    {
     "data": {
      "text/plain": [
       "500.00        1576\n",
       "100.00         883\n",
       "300.00         839\n",
       "1,000.00       739\n",
       "200.00         494\n",
       "              ... \n",
       "340.00           1\n",
       "11,000.00        1\n",
       "22,400.00        1\n",
       "700,000.00       1\n",
       "444.00           1\n",
       "Name: sum, Length: 144, dtype: int64"
      ]
     },
     "metadata": {},
     "output_type": "display_data"
    },
    {
     "data": {
      "text/plain": [
       "'Уникальные значения в колонке is_reccurent и их количество: '"
      ]
     },
     "metadata": {},
     "output_type": "display_data"
    },
    {
     "data": {
      "text/plain": [
       "1    3921\n",
       "0    1841\n",
       "Name: is_reccurent, dtype: int64"
      ]
     },
     "metadata": {},
     "output_type": "display_data"
    },
    {
     "data": {
      "text/plain": [
       "'Уникальные значения в колонке purpose и их количество: '"
      ]
     },
     "metadata": {},
     "output_type": "display_data"
    },
    {
     "data": {
      "text/plain": [
       "адресное пожертвование    5082\n",
       "на работу фонда            573\n",
       "no_info                     68\n",
       "на программу                39\n",
       "Name: purpose, dtype: int64"
      ]
     },
     "metadata": {},
     "output_type": "display_data"
    },
    {
     "data": {
      "text/plain": [
       "'Уникальные значения в колонке channel и их количество: '"
      ]
     },
     "metadata": {},
     "output_type": "display_data"
    },
    {
     "data": {
      "text/plain": [
       "банковские карты                5635\n",
       "sms                               73\n",
       "прямые поступления на счет        51\n",
       "наличные в кассу                   3\n",
       "Name: channel, dtype: int64"
      ]
     },
     "metadata": {},
     "output_type": "display_data"
    },
    {
     "data": {
      "text/plain": [
       "'Уникальные значения в колонке gender и их количество: '"
      ]
     },
     "metadata": {},
     "output_type": "display_data"
    },
    {
     "data": {
      "text/plain": [
       "женский                                                                                                                                                                                                                                                       4557\n",
       "мужской                                                                                                                                                                                                                                                       1205\n",
       "Name: gender, dtype: int64"
      ]
     },
     "metadata": {},
     "output_type": "display_data"
    },
    {
     "data": {
      "text/plain": [
       "'Уникальные значения в колонке city и их количество: '"
      ]
     },
     "metadata": {},
     "output_type": "display_data"
    },
    {
     "data": {
      "text/plain": [
       "москва             3289\n",
       "санкт-петербург     430\n",
       "краснодар           218\n",
       "якутск              130\n",
       "екатеринбург         91\n",
       "                   ... \n",
       "туапсе                1\n",
       "ивантеевка            1\n",
       "ноябрьск              1\n",
       "landskrona            1\n",
       "салават               1\n",
       "Name: city, Length: 121, dtype: int64"
      ]
     },
     "metadata": {},
     "output_type": "display_data"
    },
    {
     "data": {
      "text/plain": [
       "'Уникальные значения в колонке last_email_activity и их количество: '"
      ]
     },
     "metadata": {},
     "output_type": "display_data"
    },
    {
     "data": {
      "text/plain": [
       "2022-07-18    4552\n",
       "2022-07-19     281\n",
       "2022-07-22     209\n",
       "2022-07-27     171\n",
       "2022-07-20      84\n",
       "2022-07-23      80\n",
       "2022-07-25      66\n",
       "2022-07-21      64\n",
       "2022-06-24      35\n",
       "2022-07-04      27\n",
       "2022-07-26      27\n",
       "2022-06-03      21\n",
       "2022-07-11      17\n",
       "2022-07-28      15\n",
       "2021-10-21      13\n",
       "2022-06-28      12\n",
       "2022-06-30      10\n",
       "2021-05-17       5\n",
       "2020-08-18       5\n",
       "2021-06-11       5\n",
       "2021-06-05       4\n",
       "2021-05-18       4\n",
       "2022-07-24       4\n",
       "2022-07-15       4\n",
       "2021-01-22       3\n",
       "2021-03-31       3\n",
       "2022-06-25       3\n",
       "2021-09-24       3\n",
       "2021-04-20       2\n",
       "2021-12-13       2\n",
       "2021-12-09       2\n",
       "2020-06-24       2\n",
       "2022-07-08       2\n",
       "2022-05-30       2\n",
       "2020-06-05       2\n",
       "2021-02-16       2\n",
       "2022-06-27       1\n",
       "2020-05-29       1\n",
       "2022-04-29       1\n",
       "2021-05-24       1\n",
       "2020-07-08       1\n",
       "2020-07-10       1\n",
       "2021-02-09       1\n",
       "2020-10-08       1\n",
       "2021-06-06       1\n",
       "2020-10-02       1\n",
       "2020-10-05       1\n",
       "2020-04-15       1\n",
       "2021-07-16       1\n",
       "2021-02-05       1\n",
       "2021-10-19       1\n",
       "2021-06-03       1\n",
       "2020-12-01       1\n",
       "2020-11-04       1\n",
       "2021-02-19       1\n",
       "Name: last_email_activity, dtype: int64"
      ]
     },
     "metadata": {},
     "output_type": "display_data"
    },
    {
     "data": {
      "text/plain": [
       "'Уникальные значения в колонке payment_date и их количество: '"
      ]
     },
     "metadata": {},
     "output_type": "display_data"
    },
    {
     "data": {
      "text/plain": [
       "2021-06-01    33\n",
       "2020-05-27    32\n",
       "2020-11-27    31\n",
       "2021-03-01    27\n",
       "2021-07-27    26\n",
       "              ..\n",
       "2018-05-17     1\n",
       "2019-02-16     1\n",
       "2015-09-14     1\n",
       "2020-10-04     1\n",
       "2020-07-17     1\n",
       "Name: payment_date, Length: 1446, dtype: int64"
      ]
     },
     "metadata": {},
     "output_type": "display_data"
    },
    {
     "data": {
      "text/plain": [
       "'Уникальные значения в колонке payment_time и их количество: '"
      ]
     },
     "metadata": {},
     "output_type": "display_data"
    },
    {
     "data": {
      "text/plain": [
       "16    471\n",
       "14    420\n",
       "12    401\n",
       "9     389\n",
       "21    386\n",
       "18    364\n",
       "22    343\n",
       "20    340\n",
       "10    328\n",
       "19    325\n",
       "17    324\n",
       "11    300\n",
       "13    271\n",
       "15    265\n",
       "8     210\n",
       "0     205\n",
       "23    184\n",
       "6      77\n",
       "7      60\n",
       "1      46\n",
       "2      25\n",
       "3      17\n",
       "4       6\n",
       "5       5\n",
       "Name: payment_time, dtype: int64"
      ]
     },
     "metadata": {},
     "output_type": "display_data"
    },
    {
     "data": {
      "text/plain": [
       "'Уникальные значения в колонке payment_year и их количество: '"
      ]
     },
     "metadata": {},
     "output_type": "display_data"
    },
    {
     "data": {
      "text/plain": [
       "2021    2287\n",
       "2020    1572\n",
       "2022    1063\n",
       "2019     439\n",
       "2018     153\n",
       "2017     148\n",
       "2016      73\n",
       "2015      27\n",
       "Name: payment_year, dtype: int64"
      ]
     },
     "metadata": {},
     "output_type": "display_data"
    },
    {
     "data": {
      "text/plain": [
       "'Уникальные значения в колонке is_woman и их количество: '"
      ]
     },
     "metadata": {},
     "output_type": "display_data"
    },
    {
     "data": {
      "text/plain": [
       "1.00    4557\n",
       "0.00    1205\n",
       "Name: is_woman, dtype: int64"
      ]
     },
     "metadata": {},
     "output_type": "display_data"
    },
    {
     "data": {
      "text/plain": [
       "'Уникальные значения в колонке life_time и их количество: '"
      ]
     },
     "metadata": {},
     "output_type": "display_data"
    },
    {
     "data": {
      "text/plain": [
       "31      1750\n",
       "30      1163\n",
       "0        913\n",
       "28       235\n",
       "29       151\n",
       "        ... \n",
       "397        1\n",
       "433        1\n",
       "441        1\n",
       "477        1\n",
       "1611       1\n",
       "Name: life_time, Length: 357, dtype: int64"
      ]
     },
     "metadata": {},
     "output_type": "display_data"
    },
    {
     "data": {
      "text/plain": [
       "'Уникальные значения в колонке mean_sum_per_day и их количество: '"
      ]
     },
     "metadata": {},
     "output_type": "display_data"
    },
    {
     "data": {
      "text/plain": [
       "0.00     913\n",
       "16.13    526\n",
       "16.67    369\n",
       "3.23     288\n",
       "9.68     259\n",
       "        ... \n",
       "2.49       1\n",
       "0.85       1\n",
       "63.83      1\n",
       "1.36       1\n",
       "15.87      1\n",
       "Name: mean_sum_per_day, Length: 717, dtype: int64"
      ]
     },
     "metadata": {},
     "output_type": "display_data"
    },
    {
     "data": {
      "text/plain": [
       "'Уникальные значения в колонке no_info и их количество: '"
      ]
     },
     "metadata": {},
     "output_type": "display_data"
    },
    {
     "data": {
      "text/plain": [
       "0    5694\n",
       "1      68\n",
       "Name: no_info, dtype: int64"
      ]
     },
     "metadata": {},
     "output_type": "display_data"
    },
    {
     "data": {
      "text/plain": [
       "'Уникальные значения в колонке адресное пожертвование и их количество: '"
      ]
     },
     "metadata": {},
     "output_type": "display_data"
    },
    {
     "data": {
      "text/plain": [
       "1    5082\n",
       "0     680\n",
       "Name: адресное пожертвование, dtype: int64"
      ]
     },
     "metadata": {},
     "output_type": "display_data"
    },
    {
     "data": {
      "text/plain": [
       "'Уникальные значения в колонке на программу и их количество: '"
      ]
     },
     "metadata": {},
     "output_type": "display_data"
    },
    {
     "data": {
      "text/plain": [
       "0    5723\n",
       "1      39\n",
       "Name: на программу, dtype: int64"
      ]
     },
     "metadata": {},
     "output_type": "display_data"
    },
    {
     "data": {
      "text/plain": [
       "'Уникальные значения в колонке на работу фонда и их количество: '"
      ]
     },
     "metadata": {},
     "output_type": "display_data"
    },
    {
     "data": {
      "text/plain": [
       "0    5189\n",
       "1     573\n",
       "Name: на работу фонда, dtype: int64"
      ]
     },
     "metadata": {},
     "output_type": "display_data"
    },
    {
     "data": {
      "text/plain": [
       "'Уникальные значения в колонке sms   и их количество: '"
      ]
     },
     "metadata": {},
     "output_type": "display_data"
    },
    {
     "data": {
      "text/plain": [
       "0    5689\n",
       "1      73\n",
       "Name: sms  , dtype: int64"
      ]
     },
     "metadata": {},
     "output_type": "display_data"
    },
    {
     "data": {
      "text/plain": [
       "'Уникальные значения в колонке банковские карты   и их количество: '"
      ]
     },
     "metadata": {},
     "output_type": "display_data"
    },
    {
     "data": {
      "text/plain": [
       "1    5635\n",
       "0     127\n",
       "Name: банковские карты  , dtype: int64"
      ]
     },
     "metadata": {},
     "output_type": "display_data"
    },
    {
     "data": {
      "text/plain": [
       "'Уникальные значения в колонке наличные в кассу   и их количество: '"
      ]
     },
     "metadata": {},
     "output_type": "display_data"
    },
    {
     "data": {
      "text/plain": [
       "0    5759\n",
       "1       3\n",
       "Name: наличные в кассу  , dtype: int64"
      ]
     },
     "metadata": {},
     "output_type": "display_data"
    },
    {
     "data": {
      "text/plain": [
       "'Уникальные значения в колонке прямые поступления на счет   и их количество: '"
      ]
     },
     "metadata": {},
     "output_type": "display_data"
    },
    {
     "data": {
      "text/plain": [
       "0    5711\n",
       "1      51\n",
       "Name: прямые поступления на счет  , dtype: int64"
      ]
     },
     "metadata": {},
     "output_type": "display_data"
    },
    {
     "data": {
      "text/plain": [
       "'Уникальные значения в колонке  большое полпино и их количество: '"
      ]
     },
     "metadata": {},
     "output_type": "display_data"
    },
    {
     "data": {
      "text/plain": [
       "0    5762\n",
       "Name:  большое полпино, dtype: int64"
      ]
     },
     "metadata": {},
     "output_type": "display_data"
    },
    {
     "data": {
      "text/plain": [
       "'Уникальные значения в колонке  набережные челны  и их количество: '"
      ]
     },
     "metadata": {},
     "output_type": "display_data"
    },
    {
     "data": {
      "text/plain": [
       "0    5762\n",
       "Name:  набережные челны , dtype: int64"
      ]
     },
     "metadata": {},
     "output_type": "display_data"
    },
    {
     "data": {
      "text/plain": [
       "'Уникальные значения в колонке alameda и их количество: '"
      ]
     },
     "metadata": {},
     "output_type": "display_data"
    },
    {
     "data": {
      "text/plain": [
       "0    5757\n",
       "1       5\n",
       "Name: alameda, dtype: int64"
      ]
     },
     "metadata": {},
     "output_type": "display_data"
    },
    {
     "data": {
      "text/plain": [
       "'Уникальные значения в колонке antalya и их количество: '"
      ]
     },
     "metadata": {},
     "output_type": "display_data"
    },
    {
     "data": {
      "text/plain": [
       "0    5761\n",
       "1       1\n",
       "Name: antalya, dtype: int64"
      ]
     },
     "metadata": {},
     "output_type": "display_data"
    },
    {
     "data": {
      "text/plain": [
       "'Уникальные значения в колонке bad voslau и их количество: '"
      ]
     },
     "metadata": {},
     "output_type": "display_data"
    },
    {
     "data": {
      "text/plain": [
       "0    5757\n",
       "1       5\n",
       "Name: bad voslau, dtype: int64"
      ]
     },
     "metadata": {},
     "output_type": "display_data"
    },
    {
     "data": {
      "text/plain": [
       "'Уникальные значения в колонке berlin и их количество: '"
      ]
     },
     "metadata": {},
     "output_type": "display_data"
    },
    {
     "data": {
      "text/plain": [
       "0    5762\n",
       "Name: berlin, dtype: int64"
      ]
     },
     "metadata": {},
     "output_type": "display_data"
    },
    {
     "data": {
      "text/plain": [
       "'Уникальные значения в колонке bristol и их количество: '"
      ]
     },
     "metadata": {},
     "output_type": "display_data"
    },
    {
     "data": {
      "text/plain": [
       "0    5758\n",
       "1       4\n",
       "Name: bristol, dtype: int64"
      ]
     },
     "metadata": {},
     "output_type": "display_data"
    },
    {
     "data": {
      "text/plain": [
       "'Уникальные значения в колонке brooklyn и их количество: '"
      ]
     },
     "metadata": {},
     "output_type": "display_data"
    },
    {
     "data": {
      "text/plain": [
       "0    5762\n",
       "Name: brooklyn, dtype: int64"
      ]
     },
     "metadata": {},
     "output_type": "display_data"
    },
    {
     "data": {
      "text/plain": [
       "'Уникальные значения в колонке charleston и их количество: '"
      ]
     },
     "metadata": {},
     "output_type": "display_data"
    },
    {
     "data": {
      "text/plain": [
       "0    5712\n",
       "1      50\n",
       "Name: charleston, dtype: int64"
      ]
     },
     "metadata": {},
     "output_type": "display_data"
    },
    {
     "data": {
      "text/plain": [
       "'Уникальные значения в колонке charlestown и их количество: '"
      ]
     },
     "metadata": {},
     "output_type": "display_data"
    },
    {
     "data": {
      "text/plain": [
       "0    5761\n",
       "1       1\n",
       "Name: charlestown, dtype: int64"
      ]
     },
     "metadata": {},
     "output_type": "display_data"
    },
    {
     "data": {
      "text/plain": [
       "'Уникальные значения в колонке copenhagen и их количество: '"
      ]
     },
     "metadata": {},
     "output_type": "display_data"
    },
    {
     "data": {
      "text/plain": [
       "0    5751\n",
       "1      11\n",
       "Name: copenhagen, dtype: int64"
      ]
     },
     "metadata": {},
     "output_type": "display_data"
    },
    {
     "data": {
      "text/plain": [
       "'Уникальные значения в колонке denver и их количество: '"
      ]
     },
     "metadata": {},
     "output_type": "display_data"
    },
    {
     "data": {
      "text/plain": [
       "0    5762\n",
       "Name: denver, dtype: int64"
      ]
     },
     "metadata": {},
     "output_type": "display_data"
    },
    {
     "data": {
      "text/plain": [
       "'Уникальные значения в колонке fort lauderdale и их количество: '"
      ]
     },
     "metadata": {},
     "output_type": "display_data"
    },
    {
     "data": {
      "text/plain": [
       "0    5755\n",
       "1       7\n",
       "Name: fort lauderdale, dtype: int64"
      ]
     },
     "metadata": {},
     "output_type": "display_data"
    },
    {
     "data": {
      "text/plain": [
       "'Уникальные значения в колонке frankfurt am main и их количество: '"
      ]
     },
     "metadata": {},
     "output_type": "display_data"
    },
    {
     "data": {
      "text/plain": [
       "0    5762\n",
       "Name: frankfurt am main, dtype: int64"
      ]
     },
     "metadata": {},
     "output_type": "display_data"
    },
    {
     "data": {
      "text/plain": [
       "'Уникальные значения в колонке garching bei munchen и их количество: '"
      ]
     },
     "metadata": {},
     "output_type": "display_data"
    },
    {
     "data": {
      "text/plain": [
       "0    5761\n",
       "1       1\n",
       "Name: garching bei munchen, dtype: int64"
      ]
     },
     "metadata": {},
     "output_type": "display_data"
    },
    {
     "data": {
      "text/plain": [
       "'Уникальные значения в колонке helsinki и их количество: '"
      ]
     },
     "metadata": {},
     "output_type": "display_data"
    },
    {
     "data": {
      "text/plain": [
       "0    5733\n",
       "1      29\n",
       "Name: helsinki, dtype: int64"
      ]
     },
     "metadata": {},
     "output_type": "display_data"
    },
    {
     "data": {
      "text/plain": [
       "'Уникальные значения в колонке herndon и их количество: '"
      ]
     },
     "metadata": {},
     "output_type": "display_data"
    },
    {
     "data": {
      "text/plain": [
       "0    5749\n",
       "1      13\n",
       "Name: herndon, dtype: int64"
      ]
     },
     "metadata": {},
     "output_type": "display_data"
    },
    {
     "data": {
      "text/plain": [
       "'Уникальные значения в колонке holon и их количество: '"
      ]
     },
     "metadata": {},
     "output_type": "display_data"
    },
    {
     "data": {
      "text/plain": [
       "0    5755\n",
       "1       7\n",
       "Name: holon, dtype: int64"
      ]
     },
     "metadata": {},
     "output_type": "display_data"
    },
    {
     "data": {
      "text/plain": [
       "'Уникальные значения в колонке hyderabad и их количество: '"
      ]
     },
     "metadata": {},
     "output_type": "display_data"
    },
    {
     "data": {
      "text/plain": [
       "0    5752\n",
       "1      10\n",
       "Name: hyderabad, dtype: int64"
      ]
     },
     "metadata": {},
     "output_type": "display_data"
    },
    {
     "data": {
      "text/plain": [
       "'Уникальные значения в колонке istanbul и их количество: '"
      ]
     },
     "metadata": {},
     "output_type": "display_data"
    },
    {
     "data": {
      "text/plain": [
       "0    5761\n",
       "1       1\n",
       "Name: istanbul, dtype: int64"
      ]
     },
     "metadata": {},
     "output_type": "display_data"
    },
    {
     "data": {
      "text/plain": [
       "'Уникальные значения в колонке jakarta и их количество: '"
      ]
     },
     "metadata": {},
     "output_type": "display_data"
    },
    {
     "data": {
      "text/plain": [
       "0    5756\n",
       "1       6\n",
       "Name: jakarta, dtype: int64"
      ]
     },
     "metadata": {},
     "output_type": "display_data"
    },
    {
     "data": {
      "text/plain": [
       "'Уникальные значения в колонке juba и их количество: '"
      ]
     },
     "metadata": {},
     "output_type": "display_data"
    },
    {
     "data": {
      "text/plain": [
       "0    5750\n",
       "1      12\n",
       "Name: juba, dtype: int64"
      ]
     },
     "metadata": {},
     "output_type": "display_data"
    },
    {
     "data": {
      "text/plain": [
       "'Уникальные значения в колонке keighley и их количество: '"
      ]
     },
     "metadata": {},
     "output_type": "display_data"
    },
    {
     "data": {
      "text/plain": [
       "0    5762\n",
       "Name: keighley, dtype: int64"
      ]
     },
     "metadata": {},
     "output_type": "display_data"
    },
    {
     "data": {
      "text/plain": [
       "'Уникальные значения в колонке landskrona и их количество: '"
      ]
     },
     "metadata": {},
     "output_type": "display_data"
    },
    {
     "data": {
      "text/plain": [
       "0    5761\n",
       "1       1\n",
       "Name: landskrona, dtype: int64"
      ]
     },
     "metadata": {},
     "output_type": "display_data"
    },
    {
     "data": {
      "text/plain": [
       "'Уникальные значения в колонке leawood и их количество: '"
      ]
     },
     "metadata": {},
     "output_type": "display_data"
    },
    {
     "data": {
      "text/plain": [
       "0    5762\n",
       "Name: leawood, dtype: int64"
      ]
     },
     "metadata": {},
     "output_type": "display_data"
    },
    {
     "data": {
      "text/plain": [
       "'Уникальные значения в колонке liberec и их количество: '"
      ]
     },
     "metadata": {},
     "output_type": "display_data"
    },
    {
     "data": {
      "text/plain": [
       "0    5760\n",
       "1       2\n",
       "Name: liberec, dtype: int64"
      ]
     },
     "metadata": {},
     "output_type": "display_data"
    },
    {
     "data": {
      "text/plain": [
       "'Уникальные значения в колонке london и их количество: '"
      ]
     },
     "metadata": {},
     "output_type": "display_data"
    },
    {
     "data": {
      "text/plain": [
       "0    5756\n",
       "1       6\n",
       "Name: london, dtype: int64"
      ]
     },
     "metadata": {},
     "output_type": "display_data"
    },
    {
     "data": {
      "text/plain": [
       "'Уникальные значения в колонке louisville и их количество: '"
      ]
     },
     "metadata": {},
     "output_type": "display_data"
    },
    {
     "data": {
      "text/plain": [
       "0    5761\n",
       "1       1\n",
       "Name: louisville, dtype: int64"
      ]
     },
     "metadata": {},
     "output_type": "display_data"
    },
    {
     "data": {
      "text/plain": [
       "'Уникальные значения в колонке lucca и их количество: '"
      ]
     },
     "metadata": {},
     "output_type": "display_data"
    },
    {
     "data": {
      "text/plain": [
       "0    5759\n",
       "1       3\n",
       "Name: lucca, dtype: int64"
      ]
     },
     "metadata": {},
     "output_type": "display_data"
    },
    {
     "data": {
      "text/plain": [
       "'Уникальные значения в колонке margate и их количество: '"
      ]
     },
     "metadata": {},
     "output_type": "display_data"
    },
    {
     "data": {
      "text/plain": [
       "0    5750\n",
       "1      12\n",
       "Name: margate, dtype: int64"
      ]
     },
     "metadata": {},
     "output_type": "display_data"
    },
    {
     "data": {
      "text/plain": [
       "'Уникальные значения в колонке naples и их количество: '"
      ]
     },
     "metadata": {},
     "output_type": "display_data"
    },
    {
     "data": {
      "text/plain": [
       "0    5762\n",
       "Name: naples, dtype: int64"
      ]
     },
     "metadata": {},
     "output_type": "display_data"
    },
    {
     "data": {
      "text/plain": [
       "'Уникальные значения в колонке podgorica и их количество: '"
      ]
     },
     "metadata": {},
     "output_type": "display_data"
    },
    {
     "data": {
      "text/plain": [
       "0    5761\n",
       "1       1\n",
       "Name: podgorica, dtype: int64"
      ]
     },
     "metadata": {},
     "output_type": "display_data"
    },
    {
     "data": {
      "text/plain": [
       "'Уникальные значения в колонке prague и их количество: '"
      ]
     },
     "metadata": {},
     "output_type": "display_data"
    },
    {
     "data": {
      "text/plain": [
       "0    5756\n",
       "1       6\n",
       "Name: prague, dtype: int64"
      ]
     },
     "metadata": {},
     "output_type": "display_data"
    },
    {
     "data": {
      "text/plain": [
       "'Уникальные значения в колонке riga и их количество: '"
      ]
     },
     "metadata": {},
     "output_type": "display_data"
    },
    {
     "data": {
      "text/plain": [
       "0    5757\n",
       "1       5\n",
       "Name: riga, dtype: int64"
      ]
     },
     "metadata": {},
     "output_type": "display_data"
    },
    {
     "data": {
      "text/plain": [
       "'Уникальные значения в колонке saint-etienne-de-valoux и их количество: '"
      ]
     },
     "metadata": {},
     "output_type": "display_data"
    },
    {
     "data": {
      "text/plain": [
       "0    5762\n",
       "Name: saint-etienne-de-valoux, dtype: int64"
      ]
     },
     "metadata": {},
     "output_type": "display_data"
    },
    {
     "data": {
      "text/plain": [
       "'Уникальные значения в колонке san jose и их количество: '"
      ]
     },
     "metadata": {},
     "output_type": "display_data"
    },
    {
     "data": {
      "text/plain": [
       "0    5742\n",
       "1      20\n",
       "Name: san jose, dtype: int64"
      ]
     },
     "metadata": {},
     "output_type": "display_data"
    },
    {
     "data": {
      "text/plain": [
       "'Уникальные значения в колонке seoul и их количество: '"
      ]
     },
     "metadata": {},
     "output_type": "display_data"
    },
    {
     "data": {
      "text/plain": [
       "0    5761\n",
       "1       1\n",
       "Name: seoul, dtype: int64"
      ]
     },
     "metadata": {},
     "output_type": "display_data"
    },
    {
     "data": {
      "text/plain": [
       "'Уникальные значения в колонке southall и их количество: '"
      ]
     },
     "metadata": {},
     "output_type": "display_data"
    },
    {
     "data": {
      "text/plain": [
       "0    5756\n",
       "1       6\n",
       "Name: southall, dtype: int64"
      ]
     },
     "metadata": {},
     "output_type": "display_data"
    },
    {
     "data": {
      "text/plain": [
       "'Уникальные значения в колонке tartu и их количество: '"
      ]
     },
     "metadata": {},
     "output_type": "display_data"
    },
    {
     "data": {
      "text/plain": [
       "0    5761\n",
       "1       1\n",
       "Name: tartu, dtype: int64"
      ]
     },
     "metadata": {},
     "output_type": "display_data"
    },
    {
     "data": {
      "text/plain": [
       "'Уникальные значения в колонке tromsø и их количество: '"
      ]
     },
     "metadata": {},
     "output_type": "display_data"
    },
    {
     "data": {
      "text/plain": [
       "0    5760\n",
       "1       2\n",
       "Name: tromsø, dtype: int64"
      ]
     },
     "metadata": {},
     "output_type": "display_data"
    },
    {
     "data": {
      "text/plain": [
       "'Уникальные значения в колонке vancouver и их количество: '"
      ]
     },
     "metadata": {},
     "output_type": "display_data"
    },
    {
     "data": {
      "text/plain": [
       "0    5745\n",
       "1      17\n",
       "Name: vancouver, dtype: int64"
      ]
     },
     "metadata": {},
     "output_type": "display_data"
    },
    {
     "data": {
      "text/plain": [
       "'Уникальные значения в колонке vienna и их количество: '"
      ]
     },
     "metadata": {},
     "output_type": "display_data"
    },
    {
     "data": {
      "text/plain": [
       "0    5761\n",
       "1       1\n",
       "Name: vienna, dtype: int64"
      ]
     },
     "metadata": {},
     "output_type": "display_data"
    },
    {
     "data": {
      "text/plain": [
       "\"Уникальные значения в колонке villanova d'asti и их количество: \""
      ]
     },
     "metadata": {},
     "output_type": "display_data"
    },
    {
     "data": {
      "text/plain": [
       "0    5760\n",
       "1       2\n",
       "Name: villanova d'asti, dtype: int64"
      ]
     },
     "metadata": {},
     "output_type": "display_data"
    },
    {
     "data": {
      "text/plain": [
       "'Уникальные значения в колонке абакан и их количество: '"
      ]
     },
     "metadata": {},
     "output_type": "display_data"
    },
    {
     "data": {
      "text/plain": [
       "0    5761\n",
       "1       1\n",
       "Name: абакан, dtype: int64"
      ]
     },
     "metadata": {},
     "output_type": "display_data"
    },
    {
     "data": {
      "text/plain": [
       "'Уникальные значения в колонке агиртамак и их количество: '"
      ]
     },
     "metadata": {},
     "output_type": "display_data"
    },
    {
     "data": {
      "text/plain": [
       "0    5762\n",
       "Name: агиртамак, dtype: int64"
      ]
     },
     "metadata": {},
     "output_type": "display_data"
    },
    {
     "data": {
      "text/plain": [
       "'Уникальные значения в колонке алексеевский и их количество: '"
      ]
     },
     "metadata": {},
     "output_type": "display_data"
    },
    {
     "data": {
      "text/plain": [
       "0    5762\n",
       "Name: алексеевский, dtype: int64"
      ]
     },
     "metadata": {},
     "output_type": "display_data"
    },
    {
     "data": {
      "text/plain": [
       "'Уникальные значения в колонке алупка и их количество: '"
      ]
     },
     "metadata": {},
     "output_type": "display_data"
    },
    {
     "data": {
      "text/plain": [
       "0    5745\n",
       "1      17\n",
       "Name: алупка, dtype: int64"
      ]
     },
     "metadata": {},
     "output_type": "display_data"
    },
    {
     "data": {
      "text/plain": [
       "'Уникальные значения в колонке альметьевск и их количество: '"
      ]
     },
     "metadata": {},
     "output_type": "display_data"
    },
    {
     "data": {
      "text/plain": [
       "0    5762\n",
       "Name: альметьевск, dtype: int64"
      ]
     },
     "metadata": {},
     "output_type": "display_data"
    },
    {
     "data": {
      "text/plain": [
       "'Уникальные значения в колонке амангильдино и их количество: '"
      ]
     },
     "metadata": {},
     "output_type": "display_data"
    },
    {
     "data": {
      "text/plain": [
       "0    5762\n",
       "Name: амангильдино, dtype: int64"
      ]
     },
     "metadata": {},
     "output_type": "display_data"
    },
    {
     "data": {
      "text/plain": [
       "'Уникальные значения в колонке апатиты и их количество: '"
      ]
     },
     "metadata": {},
     "output_type": "display_data"
    },
    {
     "data": {
      "text/plain": [
       "0    5759\n",
       "1       3\n",
       "Name: апатиты, dtype: int64"
      ]
     },
     "metadata": {},
     "output_type": "display_data"
    },
    {
     "data": {
      "text/plain": [
       "'Уникальные значения в колонке арзамас и их количество: '"
      ]
     },
     "metadata": {},
     "output_type": "display_data"
    },
    {
     "data": {
      "text/plain": [
       "0    5761\n",
       "1       1\n",
       "Name: арзамас, dtype: int64"
      ]
     },
     "metadata": {},
     "output_type": "display_data"
    },
    {
     "data": {
      "text/plain": [
       "'Уникальные значения в колонке армавир и их количество: '"
      ]
     },
     "metadata": {},
     "output_type": "display_data"
    },
    {
     "data": {
      "text/plain": [
       "0    5762\n",
       "Name: армавир, dtype: int64"
      ]
     },
     "metadata": {},
     "output_type": "display_data"
    },
    {
     "data": {
      "text/plain": [
       "'Уникальные значения в колонке архангельск и их количество: '"
      ]
     },
     "metadata": {},
     "output_type": "display_data"
    },
    {
     "data": {
      "text/plain": [
       "0    5750\n",
       "1      12\n",
       "Name: архангельск, dtype: int64"
      ]
     },
     "metadata": {},
     "output_type": "display_data"
    },
    {
     "data": {
      "text/plain": [
       "'Уникальные значения в колонке астрахань и их количество: '"
      ]
     },
     "metadata": {},
     "output_type": "display_data"
    },
    {
     "data": {
      "text/plain": [
       "0    5750\n",
       "1      12\n",
       "Name: астрахань, dtype: int64"
      ]
     },
     "metadata": {},
     "output_type": "display_data"
    },
    {
     "data": {
      "text/plain": [
       "'Уникальные значения в колонке багдарин и их количество: '"
      ]
     },
     "metadata": {},
     "output_type": "display_data"
    },
    {
     "data": {
      "text/plain": [
       "0    5762\n",
       "Name: багдарин, dtype: int64"
      ]
     },
     "metadata": {},
     "output_type": "display_data"
    },
    {
     "data": {
      "text/plain": [
       "'Уникальные значения в колонке балашиха и их количество: '"
      ]
     },
     "metadata": {},
     "output_type": "display_data"
    },
    {
     "data": {
      "text/plain": [
       "0    5760\n",
       "1       2\n",
       "Name: балашиха, dtype: int64"
      ]
     },
     "metadata": {},
     "output_type": "display_data"
    },
    {
     "data": {
      "text/plain": [
       "'Уникальные значения в колонке барнаул и их количество: '"
      ]
     },
     "metadata": {},
     "output_type": "display_data"
    },
    {
     "data": {
      "text/plain": [
       "0    5762\n",
       "Name: барнаул, dtype: int64"
      ]
     },
     "metadata": {},
     "output_type": "display_data"
    },
    {
     "data": {
      "text/plain": [
       "'Уникальные значения в колонке белгород и их количество: '"
      ]
     },
     "metadata": {},
     "output_type": "display_data"
    },
    {
     "data": {
      "text/plain": [
       "0    5762\n",
       "Name: белгород, dtype: int64"
      ]
     },
     "metadata": {},
     "output_type": "display_data"
    },
    {
     "data": {
      "text/plain": [
       "'Уникальные значения в колонке березка и их количество: '"
      ]
     },
     "metadata": {},
     "output_type": "display_data"
    },
    {
     "data": {
      "text/plain": [
       "0    5762\n",
       "Name: березка, dtype: int64"
      ]
     },
     "metadata": {},
     "output_type": "display_data"
    },
    {
     "data": {
      "text/plain": [
       "'Уникальные значения в колонке бирск и их количество: '"
      ]
     },
     "metadata": {},
     "output_type": "display_data"
    },
    {
     "data": {
      "text/plain": [
       "0    5762\n",
       "Name: бирск, dtype: int64"
      ]
     },
     "metadata": {},
     "output_type": "display_data"
    },
    {
     "data": {
      "text/plain": [
       "'Уникальные значения в колонке благовещенск и их количество: '"
      ]
     },
     "metadata": {},
     "output_type": "display_data"
    },
    {
     "data": {
      "text/plain": [
       "0    5762\n",
       "Name: благовещенск, dtype: int64"
      ]
     },
     "metadata": {},
     "output_type": "display_data"
    },
    {
     "data": {
      "text/plain": [
       "'Уникальные значения в колонке бобруйск и их количество: '"
      ]
     },
     "metadata": {},
     "output_type": "display_data"
    },
    {
     "data": {
      "text/plain": [
       "0    5762\n",
       "Name: бобруйск, dtype: int64"
      ]
     },
     "metadata": {},
     "output_type": "display_data"
    },
    {
     "data": {
      "text/plain": [
       "'Уникальные значения в колонке бор и их количество: '"
      ]
     },
     "metadata": {},
     "output_type": "display_data"
    },
    {
     "data": {
      "text/plain": [
       "0    5762\n",
       "Name: бор, dtype: int64"
      ]
     },
     "metadata": {},
     "output_type": "display_data"
    },
    {
     "data": {
      "text/plain": [
       "'Уникальные значения в колонке боровский и их количество: '"
      ]
     },
     "metadata": {},
     "output_type": "display_data"
    },
    {
     "data": {
      "text/plain": [
       "0    5762\n",
       "Name: боровский, dtype: int64"
      ]
     },
     "metadata": {},
     "output_type": "display_data"
    },
    {
     "data": {
      "text/plain": [
       "'Уникальные значения в колонке брянск и их количество: '"
      ]
     },
     "metadata": {},
     "output_type": "display_data"
    },
    {
     "data": {
      "text/plain": [
       "0    5711\n",
       "1      51\n",
       "Name: брянск, dtype: int64"
      ]
     },
     "metadata": {},
     "output_type": "display_data"
    },
    {
     "data": {
      "text/plain": [
       "'Уникальные значения в колонке бугульма и их количество: '"
      ]
     },
     "metadata": {},
     "output_type": "display_data"
    },
    {
     "data": {
      "text/plain": [
       "0    5762\n",
       "Name: бугульма, dtype: int64"
      ]
     },
     "metadata": {},
     "output_type": "display_data"
    },
    {
     "data": {
      "text/plain": [
       "'Уникальные значения в колонке бурминка и их количество: '"
      ]
     },
     "metadata": {},
     "output_type": "display_data"
    },
    {
     "data": {
      "text/plain": [
       "0    5762\n",
       "Name: бурминка, dtype: int64"
      ]
     },
     "metadata": {},
     "output_type": "display_data"
    },
    {
     "data": {
      "text/plain": [
       "'Уникальные значения в колонке бухарест и их количество: '"
      ]
     },
     "metadata": {},
     "output_type": "display_data"
    },
    {
     "data": {
      "text/plain": [
       "0    5761\n",
       "1       1\n",
       "Name: бухарест, dtype: int64"
      ]
     },
     "metadata": {},
     "output_type": "display_data"
    },
    {
     "data": {
      "text/plain": [
       "'Уникальные значения в колонке велижаны и их количество: '"
      ]
     },
     "metadata": {},
     "output_type": "display_data"
    },
    {
     "data": {
      "text/plain": [
       "0    5762\n",
       "Name: велижаны, dtype: int64"
      ]
     },
     "metadata": {},
     "output_type": "display_data"
    },
    {
     "data": {
      "text/plain": [
       "'Уникальные значения в колонке великий новгород и их количество: '"
      ]
     },
     "metadata": {},
     "output_type": "display_data"
    },
    {
     "data": {
      "text/plain": [
       "0    5760\n",
       "1       2\n",
       "Name: великий новгород, dtype: int64"
      ]
     },
     "metadata": {},
     "output_type": "display_data"
    },
    {
     "data": {
      "text/plain": [
       "'Уникальные значения в колонке владивосток и их количество: '"
      ]
     },
     "metadata": {},
     "output_type": "display_data"
    },
    {
     "data": {
      "text/plain": [
       "0    5725\n",
       "1      37\n",
       "Name: владивосток, dtype: int64"
      ]
     },
     "metadata": {},
     "output_type": "display_data"
    },
    {
     "data": {
      "text/plain": [
       "'Уникальные значения в колонке владимир и их количество: '"
      ]
     },
     "metadata": {},
     "output_type": "display_data"
    },
    {
     "data": {
      "text/plain": [
       "0    5762\n",
       "Name: владимир, dtype: int64"
      ]
     },
     "metadata": {},
     "output_type": "display_data"
    },
    {
     "data": {
      "text/plain": [
       "'Уникальные значения в колонке волгоград и их количество: '"
      ]
     },
     "metadata": {},
     "output_type": "display_data"
    },
    {
     "data": {
      "text/plain": [
       "0    5740\n",
       "1      22\n",
       "Name: волгоград, dtype: int64"
      ]
     },
     "metadata": {},
     "output_type": "display_data"
    },
    {
     "data": {
      "text/plain": [
       "'Уникальные значения в колонке вологда и их количество: '"
      ]
     },
     "metadata": {},
     "output_type": "display_data"
    },
    {
     "data": {
      "text/plain": [
       "0    5742\n",
       "1      20\n",
       "Name: вологда, dtype: int64"
      ]
     },
     "metadata": {},
     "output_type": "display_data"
    },
    {
     "data": {
      "text/plain": [
       "'Уникальные значения в колонке волхов и их количество: '"
      ]
     },
     "metadata": {},
     "output_type": "display_data"
    },
    {
     "data": {
      "text/plain": [
       "0    5759\n",
       "1       3\n",
       "Name: волхов, dtype: int64"
      ]
     },
     "metadata": {},
     "output_type": "display_data"
    },
    {
     "data": {
      "text/plain": [
       "'Уникальные значения в колонке вольск и их количество: '"
      ]
     },
     "metadata": {},
     "output_type": "display_data"
    },
    {
     "data": {
      "text/plain": [
       "0    5762\n",
       "Name: вольск, dtype: int64"
      ]
     },
     "metadata": {},
     "output_type": "display_data"
    },
    {
     "data": {
      "text/plain": [
       "'Уникальные значения в колонке воркута и их количество: '"
      ]
     },
     "metadata": {},
     "output_type": "display_data"
    },
    {
     "data": {
      "text/plain": [
       "0    5762\n",
       "Name: воркута, dtype: int64"
      ]
     },
     "metadata": {},
     "output_type": "display_data"
    },
    {
     "data": {
      "text/plain": [
       "'Уникальные значения в колонке воронеж и их количество: '"
      ]
     },
     "metadata": {},
     "output_type": "display_data"
    },
    {
     "data": {
      "text/plain": [
       "0    5733\n",
       "1      29\n",
       "Name: воронеж, dtype: int64"
      ]
     },
     "metadata": {},
     "output_type": "display_data"
    },
    {
     "data": {
      "text/plain": [
       "'Уникальные значения в колонке воткинск и их количество: '"
      ]
     },
     "metadata": {},
     "output_type": "display_data"
    },
    {
     "data": {
      "text/plain": [
       "0    5762\n",
       "Name: воткинск, dtype: int64"
      ]
     },
     "metadata": {},
     "output_type": "display_data"
    },
    {
     "data": {
      "text/plain": [
       "'Уникальные значения в колонке выборг и их количество: '"
      ]
     },
     "metadata": {},
     "output_type": "display_data"
    },
    {
     "data": {
      "text/plain": [
       "0    5761\n",
       "1       1\n",
       "Name: выборг, dtype: int64"
      ]
     },
     "metadata": {},
     "output_type": "display_data"
    },
    {
     "data": {
      "text/plain": [
       "'Уникальные значения в колонке гагарин и их количество: '"
      ]
     },
     "metadata": {},
     "output_type": "display_data"
    },
    {
     "data": {
      "text/plain": [
       "0    5752\n",
       "1      10\n",
       "Name: гагарин, dtype: int64"
      ]
     },
     "metadata": {},
     "output_type": "display_data"
    },
    {
     "data": {
      "text/plain": [
       "'Уникальные значения в колонке горловка и их количество: '"
      ]
     },
     "metadata": {},
     "output_type": "display_data"
    },
    {
     "data": {
      "text/plain": [
       "0    5762\n",
       "Name: горловка, dtype: int64"
      ]
     },
     "metadata": {},
     "output_type": "display_data"
    },
    {
     "data": {
      "text/plain": [
       "'Уникальные значения в колонке донецк и их количество: '"
      ]
     },
     "metadata": {},
     "output_type": "display_data"
    },
    {
     "data": {
      "text/plain": [
       "0    5762\n",
       "Name: донецк, dtype: int64"
      ]
     },
     "metadata": {},
     "output_type": "display_data"
    },
    {
     "data": {
      "text/plain": [
       "'Уникальные значения в колонке дубна и их количество: '"
      ]
     },
     "metadata": {},
     "output_type": "display_data"
    },
    {
     "data": {
      "text/plain": [
       "0    5762\n",
       "Name: дубна, dtype: int64"
      ]
     },
     "metadata": {},
     "output_type": "display_data"
    },
    {
     "data": {
      "text/plain": [
       "'Уникальные значения в колонке дудинка и их количество: '"
      ]
     },
     "metadata": {},
     "output_type": "display_data"
    },
    {
     "data": {
      "text/plain": [
       "0    5762\n",
       "Name: дудинка, dtype: int64"
      ]
     },
     "metadata": {},
     "output_type": "display_data"
    },
    {
     "data": {
      "text/plain": [
       "'Уникальные значения в колонке екатеринбург и их количество: '"
      ]
     },
     "metadata": {},
     "output_type": "display_data"
    },
    {
     "data": {
      "text/plain": [
       "0    5671\n",
       "1      91\n",
       "Name: екатеринбург, dtype: int64"
      ]
     },
     "metadata": {},
     "output_type": "display_data"
    },
    {
     "data": {
      "text/plain": [
       "'Уникальные значения в колонке елабуга и их количество: '"
      ]
     },
     "metadata": {},
     "output_type": "display_data"
    },
    {
     "data": {
      "text/plain": [
       "0    5762\n",
       "Name: елабуга, dtype: int64"
      ]
     },
     "metadata": {},
     "output_type": "display_data"
    },
    {
     "data": {
      "text/plain": [
       "'Уникальные значения в колонке ереван и их количество: '"
      ]
     },
     "metadata": {},
     "output_type": "display_data"
    },
    {
     "data": {
      "text/plain": [
       "0    5762\n",
       "Name: ереван, dtype: int64"
      ]
     },
     "metadata": {},
     "output_type": "display_data"
    },
    {
     "data": {
      "text/plain": [
       "'Уникальные значения в колонке ессентуки и их количество: '"
      ]
     },
     "metadata": {},
     "output_type": "display_data"
    },
    {
     "data": {
      "text/plain": [
       "0    5759\n",
       "1       3\n",
       "Name: ессентуки, dtype: int64"
      ]
     },
     "metadata": {},
     "output_type": "display_data"
    },
    {
     "data": {
      "text/plain": [
       "'Уникальные значения в колонке заречный и их количество: '"
      ]
     },
     "metadata": {},
     "output_type": "display_data"
    },
    {
     "data": {
      "text/plain": [
       "0    5762\n",
       "Name: заречный, dtype: int64"
      ]
     },
     "metadata": {},
     "output_type": "display_data"
    },
    {
     "data": {
      "text/plain": [
       "'Уникальные значения в колонке засечное и их количество: '"
      ]
     },
     "metadata": {},
     "output_type": "display_data"
    },
    {
     "data": {
      "text/plain": [
       "0    5762\n",
       "Name: засечное, dtype: int64"
      ]
     },
     "metadata": {},
     "output_type": "display_data"
    },
    {
     "data": {
      "text/plain": [
       "'Уникальные значения в колонке звездный и их количество: '"
      ]
     },
     "metadata": {},
     "output_type": "display_data"
    },
    {
     "data": {
      "text/plain": [
       "0    5762\n",
       "Name: звездный, dtype: int64"
      ]
     },
     "metadata": {},
     "output_type": "display_data"
    },
    {
     "data": {
      "text/plain": [
       "'Уникальные значения в колонке зеленец и их количество: '"
      ]
     },
     "metadata": {},
     "output_type": "display_data"
    },
    {
     "data": {
      "text/plain": [
       "0    5762\n",
       "Name: зеленец, dtype: int64"
      ]
     },
     "metadata": {},
     "output_type": "display_data"
    },
    {
     "data": {
      "text/plain": [
       "'Уникальные значения в колонке иваново и их количество: '"
      ]
     },
     "metadata": {},
     "output_type": "display_data"
    },
    {
     "data": {
      "text/plain": [
       "0    5761\n",
       "1       1\n",
       "Name: иваново, dtype: int64"
      ]
     },
     "metadata": {},
     "output_type": "display_data"
    },
    {
     "data": {
      "text/plain": [
       "'Уникальные значения в колонке ивантеевка и их количество: '"
      ]
     },
     "metadata": {},
     "output_type": "display_data"
    },
    {
     "data": {
      "text/plain": [
       "0    5761\n",
       "1       1\n",
       "Name: ивантеевка, dtype: int64"
      ]
     },
     "metadata": {},
     "output_type": "display_data"
    },
    {
     "data": {
      "text/plain": [
       "'Уникальные значения в колонке ивня и их количество: '"
      ]
     },
     "metadata": {},
     "output_type": "display_data"
    },
    {
     "data": {
      "text/plain": [
       "0    5762\n",
       "Name: ивня, dtype: int64"
      ]
     },
     "metadata": {},
     "output_type": "display_data"
    },
    {
     "data": {
      "text/plain": [
       "'Уникальные значения в колонке ижевск и их количество: '"
      ]
     },
     "metadata": {},
     "output_type": "display_data"
    },
    {
     "data": {
      "text/plain": [
       "0    5760\n",
       "1       2\n",
       "Name: ижевск, dtype: int64"
      ]
     },
     "metadata": {},
     "output_type": "display_data"
    },
    {
     "data": {
      "text/plain": [
       "'Уникальные значения в колонке изобильный и их количество: '"
      ]
     },
     "metadata": {},
     "output_type": "display_data"
    },
    {
     "data": {
      "text/plain": [
       "0    5762\n",
       "Name: изобильный, dtype: int64"
      ]
     },
     "metadata": {},
     "output_type": "display_data"
    },
    {
     "data": {
      "text/plain": [
       "'Уникальные значения в колонке икряное и их количество: '"
      ]
     },
     "metadata": {},
     "output_type": "display_data"
    },
    {
     "data": {
      "text/plain": [
       "0    5762\n",
       "Name: икряное, dtype: int64"
      ]
     },
     "metadata": {},
     "output_type": "display_data"
    },
    {
     "data": {
      "text/plain": [
       "'Уникальные значения в колонке иловля и их количество: '"
      ]
     },
     "metadata": {},
     "output_type": "display_data"
    },
    {
     "data": {
      "text/plain": [
       "0    5762\n",
       "Name: иловля, dtype: int64"
      ]
     },
     "metadata": {},
     "output_type": "display_data"
    },
    {
     "data": {
      "text/plain": [
       "'Уникальные значения в колонке иркутск и их количество: '"
      ]
     },
     "metadata": {},
     "output_type": "display_data"
    },
    {
     "data": {
      "text/plain": [
       "0    5753\n",
       "1       9\n",
       "Name: иркутск, dtype: int64"
      ]
     },
     "metadata": {},
     "output_type": "display_data"
    },
    {
     "data": {
      "text/plain": [
       "'Уникальные значения в колонке искитим и их количество: '"
      ]
     },
     "metadata": {},
     "output_type": "display_data"
    },
    {
     "data": {
      "text/plain": [
       "0    5762\n",
       "Name: искитим, dtype: int64"
      ]
     },
     "metadata": {},
     "output_type": "display_data"
    },
    {
     "data": {
      "text/plain": [
       "'Уникальные значения в колонке истра и их количество: '"
      ]
     },
     "metadata": {},
     "output_type": "display_data"
    },
    {
     "data": {
      "text/plain": [
       "0    5747\n",
       "1      15\n",
       "Name: истра, dtype: int64"
      ]
     },
     "metadata": {},
     "output_type": "display_data"
    },
    {
     "data": {
      "text/plain": [
       "'Уникальные значения в колонке йошкар-ола и их количество: '"
      ]
     },
     "metadata": {},
     "output_type": "display_data"
    },
    {
     "data": {
      "text/plain": [
       "0    5759\n",
       "1       3\n",
       "Name: йошкар-ола, dtype: int64"
      ]
     },
     "metadata": {},
     "output_type": "display_data"
    },
    {
     "data": {
      "text/plain": [
       "'Уникальные значения в колонке казань и их количество: '"
      ]
     },
     "metadata": {},
     "output_type": "display_data"
    },
    {
     "data": {
      "text/plain": [
       "0    5724\n",
       "1      38\n",
       "Name: казань, dtype: int64"
      ]
     },
     "metadata": {},
     "output_type": "display_data"
    },
    {
     "data": {
      "text/plain": [
       "'Уникальные значения в колонке калининград и их количество: '"
      ]
     },
     "metadata": {},
     "output_type": "display_data"
    },
    {
     "data": {
      "text/plain": [
       "0    5759\n",
       "1       3\n",
       "Name: калининград, dtype: int64"
      ]
     },
     "metadata": {},
     "output_type": "display_data"
    },
    {
     "data": {
      "text/plain": [
       "'Уникальные значения в колонке калуга и их количество: '"
      ]
     },
     "metadata": {},
     "output_type": "display_data"
    },
    {
     "data": {
      "text/plain": [
       "0    5761\n",
       "1       1\n",
       "Name: калуга, dtype: int64"
      ]
     },
     "metadata": {},
     "output_type": "display_data"
    },
    {
     "data": {
      "text/plain": [
       "'Уникальные значения в колонке каменка и их количество: '"
      ]
     },
     "metadata": {},
     "output_type": "display_data"
    },
    {
     "data": {
      "text/plain": [
       "0    5762\n",
       "Name: каменка, dtype: int64"
      ]
     },
     "metadata": {},
     "output_type": "display_data"
    },
    {
     "data": {
      "text/plain": [
       "'Уникальные значения в колонке каменск-шахтинский и их количество: '"
      ]
     },
     "metadata": {},
     "output_type": "display_data"
    },
    {
     "data": {
      "text/plain": [
       "0    5728\n",
       "1      34\n",
       "Name: каменск-шахтинский, dtype: int64"
      ]
     },
     "metadata": {},
     "output_type": "display_data"
    },
    {
     "data": {
      "text/plain": [
       "'Уникальные значения в колонке кандры и их количество: '"
      ]
     },
     "metadata": {},
     "output_type": "display_data"
    },
    {
     "data": {
      "text/plain": [
       "0    5762\n",
       "Name: кандры, dtype: int64"
      ]
     },
     "metadata": {},
     "output_type": "display_data"
    },
    {
     "data": {
      "text/plain": [
       "'Уникальные значения в колонке караганда и их количество: '"
      ]
     },
     "metadata": {},
     "output_type": "display_data"
    },
    {
     "data": {
      "text/plain": [
       "0    5747\n",
       "1      15\n",
       "Name: караганда, dtype: int64"
      ]
     },
     "metadata": {},
     "output_type": "display_data"
    },
    {
     "data": {
      "text/plain": [
       "'Уникальные значения в колонке кардымово и их количество: '"
      ]
     },
     "metadata": {},
     "output_type": "display_data"
    },
    {
     "data": {
      "text/plain": [
       "0    5762\n",
       "Name: кардымово, dtype: int64"
      ]
     },
     "metadata": {},
     "output_type": "display_data"
    },
    {
     "data": {
      "text/plain": [
       "'Уникальные значения в колонке кемерово и их количество: '"
      ]
     },
     "metadata": {},
     "output_type": "display_data"
    },
    {
     "data": {
      "text/plain": [
       "0    5735\n",
       "1      27\n",
       "Name: кемерово, dtype: int64"
      ]
     },
     "metadata": {},
     "output_type": "display_data"
    },
    {
     "data": {
      "text/plain": [
       "'Уникальные значения в колонке киев и их количество: '"
      ]
     },
     "metadata": {},
     "output_type": "display_data"
    },
    {
     "data": {
      "text/plain": [
       "0    5759\n",
       "1       3\n",
       "Name: киев, dtype: int64"
      ]
     },
     "metadata": {},
     "output_type": "display_data"
    },
    {
     "data": {
      "text/plain": [
       "'Уникальные значения в колонке кингисеппский и их количество: '"
      ]
     },
     "metadata": {},
     "output_type": "display_data"
    },
    {
     "data": {
      "text/plain": [
       "0    5762\n",
       "Name: кингисеппский, dtype: int64"
      ]
     },
     "metadata": {},
     "output_type": "display_data"
    },
    {
     "data": {
      "text/plain": [
       "'Уникальные значения в колонке киров и их количество: '"
      ]
     },
     "metadata": {},
     "output_type": "display_data"
    },
    {
     "data": {
      "text/plain": [
       "0    5761\n",
       "1       1\n",
       "Name: киров, dtype: int64"
      ]
     },
     "metadata": {},
     "output_type": "display_data"
    },
    {
     "data": {
      "text/plain": [
       "'Уникальные значения в колонке коломна и их количество: '"
      ]
     },
     "metadata": {},
     "output_type": "display_data"
    },
    {
     "data": {
      "text/plain": [
       "0    5755\n",
       "1       7\n",
       "Name: коломна, dtype: int64"
      ]
     },
     "metadata": {},
     "output_type": "display_data"
    },
    {
     "data": {
      "text/plain": [
       "'Уникальные значения в колонке константиновск и их количество: '"
      ]
     },
     "metadata": {},
     "output_type": "display_data"
    },
    {
     "data": {
      "text/plain": [
       "0    5762\n",
       "Name: константиновск, dtype: int64"
      ]
     },
     "metadata": {},
     "output_type": "display_data"
    },
    {
     "data": {
      "text/plain": [
       "'Уникальные значения в колонке коркино и их количество: '"
      ]
     },
     "metadata": {},
     "output_type": "display_data"
    },
    {
     "data": {
      "text/plain": [
       "0    5761\n",
       "1       1\n",
       "Name: коркино, dtype: int64"
      ]
     },
     "metadata": {},
     "output_type": "display_data"
    },
    {
     "data": {
      "text/plain": [
       "'Уникальные значения в колонке королев и их количество: '"
      ]
     },
     "metadata": {},
     "output_type": "display_data"
    },
    {
     "data": {
      "text/plain": [
       "0    5756\n",
       "1       6\n",
       "Name: королев, dtype: int64"
      ]
     },
     "metadata": {},
     "output_type": "display_data"
    },
    {
     "data": {
      "text/plain": [
       "'Уникальные значения в колонке котельники и их количество: '"
      ]
     },
     "metadata": {},
     "output_type": "display_data"
    },
    {
     "data": {
      "text/plain": [
       "0    5761\n",
       "1       1\n",
       "Name: котельники, dtype: int64"
      ]
     },
     "metadata": {},
     "output_type": "display_data"
    },
    {
     "data": {
      "text/plain": [
       "'Уникальные значения в колонке красногорск и их количество: '"
      ]
     },
     "metadata": {},
     "output_type": "display_data"
    },
    {
     "data": {
      "text/plain": [
       "0    5742\n",
       "1      20\n",
       "Name: красногорск, dtype: int64"
      ]
     },
     "metadata": {},
     "output_type": "display_data"
    },
    {
     "data": {
      "text/plain": [
       "'Уникальные значения в колонке краснодар и их количество: '"
      ]
     },
     "metadata": {},
     "output_type": "display_data"
    },
    {
     "data": {
      "text/plain": [
       "0    5544\n",
       "1     218\n",
       "Name: краснодар, dtype: int64"
      ]
     },
     "metadata": {},
     "output_type": "display_data"
    },
    {
     "data": {
      "text/plain": [
       "'Уникальные значения в колонке красноярск и их количество: '"
      ]
     },
     "metadata": {},
     "output_type": "display_data"
    },
    {
     "data": {
      "text/plain": [
       "0    5761\n",
       "1       1\n",
       "Name: красноярск, dtype: int64"
      ]
     },
     "metadata": {},
     "output_type": "display_data"
    },
    {
     "data": {
      "text/plain": [
       "'Уникальные значения в колонке кудрово и их количество: '"
      ]
     },
     "metadata": {},
     "output_type": "display_data"
    },
    {
     "data": {
      "text/plain": [
       "0    5762\n",
       "Name: кудрово, dtype: int64"
      ]
     },
     "metadata": {},
     "output_type": "display_data"
    },
    {
     "data": {
      "text/plain": [
       "'Уникальные значения в колонке курган и их количество: '"
      ]
     },
     "metadata": {},
     "output_type": "display_data"
    },
    {
     "data": {
      "text/plain": [
       "0    5723\n",
       "1      39\n",
       "Name: курган, dtype: int64"
      ]
     },
     "metadata": {},
     "output_type": "display_data"
    },
    {
     "data": {
      "text/plain": [
       "'Уникальные значения в колонке кушва и их количество: '"
      ]
     },
     "metadata": {},
     "output_type": "display_data"
    },
    {
     "data": {
      "text/plain": [
       "0    5762\n",
       "Name: кушва, dtype: int64"
      ]
     },
     "metadata": {},
     "output_type": "display_data"
    },
    {
     "data": {
      "text/plain": [
       "'Уникальные значения в колонке лев толстой и их количество: '"
      ]
     },
     "metadata": {},
     "output_type": "display_data"
    },
    {
     "data": {
      "text/plain": [
       "0    5762\n",
       "Name: лев толстой, dtype: int64"
      ]
     },
     "metadata": {},
     "output_type": "display_data"
    },
    {
     "data": {
      "text/plain": [
       "'Уникальные значения в колонке лениногорск и их количество: '"
      ]
     },
     "metadata": {},
     "output_type": "display_data"
    },
    {
     "data": {
      "text/plain": [
       "0    5762\n",
       "Name: лениногорск, dtype: int64"
      ]
     },
     "metadata": {},
     "output_type": "display_data"
    },
    {
     "data": {
      "text/plain": [
       "'Уникальные значения в колонке ленск и их количество: '"
      ]
     },
     "metadata": {},
     "output_type": "display_data"
    },
    {
     "data": {
      "text/plain": [
       "0    5762\n",
       "Name: ленск, dtype: int64"
      ]
     },
     "metadata": {},
     "output_type": "display_data"
    },
    {
     "data": {
      "text/plain": [
       "'Уникальные значения в колонке липецк и их количество: '"
      ]
     },
     "metadata": {},
     "output_type": "display_data"
    },
    {
     "data": {
      "text/plain": [
       "0    5762\n",
       "Name: липецк, dtype: int64"
      ]
     },
     "metadata": {},
     "output_type": "display_data"
    },
    {
     "data": {
      "text/plain": [
       "'Уникальные значения в колонке лыткарино и их количество: '"
      ]
     },
     "metadata": {},
     "output_type": "display_data"
    },
    {
     "data": {
      "text/plain": [
       "0    5762\n",
       "Name: лыткарино, dtype: int64"
      ]
     },
     "metadata": {},
     "output_type": "display_data"
    },
    {
     "data": {
      "text/plain": [
       "'Уникальные значения в колонке люберцы и их количество: '"
      ]
     },
     "metadata": {},
     "output_type": "display_data"
    },
    {
     "data": {
      "text/plain": [
       "0    5756\n",
       "1       6\n",
       "Name: люберцы, dtype: int64"
      ]
     },
     "metadata": {},
     "output_type": "display_data"
    },
    {
     "data": {
      "text/plain": [
       "'Уникальные значения в колонке магнитогорск и их количество: '"
      ]
     },
     "metadata": {},
     "output_type": "display_data"
    },
    {
     "data": {
      "text/plain": [
       "0    5762\n",
       "Name: магнитогорск, dtype: int64"
      ]
     },
     "metadata": {},
     "output_type": "display_data"
    },
    {
     "data": {
      "text/plain": [
       "'Уникальные значения в колонке майкоп и их количество: '"
      ]
     },
     "metadata": {},
     "output_type": "display_data"
    },
    {
     "data": {
      "text/plain": [
       "0    5762\n",
       "Name: майкоп, dtype: int64"
      ]
     },
     "metadata": {},
     "output_type": "display_data"
    },
    {
     "data": {
      "text/plain": [
       "'Уникальные значения в колонке мелеуз и их количество: '"
      ]
     },
     "metadata": {},
     "output_type": "display_data"
    },
    {
     "data": {
      "text/plain": [
       "0    5762\n",
       "Name: мелеуз, dtype: int64"
      ]
     },
     "metadata": {},
     "output_type": "display_data"
    },
    {
     "data": {
      "text/plain": [
       "'Уникальные значения в колонке минск и их количество: '"
      ]
     },
     "metadata": {},
     "output_type": "display_data"
    },
    {
     "data": {
      "text/plain": [
       "0    5762\n",
       "Name: минск, dtype: int64"
      ]
     },
     "metadata": {},
     "output_type": "display_data"
    },
    {
     "data": {
      "text/plain": [
       "'Уникальные значения в колонке молаканский и их количество: '"
      ]
     },
     "metadata": {},
     "output_type": "display_data"
    },
    {
     "data": {
      "text/plain": [
       "0    5762\n",
       "Name: молаканский, dtype: int64"
      ]
     },
     "metadata": {},
     "output_type": "display_data"
    },
    {
     "data": {
      "text/plain": [
       "'Уникальные значения в колонке москва и их количество: '"
      ]
     },
     "metadata": {},
     "output_type": "display_data"
    },
    {
     "data": {
      "text/plain": [
       "1    3289\n",
       "0    2473\n",
       "Name: москва, dtype: int64"
      ]
     },
     "metadata": {},
     "output_type": "display_data"
    },
    {
     "data": {
      "text/plain": [
       "'Уникальные значения в колонке мужукай и их количество: '"
      ]
     },
     "metadata": {},
     "output_type": "display_data"
    },
    {
     "data": {
      "text/plain": [
       "0    5762\n",
       "Name: мужукай, dtype: int64"
      ]
     },
     "metadata": {},
     "output_type": "display_data"
    },
    {
     "data": {
      "text/plain": [
       "'Уникальные значения в колонке мытищи и их количество: '"
      ]
     },
     "metadata": {},
     "output_type": "display_data"
    },
    {
     "data": {
      "text/plain": [
       "0    5672\n",
       "1      90\n",
       "Name: мытищи, dtype: int64"
      ]
     },
     "metadata": {},
     "output_type": "display_data"
    },
    {
     "data": {
      "text/plain": [
       "'Уникальные значения в колонке наро-фоминск и их количество: '"
      ]
     },
     "metadata": {},
     "output_type": "display_data"
    },
    {
     "data": {
      "text/plain": [
       "0    5752\n",
       "1      10\n",
       "Name: наро-фоминск, dtype: int64"
      ]
     },
     "metadata": {},
     "output_type": "display_data"
    },
    {
     "data": {
      "text/plain": [
       "'Уникальные значения в колонке невель и их количество: '"
      ]
     },
     "metadata": {},
     "output_type": "display_data"
    },
    {
     "data": {
      "text/plain": [
       "0    5762\n",
       "Name: невель, dtype: int64"
      ]
     },
     "metadata": {},
     "output_type": "display_data"
    },
    {
     "data": {
      "text/plain": [
       "'Уникальные значения в колонке нестеровка и их количество: '"
      ]
     },
     "metadata": {},
     "output_type": "display_data"
    },
    {
     "data": {
      "text/plain": [
       "0    5762\n",
       "Name: нестеровка, dtype: int64"
      ]
     },
     "metadata": {},
     "output_type": "display_data"
    },
    {
     "data": {
      "text/plain": [
       "'Уникальные значения в колонке нижневартовск и их количество: '"
      ]
     },
     "metadata": {},
     "output_type": "display_data"
    },
    {
     "data": {
      "text/plain": [
       "0    5737\n",
       "1      25\n",
       "Name: нижневартовск, dtype: int64"
      ]
     },
     "metadata": {},
     "output_type": "display_data"
    },
    {
     "data": {
      "text/plain": [
       "'Уникальные значения в колонке нижнекамск и их количество: '"
      ]
     },
     "metadata": {},
     "output_type": "display_data"
    },
    {
     "data": {
      "text/plain": [
       "0    5762\n",
       "Name: нижнекамск, dtype: int64"
      ]
     },
     "metadata": {},
     "output_type": "display_data"
    },
    {
     "data": {
      "text/plain": [
       "'Уникальные значения в колонке нижний новгород и их количество: '"
      ]
     },
     "metadata": {},
     "output_type": "display_data"
    },
    {
     "data": {
      "text/plain": [
       "0    5708\n",
       "1      54\n",
       "Name: нижний новгород, dtype: int64"
      ]
     },
     "metadata": {},
     "output_type": "display_data"
    },
    {
     "data": {
      "text/plain": [
       "'Уникальные значения в колонке новокуйбышевск и их количество: '"
      ]
     },
     "metadata": {},
     "output_type": "display_data"
    },
    {
     "data": {
      "text/plain": [
       "0    5762\n",
       "Name: новокуйбышевск, dtype: int64"
      ]
     },
     "metadata": {},
     "output_type": "display_data"
    },
    {
     "data": {
      "text/plain": [
       "'Уникальные значения в колонке новороссийск и их количество: '"
      ]
     },
     "metadata": {},
     "output_type": "display_data"
    },
    {
     "data": {
      "text/plain": [
       "0    5734\n",
       "1      28\n",
       "Name: новороссийск, dtype: int64"
      ]
     },
     "metadata": {},
     "output_type": "display_data"
    },
    {
     "data": {
      "text/plain": [
       "'Уникальные значения в колонке новосибирск и их количество: '"
      ]
     },
     "metadata": {},
     "output_type": "display_data"
    },
    {
     "data": {
      "text/plain": [
       "0    5736\n",
       "1      26\n",
       "Name: новосибирск, dtype: int64"
      ]
     },
     "metadata": {},
     "output_type": "display_data"
    },
    {
     "data": {
      "text/plain": [
       "'Уникальные значения в колонке ноябрьск и их количество: '"
      ]
     },
     "metadata": {},
     "output_type": "display_data"
    },
    {
     "data": {
      "text/plain": [
       "0    5761\n",
       "1       1\n",
       "Name: ноябрьск, dtype: int64"
      ]
     },
     "metadata": {},
     "output_type": "display_data"
    },
    {
     "data": {
      "text/plain": [
       "'Уникальные значения в колонке нягань и их количество: '"
      ]
     },
     "metadata": {},
     "output_type": "display_data"
    },
    {
     "data": {
      "text/plain": [
       "0    5762\n",
       "Name: нягань, dtype: int64"
      ]
     },
     "metadata": {},
     "output_type": "display_data"
    },
    {
     "data": {
      "text/plain": [
       "'Уникальные значения в колонке одесса и их количество: '"
      ]
     },
     "metadata": {},
     "output_type": "display_data"
    },
    {
     "data": {
      "text/plain": [
       "0    5762\n",
       "Name: одесса, dtype: int64"
      ]
     },
     "metadata": {},
     "output_type": "display_data"
    },
    {
     "data": {
      "text/plain": [
       "'Уникальные значения в колонке одинцово и их количество: '"
      ]
     },
     "metadata": {},
     "output_type": "display_data"
    },
    {
     "data": {
      "text/plain": [
       "0    5691\n",
       "1      71\n",
       "Name: одинцово, dtype: int64"
      ]
     },
     "metadata": {},
     "output_type": "display_data"
    },
    {
     "data": {
      "text/plain": [
       "'Уникальные значения в колонке озерецкий и их количество: '"
      ]
     },
     "metadata": {},
     "output_type": "display_data"
    },
    {
     "data": {
      "text/plain": [
       "0    5762\n",
       "Name: озерецкий, dtype: int64"
      ]
     },
     "metadata": {},
     "output_type": "display_data"
    },
    {
     "data": {
      "text/plain": [
       "'Уникальные значения в колонке омск и их количество: '"
      ]
     },
     "metadata": {},
     "output_type": "display_data"
    },
    {
     "data": {
      "text/plain": [
       "0    5762\n",
       "Name: омск, dtype: int64"
      ]
     },
     "metadata": {},
     "output_type": "display_data"
    },
    {
     "data": {
      "text/plain": [
       "'Уникальные значения в колонке орел и их количество: '"
      ]
     },
     "metadata": {},
     "output_type": "display_data"
    },
    {
     "data": {
      "text/plain": [
       "0    5759\n",
       "1       3\n",
       "Name: орел, dtype: int64"
      ]
     },
     "metadata": {},
     "output_type": "display_data"
    },
    {
     "data": {
      "text/plain": [
       "'Уникальные значения в колонке оренбург и их количество: '"
      ]
     },
     "metadata": {},
     "output_type": "display_data"
    },
    {
     "data": {
      "text/plain": [
       "0    5750\n",
       "1      12\n",
       "Name: оренбург, dtype: int64"
      ]
     },
     "metadata": {},
     "output_type": "display_data"
    },
    {
     "data": {
      "text/plain": [
       "'Уникальные значения в колонке орехово-зуево и их количество: '"
      ]
     },
     "metadata": {},
     "output_type": "display_data"
    },
    {
     "data": {
      "text/plain": [
       "0    5757\n",
       "1       5\n",
       "Name: орехово-зуево, dtype: int64"
      ]
     },
     "metadata": {},
     "output_type": "display_data"
    },
    {
     "data": {
      "text/plain": [
       "'Уникальные значения в колонке орск и их количество: '"
      ]
     },
     "metadata": {},
     "output_type": "display_data"
    },
    {
     "data": {
      "text/plain": [
       "0    5762\n",
       "Name: орск, dtype: int64"
      ]
     },
     "metadata": {},
     "output_type": "display_data"
    },
    {
     "data": {
      "text/plain": [
       "'Уникальные значения в колонке орёл и их количество: '"
      ]
     },
     "metadata": {},
     "output_type": "display_data"
    },
    {
     "data": {
      "text/plain": [
       "0    5762\n",
       "Name: орёл, dtype: int64"
      ]
     },
     "metadata": {},
     "output_type": "display_data"
    },
    {
     "data": {
      "text/plain": [
       "'Уникальные значения в колонке павловск и их количество: '"
      ]
     },
     "metadata": {},
     "output_type": "display_data"
    },
    {
     "data": {
      "text/plain": [
       "0    5762\n",
       "Name: павловск, dtype: int64"
      ]
     },
     "metadata": {},
     "output_type": "display_data"
    },
    {
     "data": {
      "text/plain": [
       "'Уникальные значения в колонке пенза и их количество: '"
      ]
     },
     "metadata": {},
     "output_type": "display_data"
    },
    {
     "data": {
      "text/plain": [
       "0    5762\n",
       "Name: пенза, dtype: int64"
      ]
     },
     "metadata": {},
     "output_type": "display_data"
    },
    {
     "data": {
      "text/plain": [
       "'Уникальные значения в колонке пермь и их количество: '"
      ]
     },
     "metadata": {},
     "output_type": "display_data"
    },
    {
     "data": {
      "text/plain": [
       "0    5757\n",
       "1       5\n",
       "Name: пермь, dtype: int64"
      ]
     },
     "metadata": {},
     "output_type": "display_data"
    },
    {
     "data": {
      "text/plain": [
       "'Уникальные значения в колонке петропавловск-камчатский и их количество: '"
      ]
     },
     "metadata": {},
     "output_type": "display_data"
    },
    {
     "data": {
      "text/plain": [
       "0    5762\n",
       "Name: петропавловск-камчатский, dtype: int64"
      ]
     },
     "metadata": {},
     "output_type": "display_data"
    },
    {
     "data": {
      "text/plain": [
       "'Уникальные значения в колонке пижанка и их количество: '"
      ]
     },
     "metadata": {},
     "output_type": "display_data"
    },
    {
     "data": {
      "text/plain": [
       "0    5762\n",
       "Name: пижанка, dtype: int64"
      ]
     },
     "metadata": {},
     "output_type": "display_data"
    },
    {
     "data": {
      "text/plain": [
       "'Уникальные значения в колонке пионерский и их количество: '"
      ]
     },
     "metadata": {},
     "output_type": "display_data"
    },
    {
     "data": {
      "text/plain": [
       "0    5762\n",
       "Name: пионерский, dtype: int64"
      ]
     },
     "metadata": {},
     "output_type": "display_data"
    },
    {
     "data": {
      "text/plain": [
       "'Уникальные значения в колонке пойковский и их количество: '"
      ]
     },
     "metadata": {},
     "output_type": "display_data"
    },
    {
     "data": {
      "text/plain": [
       "0    5762\n",
       "Name: пойковский, dtype: int64"
      ]
     },
     "metadata": {},
     "output_type": "display_data"
    },
    {
     "data": {
      "text/plain": [
       "'Уникальные значения в колонке попчиха и их количество: '"
      ]
     },
     "metadata": {},
     "output_type": "display_data"
    },
    {
     "data": {
      "text/plain": [
       "0    5762\n",
       "Name: попчиха, dtype: int64"
      ]
     },
     "metadata": {},
     "output_type": "display_data"
    },
    {
     "data": {
      "text/plain": [
       "'Уникальные значения в колонке пригорское и их количество: '"
      ]
     },
     "metadata": {},
     "output_type": "display_data"
    },
    {
     "data": {
      "text/plain": [
       "0    5762\n",
       "Name: пригорское, dtype: int64"
      ]
     },
     "metadata": {},
     "output_type": "display_data"
    },
    {
     "data": {
      "text/plain": [
       "'Уникальные значения в колонке прокопьевск и их количество: '"
      ]
     },
     "metadata": {},
     "output_type": "display_data"
    },
    {
     "data": {
      "text/plain": [
       "0    5762\n",
       "Name: прокопьевск, dtype: int64"
      ]
     },
     "metadata": {},
     "output_type": "display_data"
    },
    {
     "data": {
      "text/plain": [
       "'Уникальные значения в колонке пыть-ях и их количество: '"
      ]
     },
     "metadata": {},
     "output_type": "display_data"
    },
    {
     "data": {
      "text/plain": [
       "0    5762\n",
       "Name: пыть-ях, dtype: int64"
      ]
     },
     "metadata": {},
     "output_type": "display_data"
    },
    {
     "data": {
      "text/plain": [
       "'Уникальные значения в колонке пятигорск и их количество: '"
      ]
     },
     "metadata": {},
     "output_type": "display_data"
    },
    {
     "data": {
      "text/plain": [
       "0    5752\n",
       "1      10\n",
       "Name: пятигорск, dtype: int64"
      ]
     },
     "metadata": {},
     "output_type": "display_data"
    },
    {
     "data": {
      "text/plain": [
       "'Уникальные значения в колонке решетниково и их количество: '"
      ]
     },
     "metadata": {},
     "output_type": "display_data"
    },
    {
     "data": {
      "text/plain": [
       "0    5762\n",
       "Name: решетниково, dtype: int64"
      ]
     },
     "metadata": {},
     "output_type": "display_data"
    },
    {
     "data": {
      "text/plain": [
       "'Уникальные значения в колонке ростов-на-дону и их количество: '"
      ]
     },
     "metadata": {},
     "output_type": "display_data"
    },
    {
     "data": {
      "text/plain": [
       "0    5683\n",
       "1      79\n",
       "Name: ростов-на-дону, dtype: int64"
      ]
     },
     "metadata": {},
     "output_type": "display_data"
    },
    {
     "data": {
      "text/plain": [
       "'Уникальные значения в колонке руза и их количество: '"
      ]
     },
     "metadata": {},
     "output_type": "display_data"
    },
    {
     "data": {
      "text/plain": [
       "0    5761\n",
       "1       1\n",
       "Name: руза, dtype: int64"
      ]
     },
     "metadata": {},
     "output_type": "display_data"
    },
    {
     "data": {
      "text/plain": [
       "'Уникальные значения в колонке рязань и их количество: '"
      ]
     },
     "metadata": {},
     "output_type": "display_data"
    },
    {
     "data": {
      "text/plain": [
       "0    5731\n",
       "1      31\n",
       "Name: рязань, dtype: int64"
      ]
     },
     "metadata": {},
     "output_type": "display_data"
    },
    {
     "data": {
      "text/plain": [
       "'Уникальные значения в колонке салават и их количество: '"
      ]
     },
     "metadata": {},
     "output_type": "display_data"
    },
    {
     "data": {
      "text/plain": [
       "0    5761\n",
       "1       1\n",
       "Name: салават, dtype: int64"
      ]
     },
     "metadata": {},
     "output_type": "display_data"
    },
    {
     "data": {
      "text/plain": [
       "'Уникальные значения в колонке салтыкова и их количество: '"
      ]
     },
     "metadata": {},
     "output_type": "display_data"
    },
    {
     "data": {
      "text/plain": [
       "0    5762\n",
       "Name: салтыкова, dtype: int64"
      ]
     },
     "metadata": {},
     "output_type": "display_data"
    },
    {
     "data": {
      "text/plain": [
       "'Уникальные значения в колонке самара и их количество: '"
      ]
     },
     "metadata": {},
     "output_type": "display_data"
    },
    {
     "data": {
      "text/plain": [
       "0    5673\n",
       "1      89\n",
       "Name: самара, dtype: int64"
      ]
     },
     "metadata": {},
     "output_type": "display_data"
    },
    {
     "data": {
      "text/plain": [
       "'Уникальные значения в колонке санкт-петербург и их количество: '"
      ]
     },
     "metadata": {},
     "output_type": "display_data"
    },
    {
     "data": {
      "text/plain": [
       "0    5332\n",
       "1     430\n",
       "Name: санкт-петербург, dtype: int64"
      ]
     },
     "metadata": {},
     "output_type": "display_data"
    },
    {
     "data": {
      "text/plain": [
       "'Уникальные значения в колонке саранск и их количество: '"
      ]
     },
     "metadata": {},
     "output_type": "display_data"
    },
    {
     "data": {
      "text/plain": [
       "0    5755\n",
       "1       7\n",
       "Name: саранск, dtype: int64"
      ]
     },
     "metadata": {},
     "output_type": "display_data"
    },
    {
     "data": {
      "text/plain": [
       "'Уникальные значения в колонке саратов и их количество: '"
      ]
     },
     "metadata": {},
     "output_type": "display_data"
    },
    {
     "data": {
      "text/plain": [
       "0    5728\n",
       "1      34\n",
       "Name: саратов, dtype: int64"
      ]
     },
     "metadata": {},
     "output_type": "display_data"
    },
    {
     "data": {
      "text/plain": [
       "'Уникальные значения в колонке саров и их количество: '"
      ]
     },
     "metadata": {},
     "output_type": "display_data"
    },
    {
     "data": {
      "text/plain": [
       "0    5762\n",
       "Name: саров, dtype: int64"
      ]
     },
     "metadata": {},
     "output_type": "display_data"
    },
    {
     "data": {
      "text/plain": [
       "'Уникальные значения в колонке севастополь и их количество: '"
      ]
     },
     "metadata": {},
     "output_type": "display_data"
    },
    {
     "data": {
      "text/plain": [
       "0    5762\n",
       "Name: севастополь, dtype: int64"
      ]
     },
     "metadata": {},
     "output_type": "display_data"
    },
    {
     "data": {
      "text/plain": [
       "'Уникальные значения в колонке северск и их количество: '"
      ]
     },
     "metadata": {},
     "output_type": "display_data"
    },
    {
     "data": {
      "text/plain": [
       "0    5761\n",
       "1       1\n",
       "Name: северск, dtype: int64"
      ]
     },
     "metadata": {},
     "output_type": "display_data"
    },
    {
     "data": {
      "text/plain": [
       "'Уникальные значения в колонке симферополь и их количество: '"
      ]
     },
     "metadata": {},
     "output_type": "display_data"
    },
    {
     "data": {
      "text/plain": [
       "0    5759\n",
       "1       3\n",
       "Name: симферополь, dtype: int64"
      ]
     },
     "metadata": {},
     "output_type": "display_data"
    },
    {
     "data": {
      "text/plain": [
       "'Уникальные значения в колонке сия и их количество: '"
      ]
     },
     "metadata": {},
     "output_type": "display_data"
    },
    {
     "data": {
      "text/plain": [
       "0    5762\n",
       "Name: сия, dtype: int64"
      ]
     },
     "metadata": {},
     "output_type": "display_data"
    },
    {
     "data": {
      "text/plain": [
       "'Уникальные значения в колонке сорговый и их количество: '"
      ]
     },
     "metadata": {},
     "output_type": "display_data"
    },
    {
     "data": {
      "text/plain": [
       "0    5762\n",
       "Name: сорговый, dtype: int64"
      ]
     },
     "metadata": {},
     "output_type": "display_data"
    },
    {
     "data": {
      "text/plain": [
       "'Уникальные значения в колонке сочи и их количество: '"
      ]
     },
     "metadata": {},
     "output_type": "display_data"
    },
    {
     "data": {
      "text/plain": [
       "0    5689\n",
       "1      73\n",
       "Name: сочи, dtype: int64"
      ]
     },
     "metadata": {},
     "output_type": "display_data"
    },
    {
     "data": {
      "text/plain": [
       "'Уникальные значения в колонке ставрополь и их количество: '"
      ]
     },
     "metadata": {},
     "output_type": "display_data"
    },
    {
     "data": {
      "text/plain": [
       "0    5721\n",
       "1      41\n",
       "Name: ставрополь, dtype: int64"
      ]
     },
     "metadata": {},
     "output_type": "display_data"
    },
    {
     "data": {
      "text/plain": [
       "'Уникальные значения в колонке старый оскол и их количество: '"
      ]
     },
     "metadata": {},
     "output_type": "display_data"
    },
    {
     "data": {
      "text/plain": [
       "0    5739\n",
       "1      23\n",
       "Name: старый оскол, dtype: int64"
      ]
     },
     "metadata": {},
     "output_type": "display_data"
    },
    {
     "data": {
      "text/plain": [
       "'Уникальные значения в колонке стерлитамак и их количество: '"
      ]
     },
     "metadata": {},
     "output_type": "display_data"
    },
    {
     "data": {
      "text/plain": [
       "0    5762\n",
       "Name: стерлитамак, dtype: int64"
      ]
     },
     "metadata": {},
     "output_type": "display_data"
    },
    {
     "data": {
      "text/plain": [
       "'Уникальные значения в колонке сургут и их количество: '"
      ]
     },
     "metadata": {},
     "output_type": "display_data"
    },
    {
     "data": {
      "text/plain": [
       "0    5758\n",
       "1       4\n",
       "Name: сургут, dtype: int64"
      ]
     },
     "metadata": {},
     "output_type": "display_data"
    },
    {
     "data": {
      "text/plain": [
       "'Уникальные значения в колонке сыктывкар и их количество: '"
      ]
     },
     "metadata": {},
     "output_type": "display_data"
    },
    {
     "data": {
      "text/plain": [
       "0    5762\n",
       "Name: сыктывкар, dtype: int64"
      ]
     },
     "metadata": {},
     "output_type": "display_data"
    },
    {
     "data": {
      "text/plain": [
       "'Уникальные значения в колонке таймазы и их количество: '"
      ]
     },
     "metadata": {},
     "output_type": "display_data"
    },
    {
     "data": {
      "text/plain": [
       "0    5762\n",
       "Name: таймазы, dtype: int64"
      ]
     },
     "metadata": {},
     "output_type": "display_data"
    },
    {
     "data": {
      "text/plain": [
       "'Уникальные значения в колонке тамбов и их количество: '"
      ]
     },
     "metadata": {},
     "output_type": "display_data"
    },
    {
     "data": {
      "text/plain": [
       "0    5762\n",
       "Name: тамбов, dtype: int64"
      ]
     },
     "metadata": {},
     "output_type": "display_data"
    },
    {
     "data": {
      "text/plain": [
       "'Уникальные значения в колонке тверь и их количество: '"
      ]
     },
     "metadata": {},
     "output_type": "display_data"
    },
    {
     "data": {
      "text/plain": [
       "0    5746\n",
       "1      16\n",
       "Name: тверь, dtype: int64"
      ]
     },
     "metadata": {},
     "output_type": "display_data"
    },
    {
     "data": {
      "text/plain": [
       "'Уникальные значения в колонке тобольск и их количество: '"
      ]
     },
     "metadata": {},
     "output_type": "display_data"
    },
    {
     "data": {
      "text/plain": [
       "0    5762\n",
       "Name: тобольск, dtype: int64"
      ]
     },
     "metadata": {},
     "output_type": "display_data"
    },
    {
     "data": {
      "text/plain": [
       "'Уникальные значения в колонке тольятти и их количество: '"
      ]
     },
     "metadata": {},
     "output_type": "display_data"
    },
    {
     "data": {
      "text/plain": [
       "0    5761\n",
       "1       1\n",
       "Name: тольятти, dtype: int64"
      ]
     },
     "metadata": {},
     "output_type": "display_data"
    },
    {
     "data": {
      "text/plain": [
       "'Уникальные значения в колонке туапсе и их количество: '"
      ]
     },
     "metadata": {},
     "output_type": "display_data"
    },
    {
     "data": {
      "text/plain": [
       "0    5761\n",
       "1       1\n",
       "Name: туапсе, dtype: int64"
      ]
     },
     "metadata": {},
     "output_type": "display_data"
    },
    {
     "data": {
      "text/plain": [
       "'Уникальные значения в колонке тюмень и их количество: '"
      ]
     },
     "metadata": {},
     "output_type": "display_data"
    },
    {
     "data": {
      "text/plain": [
       "0    5762\n",
       "Name: тюмень, dtype: int64"
      ]
     },
     "metadata": {},
     "output_type": "display_data"
    },
    {
     "data": {
      "text/plain": [
       "'Уникальные значения в колонке улан-удэ и их количество: '"
      ]
     },
     "metadata": {},
     "output_type": "display_data"
    },
    {
     "data": {
      "text/plain": [
       "0    5759\n",
       "1       3\n",
       "Name: улан-удэ, dtype: int64"
      ]
     },
     "metadata": {},
     "output_type": "display_data"
    },
    {
     "data": {
      "text/plain": [
       "'Уникальные значения в колонке ульяновск и их количество: '"
      ]
     },
     "metadata": {},
     "output_type": "display_data"
    },
    {
     "data": {
      "text/plain": [
       "0    5737\n",
       "1      25\n",
       "Name: ульяновск, dtype: int64"
      ]
     },
     "metadata": {},
     "output_type": "display_data"
    },
    {
     "data": {
      "text/plain": [
       "'Уникальные значения в колонке усинск и их количество: '"
      ]
     },
     "metadata": {},
     "output_type": "display_data"
    },
    {
     "data": {
      "text/plain": [
       "0    5762\n",
       "Name: усинск, dtype: int64"
      ]
     },
     "metadata": {},
     "output_type": "display_data"
    },
    {
     "data": {
      "text/plain": [
       "'Уникальные значения в колонке усть-илимск и их количество: '"
      ]
     },
     "metadata": {},
     "output_type": "display_data"
    },
    {
     "data": {
      "text/plain": [
       "0    5738\n",
       "1      24\n",
       "Name: усть-илимск, dtype: int64"
      ]
     },
     "metadata": {},
     "output_type": "display_data"
    },
    {
     "data": {
      "text/plain": [
       "'Уникальные значения в колонке уфа и их количество: '"
      ]
     },
     "metadata": {},
     "output_type": "display_data"
    },
    {
     "data": {
      "text/plain": [
       "0    5740\n",
       "1      22\n",
       "Name: уфа, dtype: int64"
      ]
     },
     "metadata": {},
     "output_type": "display_data"
    },
    {
     "data": {
      "text/plain": [
       "'Уникальные значения в колонке феодосия и их количество: '"
      ]
     },
     "metadata": {},
     "output_type": "display_data"
    },
    {
     "data": {
      "text/plain": [
       "0    5761\n",
       "1       1\n",
       "Name: феодосия, dtype: int64"
      ]
     },
     "metadata": {},
     "output_type": "display_data"
    },
    {
     "data": {
      "text/plain": [
       "'Уникальные значения в колонке фокино и их количество: '"
      ]
     },
     "metadata": {},
     "output_type": "display_data"
    },
    {
     "data": {
      "text/plain": [
       "0    5762\n",
       "Name: фокино, dtype: int64"
      ]
     },
     "metadata": {},
     "output_type": "display_data"
    },
    {
     "data": {
      "text/plain": [
       "'Уникальные значения в колонке фрязино и их количество: '"
      ]
     },
     "metadata": {},
     "output_type": "display_data"
    },
    {
     "data": {
      "text/plain": [
       "0    5753\n",
       "1       9\n",
       "Name: фрязино, dtype: int64"
      ]
     },
     "metadata": {},
     "output_type": "display_data"
    },
    {
     "data": {
      "text/plain": [
       "'Уникальные значения в колонке хабаровск и их количество: '"
      ]
     },
     "metadata": {},
     "output_type": "display_data"
    },
    {
     "data": {
      "text/plain": [
       "0    5760\n",
       "1       2\n",
       "Name: хабаровск, dtype: int64"
      ]
     },
     "metadata": {},
     "output_type": "display_data"
    },
    {
     "data": {
      "text/plain": [
       "'Уникальные значения в колонке химки и их количество: '"
      ]
     },
     "metadata": {},
     "output_type": "display_data"
    },
    {
     "data": {
      "text/plain": [
       "0    5750\n",
       "1      12\n",
       "Name: химки, dtype: int64"
      ]
     },
     "metadata": {},
     "output_type": "display_data"
    },
    {
     "data": {
      "text/plain": [
       "'Уникальные значения в колонке чебоксары и их количество: '"
      ]
     },
     "metadata": {},
     "output_type": "display_data"
    },
    {
     "data": {
      "text/plain": [
       "0    5762\n",
       "Name: чебоксары, dtype: int64"
      ]
     },
     "metadata": {},
     "output_type": "display_data"
    },
    {
     "data": {
      "text/plain": [
       "'Уникальные значения в колонке челябинск и их количество: '"
      ]
     },
     "metadata": {},
     "output_type": "display_data"
    },
    {
     "data": {
      "text/plain": [
       "0    5753\n",
       "1       9\n",
       "Name: челябинск, dtype: int64"
      ]
     },
     "metadata": {},
     "output_type": "display_data"
    },
    {
     "data": {
      "text/plain": [
       "'Уникальные значения в колонке черноголовка и их количество: '"
      ]
     },
     "metadata": {},
     "output_type": "display_data"
    },
    {
     "data": {
      "text/plain": [
       "0    5752\n",
       "1      10\n",
       "Name: черноголовка, dtype: int64"
      ]
     },
     "metadata": {},
     "output_type": "display_data"
    },
    {
     "data": {
      "text/plain": [
       "'Уникальные значения в колонке шелехов и их количество: '"
      ]
     },
     "metadata": {},
     "output_type": "display_data"
    },
    {
     "data": {
      "text/plain": [
       "0    5762\n",
       "Name: шелехов, dtype: int64"
      ]
     },
     "metadata": {},
     "output_type": "display_data"
    },
    {
     "data": {
      "text/plain": [
       "'Уникальные значения в колонке шемышейка и их количество: '"
      ]
     },
     "metadata": {},
     "output_type": "display_data"
    },
    {
     "data": {
      "text/plain": [
       "0    5762\n",
       "Name: шемышейка, dtype: int64"
      ]
     },
     "metadata": {},
     "output_type": "display_data"
    },
    {
     "data": {
      "text/plain": [
       "'Уникальные значения в колонке шиндалово и их количество: '"
      ]
     },
     "metadata": {},
     "output_type": "display_data"
    },
    {
     "data": {
      "text/plain": [
       "0    5762\n",
       "Name: шиндалово, dtype: int64"
      ]
     },
     "metadata": {},
     "output_type": "display_data"
    },
    {
     "data": {
      "text/plain": [
       "'Уникальные значения в колонке шумерля и их количество: '"
      ]
     },
     "metadata": {},
     "output_type": "display_data"
    },
    {
     "data": {
      "text/plain": [
       "0    5762\n",
       "Name: шумерля, dtype: int64"
      ]
     },
     "metadata": {},
     "output_type": "display_data"
    },
    {
     "data": {
      "text/plain": [
       "'Уникальные значения в колонке щекино и их количество: '"
      ]
     },
     "metadata": {},
     "output_type": "display_data"
    },
    {
     "data": {
      "text/plain": [
       "0    5762\n",
       "Name: щекино, dtype: int64"
      ]
     },
     "metadata": {},
     "output_type": "display_data"
    },
    {
     "data": {
      "text/plain": [
       "'Уникальные значения в колонке щелково и их количество: '"
      ]
     },
     "metadata": {},
     "output_type": "display_data"
    },
    {
     "data": {
      "text/plain": [
       "0    5754\n",
       "1       8\n",
       "Name: щелково, dtype: int64"
      ]
     },
     "metadata": {},
     "output_type": "display_data"
    },
    {
     "data": {
      "text/plain": [
       "'Уникальные значения в колонке электросталь и их количество: '"
      ]
     },
     "metadata": {},
     "output_type": "display_data"
    },
    {
     "data": {
      "text/plain": [
       "0    5761\n",
       "1       1\n",
       "Name: электросталь, dtype: int64"
      ]
     },
     "metadata": {},
     "output_type": "display_data"
    },
    {
     "data": {
      "text/plain": [
       "'Уникальные значения в колонке элиста и их количество: '"
      ]
     },
     "metadata": {},
     "output_type": "display_data"
    },
    {
     "data": {
      "text/plain": [
       "0    5762\n",
       "Name: элиста, dtype: int64"
      ]
     },
     "metadata": {},
     "output_type": "display_data"
    },
    {
     "data": {
      "text/plain": [
       "'Уникальные значения в колонке юбилейный и их количество: '"
      ]
     },
     "metadata": {},
     "output_type": "display_data"
    },
    {
     "data": {
      "text/plain": [
       "0    5762\n",
       "Name: юбилейный, dtype: int64"
      ]
     },
     "metadata": {},
     "output_type": "display_data"
    },
    {
     "data": {
      "text/plain": [
       "'Уникальные значения в колонке южно-сахалинск и их количество: '"
      ]
     },
     "metadata": {},
     "output_type": "display_data"
    },
    {
     "data": {
      "text/plain": [
       "0    5761\n",
       "1       1\n",
       "Name: южно-сахалинск, dtype: int64"
      ]
     },
     "metadata": {},
     "output_type": "display_data"
    },
    {
     "data": {
      "text/plain": [
       "'Уникальные значения в колонке якутск и их количество: '"
      ]
     },
     "metadata": {},
     "output_type": "display_data"
    },
    {
     "data": {
      "text/plain": [
       "0    5632\n",
       "1     130\n",
       "Name: якутск, dtype: int64"
      ]
     },
     "metadata": {},
     "output_type": "display_data"
    },
    {
     "data": {
      "text/plain": [
       "'Уникальные значения в колонке ярково и их количество: '"
      ]
     },
     "metadata": {},
     "output_type": "display_data"
    },
    {
     "data": {
      "text/plain": [
       "0    5762\n",
       "Name: ярково, dtype: int64"
      ]
     },
     "metadata": {},
     "output_type": "display_data"
    },
    {
     "data": {
      "text/plain": [
       "'Уникальные значения в колонке ярославль и их количество: '"
      ]
     },
     "metadata": {},
     "output_type": "display_data"
    },
    {
     "data": {
      "text/plain": [
       "0    5741\n",
       "1      21\n",
       "Name: ярославль, dtype: int64"
      ]
     },
     "metadata": {},
     "output_type": "display_data"
    },
    {
     "data": {
      "text/plain": [
       "'Уникальные значения в колонке is_delta_lifetime_decrease и их количество: '"
      ]
     },
     "metadata": {},
     "output_type": "display_data"
    },
    {
     "data": {
      "text/plain": [
       "1    3320\n",
       "0    2442\n",
       "Name: is_delta_lifetime_decrease, dtype: int64"
      ]
     },
     "metadata": {},
     "output_type": "display_data"
    },
    {
     "data": {
      "text/plain": [
       "'Уникальные значения в колонке is_delta_sum_increase и их количество: '"
      ]
     },
     "metadata": {},
     "output_type": "display_data"
    },
    {
     "data": {
      "text/plain": [
       "1    5286\n",
       "0     476\n",
       "Name: is_delta_sum_increase, dtype: int64"
      ]
     },
     "metadata": {},
     "output_type": "display_data"
    },
    {
     "data": {
      "text/plain": [
       "'Уникальные значения в колонке is_target_group и их количество: '"
      ]
     },
     "metadata": {},
     "output_type": "display_data"
    },
    {
     "data": {
      "text/plain": [
       "1    5496\n",
       "0     266\n",
       "Name: is_target_group, dtype: int64"
      ]
     },
     "metadata": {},
     "output_type": "display_data"
    },
    {
     "data": {
      "text/plain": [
       "'Уникальные значения в колонке year_quarter и их количество: '"
      ]
     },
     "metadata": {},
     "output_type": "display_data"
    },
    {
     "data": {
      "text/plain": [
       "2    1611\n",
       "3    1425\n",
       "4    1388\n",
       "1    1338\n",
       "Name: year_quarter, dtype: int64"
      ]
     },
     "metadata": {},
     "output_type": "display_data"
    }
   ],
   "source": [
    "date_first_glampse(df_without_nan)"
   ]
  },
  {
   "cell_type": "code",
   "execution_count": 32,
   "id": "078a9212",
   "metadata": {},
   "outputs": [],
   "source": [
    "#df_droped_col = df.drop(columns=['city','gender','is_woman','payment_year'])\n",
    "#df_train_valid = df.query('payment_year<2022')\n",
    "#df_train_valid.shape"
   ]
  },
  {
   "cell_type": "code",
   "execution_count": null,
   "id": "f1a76bf7",
   "metadata": {},
   "outputs": [],
   "source": []
  },
  {
   "cell_type": "code",
   "execution_count": null,
   "id": "c367e403",
   "metadata": {},
   "outputs": [],
   "source": []
  },
  {
   "cell_type": "code",
   "execution_count": null,
   "id": "d71feb61",
   "metadata": {},
   "outputs": [],
   "source": []
  },
  {
   "cell_type": "code",
   "execution_count": null,
   "id": "1732fcc7",
   "metadata": {},
   "outputs": [],
   "source": []
  },
  {
   "cell_type": "code",
   "execution_count": null,
   "id": "e1cd833e",
   "metadata": {},
   "outputs": [],
   "source": []
  }
 ],
 "metadata": {
  "kernelspec": {
   "display_name": "Python 3",
   "language": "python",
   "name": "python3"
  },
  "language_info": {
   "codemirror_mode": {
    "name": "ipython",
    "version": 3
   },
   "file_extension": ".py",
   "mimetype": "text/x-python",
   "name": "python",
   "nbconvert_exporter": "python",
   "pygments_lexer": "ipython3",
   "version": "3.8.8"
  },
  "toc": {
   "base_numbering": 1,
   "nav_menu": {},
   "number_sections": false,
   "sideBar": true,
   "skip_h1_title": false,
   "title_cell": "Table of Contents",
   "title_sidebar": "Contents",
   "toc_cell": false,
   "toc_position": {
    "height": "calc(100% - 180px)",
    "left": "10px",
    "top": "150px",
    "width": "299.2px"
   },
   "toc_section_display": true,
   "toc_window_display": false
  }
 },
 "nbformat": 4,
 "nbformat_minor": 5
}
