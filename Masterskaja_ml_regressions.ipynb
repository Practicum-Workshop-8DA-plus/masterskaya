{
 "cells": [
  {
   "cell_type": "markdown",
   "id": "7561e481",
   "metadata": {},
   "source": [
    "# Знакомство, предобработка, EDA"
   ]
  },
  {
   "cell_type": "code",
   "execution_count": 1,
   "id": "0b3efca4",
   "metadata": {},
   "outputs": [],
   "source": [
    "import numpy as np\n",
    "import pandas as pd\n",
    "pd.set_option('display.float_format', '{:,.2f}'.format)\n",
    "import matplotlib\n",
    "import matplotlib.pyplot as plt\n",
    "import seaborn as sns"
   ]
  },
  {
   "cell_type": "code",
   "execution_count": 2,
   "id": "afb3bcb5",
   "metadata": {},
   "outputs": [],
   "source": [
    "path = 'C:/Users/user/JupiterIra/Yandex/Мастерская/1_предсказание частоты событий/data/data_blago_all.xlsx'\n",
    "donors = pd.read_excel(path, sheet_name='Доноры')\n",
    "donats = pd.read_excel(path, sheet_name='Пожертвования')"
   ]
  },
  {
   "cell_type": "code",
   "execution_count": 3,
   "id": "e4cea89f",
   "metadata": {},
   "outputs": [],
   "source": [
    "# Функция для просмотра данных в дф\n",
    "def date_first_glampse(df):\n",
    "    display('Несколько строк: ', df.sample(3))\n",
    "    display('Общая информация: ')\n",
    "    df.info()\n",
    "    display('Дубликаты: ', df.duplicated().sum())\n",
    "    for col in df.columns:\n",
    "        display(f'Уникальные значения в колонке {col} и их количество: ', df[col].value_counts(dropna=False))"
   ]
  },
  {
   "cell_type": "code",
   "execution_count": 4,
   "id": "a03194aa",
   "metadata": {},
   "outputs": [
    {
     "data": {
      "text/plain": [
       "'Несколько строк: '"
      ]
     },
     "metadata": {},
     "output_type": "display_data"
    },
    {
     "data": {
      "text/html": [
       "<div>\n",
       "<style scoped>\n",
       "    .dataframe tbody tr th:only-of-type {\n",
       "        vertical-align: middle;\n",
       "    }\n",
       "\n",
       "    .dataframe tbody tr th {\n",
       "        vertical-align: top;\n",
       "    }\n",
       "\n",
       "    .dataframe thead th {\n",
       "        text-align: right;\n",
       "    }\n",
       "</style>\n",
       "<table border=\"1\" class=\"dataframe\">\n",
       "  <thead>\n",
       "    <tr style=\"text-align: right;\">\n",
       "      <th></th>\n",
       "      <th>ID</th>\n",
       "      <th>Пол</th>\n",
       "      <th>Город</th>\n",
       "      <th>Дата последней email активности</th>\n",
       "    </tr>\n",
       "  </thead>\n",
       "  <tbody>\n",
       "    <tr>\n",
       "      <th>3168</th>\n",
       "      <td>D52221EE-F2DF-42C9-8E51-DD6258AEAE96</td>\n",
       "      <td>Женский                                       ...</td>\n",
       "      <td>Нижний Новгород</td>\n",
       "      <td>2022-07-18 16:29:48</td>\n",
       "    </tr>\n",
       "    <tr>\n",
       "      <th>3272</th>\n",
       "      <td>EB1EEB35-9C11-4932-854B-E48C9B9E608F</td>\n",
       "      <td>Женский                                       ...</td>\n",
       "      <td>NaN</td>\n",
       "      <td>NaT</td>\n",
       "    </tr>\n",
       "    <tr>\n",
       "      <th>2499</th>\n",
       "      <td>CA08A008-63C8-48A0-AA07-ADD9FD8D66E7</td>\n",
       "      <td>Женский                                       ...</td>\n",
       "      <td>NaN</td>\n",
       "      <td>2022-07-18 16:29:38</td>\n",
       "    </tr>\n",
       "  </tbody>\n",
       "</table>\n",
       "</div>"
      ],
      "text/plain": [
       "                                        ID  \\\n",
       "3168  D52221EE-F2DF-42C9-8E51-DD6258AEAE96   \n",
       "3272  EB1EEB35-9C11-4932-854B-E48C9B9E608F   \n",
       "2499  CA08A008-63C8-48A0-AA07-ADD9FD8D66E7   \n",
       "\n",
       "                                                    Пол            Город  \\\n",
       "3168  Женский                                       ...  Нижний Новгород   \n",
       "3272  Женский                                       ...              NaN   \n",
       "2499  Женский                                       ...              NaN   \n",
       "\n",
       "     Дата последней email активности  \n",
       "3168             2022-07-18 16:29:48  \n",
       "3272                             NaT  \n",
       "2499             2022-07-18 16:29:38  "
      ]
     },
     "metadata": {},
     "output_type": "display_data"
    },
    {
     "data": {
      "text/plain": [
       "'Общая информация: '"
      ]
     },
     "metadata": {},
     "output_type": "display_data"
    },
    {
     "name": "stdout",
     "output_type": "stream",
     "text": [
      "<class 'pandas.core.frame.DataFrame'>\n",
      "RangeIndex: 3683 entries, 0 to 3682\n",
      "Data columns (total 4 columns):\n",
      " #   Column                           Non-Null Count  Dtype         \n",
      "---  ------                           --------------  -----         \n",
      " 0   ID                               3683 non-null   object        \n",
      " 1   Пол                              2431 non-null   object        \n",
      " 2   Город                            1015 non-null   object        \n",
      " 3   Дата последней email активности  1835 non-null   datetime64[ns]\n",
      "dtypes: datetime64[ns](1), object(3)\n",
      "memory usage: 115.2+ KB\n"
     ]
    },
    {
     "data": {
      "text/plain": [
       "'Дубликаты: '"
      ]
     },
     "metadata": {},
     "output_type": "display_data"
    },
    {
     "data": {
      "text/plain": [
       "0"
      ]
     },
     "metadata": {},
     "output_type": "display_data"
    },
    {
     "data": {
      "text/plain": [
       "'Уникальные значения в колонке ID и их количество: '"
      ]
     },
     "metadata": {},
     "output_type": "display_data"
    },
    {
     "data": {
      "text/plain": [
       "630E2891-CDAC-4D4E-94D2-5DF1F97FAC33    1\n",
       "25D1105D-DC9F-4281-B7D7-0D38442E498A    1\n",
       "B5449162-4243-4C24-835D-B699D14CBCB7    1\n",
       "701139D2-59E6-4B84-B1FD-191459A363D8    1\n",
       "A3484CA5-2DA7-4415-BE7E-EE9DE3857710    1\n",
       "                                       ..\n",
       "149BAE59-7CA2-4C4D-9981-3DDE289F7244    1\n",
       "26D115A6-0FDB-4880-B96C-EB3A75A589F8    1\n",
       "EE65B0B1-50C4-422E-87BD-BF7891B18C0B    1\n",
       "61905A97-6F83-43BF-B368-46ACF83EB0C7    1\n",
       "60F3A49E-F910-4133-8EEC-76FFEB0EE3BA    1\n",
       "Name: ID, Length: 3683, dtype: int64"
      ]
     },
     "metadata": {},
     "output_type": "display_data"
    },
    {
     "data": {
      "text/plain": [
       "'Уникальные значения в колонке Пол и их количество: '"
      ]
     },
     "metadata": {},
     "output_type": "display_data"
    },
    {
     "data": {
      "text/plain": [
       "Женский                                                                                                                                                                                                                                                       1874\n",
       "NaN                                                                                                                                                                                                                                                           1252\n",
       "Мужской                                                                                                                                                                                                                                                        557\n",
       "Name: Пол, dtype: int64"
      ]
     },
     "metadata": {},
     "output_type": "display_data"
    },
    {
     "data": {
      "text/plain": [
       "'Уникальные значения в колонке Город и их количество: '"
      ]
     },
     "metadata": {},
     "output_type": "display_data"
    },
    {
     "data": {
      "text/plain": [
       "NaN                 2668\n",
       "Москва               458\n",
       "Санкт-Петербург       78\n",
       "Краснодар             23\n",
       "Нижний Новгород       20\n",
       "                    ... \n",
       "Орел                   1\n",
       "НЯГАНЬ                 1\n",
       " БОЛЬШОЕ ПОЛПИНО       1\n",
       "БЛАГОВЕЩЕНСК           1\n",
       "Сорговый               1\n",
       "Name: Город, Length: 235, dtype: int64"
      ]
     },
     "metadata": {},
     "output_type": "display_data"
    },
    {
     "data": {
      "text/plain": [
       "'Уникальные значения в колонке Дата последней email активности и их количество: '"
      ]
     },
     "metadata": {},
     "output_type": "display_data"
    },
    {
     "data": {
      "text/plain": [
       "NaT                    1848\n",
       "2022-07-18 16:29:49     294\n",
       "2022-07-18 16:29:48     229\n",
       "2022-07-18 16:29:50     163\n",
       "2022-07-18 16:29:47     114\n",
       "                       ... \n",
       "2022-07-25 10:09:28       1\n",
       "2022-05-18 12:26:22       1\n",
       "2022-07-18 16:54:44       1\n",
       "2022-07-21 20:42:34       1\n",
       "2022-07-22 15:21:48       1\n",
       "Name: Дата последней email активности, Length: 654, dtype: int64"
      ]
     },
     "metadata": {},
     "output_type": "display_data"
    },
    {
     "data": {
      "text/plain": [
       "'Несколько строк: '"
      ]
     },
     "metadata": {},
     "output_type": "display_data"
    },
    {
     "data": {
      "text/html": [
       "<div>\n",
       "<style scoped>\n",
       "    .dataframe tbody tr th:only-of-type {\n",
       "        vertical-align: middle;\n",
       "    }\n",
       "\n",
       "    .dataframe tbody tr th {\n",
       "        vertical-align: top;\n",
       "    }\n",
       "\n",
       "    .dataframe thead th {\n",
       "        text-align: right;\n",
       "    }\n",
       "</style>\n",
       "<table border=\"1\" class=\"dataframe\">\n",
       "  <thead>\n",
       "    <tr style=\"text-align: right;\">\n",
       "      <th></th>\n",
       "      <th>Donor ID</th>\n",
       "      <th>Дата платежа</th>\n",
       "      <th>Сумма платежа</th>\n",
       "      <th>Рекуррентный</th>\n",
       "      <th>Назначение платежа</th>\n",
       "      <th>Канал оплаты</th>\n",
       "    </tr>\n",
       "  </thead>\n",
       "  <tbody>\n",
       "    <tr>\n",
       "      <th>11371</th>\n",
       "      <td>9737D0B5-73B6-4C27-BE4E-BA63211BDE9E</td>\n",
       "      <td>2020-02-27 21:23:51</td>\n",
       "      <td>1,000.00</td>\n",
       "      <td>Да                                            ...</td>\n",
       "      <td>ПОЖЕРТВОВАНИЕ</td>\n",
       "      <td>Банковские карты</td>\n",
       "    </tr>\n",
       "    <tr>\n",
       "      <th>5365</th>\n",
       "      <td>87A1C66F-B991-4E42-9DBE-31DAF4BA94A3</td>\n",
       "      <td>2019-04-26 13:27:39</td>\n",
       "      <td>100.00</td>\n",
       "      <td>Нет                                           ...</td>\n",
       "      <td>NaN</td>\n",
       "      <td>SMS</td>\n",
       "    </tr>\n",
       "    <tr>\n",
       "      <th>8835</th>\n",
       "      <td>5C31E830-6778-4C81-89C6-C2C807C79167</td>\n",
       "      <td>2019-04-17 18:50:01</td>\n",
       "      <td>5,000.00</td>\n",
       "      <td>Да                                            ...</td>\n",
       "      <td>Пожертвование в фонд помощи детям-отказникам и...</td>\n",
       "      <td>Банковские карты</td>\n",
       "    </tr>\n",
       "  </tbody>\n",
       "</table>\n",
       "</div>"
      ],
      "text/plain": [
       "                                   Donor ID        Дата платежа  \\\n",
       "11371  9737D0B5-73B6-4C27-BE4E-BA63211BDE9E 2020-02-27 21:23:51   \n",
       "5365   87A1C66F-B991-4E42-9DBE-31DAF4BA94A3 2019-04-26 13:27:39   \n",
       "8835   5C31E830-6778-4C81-89C6-C2C807C79167 2019-04-17 18:50:01   \n",
       "\n",
       "       Сумма платежа                                       Рекуррентный  \\\n",
       "11371       1,000.00  Да                                            ...   \n",
       "5365          100.00  Нет                                           ...   \n",
       "8835        5,000.00  Да                                            ...   \n",
       "\n",
       "                                      Назначение платежа        Канал оплаты  \n",
       "11371                                      ПОЖЕРТВОВАНИЕ  Банковские карты    \n",
       "5365                                                 NaN               SMS    \n",
       "8835   Пожертвование в фонд помощи детям-отказникам и...  Банковские карты    "
      ]
     },
     "metadata": {},
     "output_type": "display_data"
    },
    {
     "data": {
      "text/plain": [
       "'Общая информация: '"
      ]
     },
     "metadata": {},
     "output_type": "display_data"
    },
    {
     "name": "stdout",
     "output_type": "stream",
     "text": [
      "<class 'pandas.core.frame.DataFrame'>\n",
      "RangeIndex: 14043 entries, 0 to 14042\n",
      "Data columns (total 6 columns):\n",
      " #   Column              Non-Null Count  Dtype         \n",
      "---  ------              --------------  -----         \n",
      " 0   Donor ID            14043 non-null  object        \n",
      " 1   Дата платежа        14043 non-null  datetime64[ns]\n",
      " 2   Сумма платежа       14043 non-null  float64       \n",
      " 3   Рекуррентный        14043 non-null  object        \n",
      " 4   Назначение платежа  12774 non-null  object        \n",
      " 5   Канал оплаты        14043 non-null  object        \n",
      "dtypes: datetime64[ns](1), float64(1), object(4)\n",
      "memory usage: 658.4+ KB\n"
     ]
    },
    {
     "data": {
      "text/plain": [
       "'Дубликаты: '"
      ]
     },
     "metadata": {},
     "output_type": "display_data"
    },
    {
     "data": {
      "text/plain": [
       "12"
      ]
     },
     "metadata": {},
     "output_type": "display_data"
    },
    {
     "data": {
      "text/plain": [
       "'Уникальные значения в колонке Donor ID и их количество: '"
      ]
     },
     "metadata": {},
     "output_type": "display_data"
    },
    {
     "data": {
      "text/plain": [
       "8A8DAECD-40B3-4A41-B53C-06A62BE672E6    83\n",
       "F836F738-FB7E-4134-ABA8-B6E9CA1E71EA    76\n",
       "0B6DA68C-558B-4153-806E-B1D775585B88    76\n",
       "85348172-F358-4345-91F1-DB8CF0531C8A    73\n",
       "4ECB767F-8830-497B-B395-851D4EACD1F8    65\n",
       "                                        ..\n",
       "02771765-505E-4E95-8FBD-531F936F50C8     1\n",
       "5DE4760A-D2BD-4E61-BA05-F36527A865BA     1\n",
       "533E2EE6-EB8A-4029-9720-8933E63CAE7A     1\n",
       "C938D51B-CB03-47EE-AD48-2E076E3DEF7E     1\n",
       "60F3A49E-F910-4133-8EEC-76FFEB0EE3BA     1\n",
       "Name: Donor ID, Length: 3683, dtype: int64"
      ]
     },
     "metadata": {},
     "output_type": "display_data"
    },
    {
     "data": {
      "text/plain": [
       "'Уникальные значения в колонке Дата платежа и их количество: '"
      ]
     },
     "metadata": {},
     "output_type": "display_data"
    },
    {
     "data": {
      "text/plain": [
       "2021-04-12 00:00:00    9\n",
       "2022-05-02 00:00:00    8\n",
       "2022-07-18 00:00:00    8\n",
       "2022-04-24 00:00:00    7\n",
       "2021-06-16 00:00:00    7\n",
       "                      ..\n",
       "2021-03-25 15:48:54    1\n",
       "2016-04-16 14:40:04    1\n",
       "2021-12-25 09:13:51    1\n",
       "2022-03-03 20:23:36    1\n",
       "2019-04-28 20:04:13    1\n",
       "Name: Дата платежа, Length: 13386, dtype: int64"
      ]
     },
     "metadata": {},
     "output_type": "display_data"
    },
    {
     "data": {
      "text/plain": [
       "'Уникальные значения в колонке Сумма платежа и их количество: '"
      ]
     },
     "metadata": {},
     "output_type": "display_data"
    },
    {
     "data": {
      "text/plain": [
       "500.00       3175\n",
       "100.00       2470\n",
       "300.00       1744\n",
       "1,000.00     1743\n",
       "200.00       1454\n",
       "             ... \n",
       "27,108.00       1\n",
       "661.00          1\n",
       "0.69            1\n",
       "8.65            1\n",
       "188.00          1\n",
       "Name: Сумма платежа, Length: 373, dtype: int64"
      ]
     },
     "metadata": {},
     "output_type": "display_data"
    },
    {
     "data": {
      "text/plain": [
       "'Уникальные значения в колонке Рекуррентный и их количество: '"
      ]
     },
     "metadata": {},
     "output_type": "display_data"
    },
    {
     "data": {
      "text/plain": [
       "Да                                                                                                                                                                                                                                                            8085\n",
       "Нет                                                                                                                                                                                                                                                           5958\n",
       "Name: Рекуррентный, dtype: int64"
      ]
     },
     "metadata": {},
     "output_type": "display_data"
    },
    {
     "data": {
      "text/plain": [
       "'Уникальные значения в колонке Назначение платежа и их количество: '"
      ]
     },
     "metadata": {},
     "output_type": "display_data"
    },
    {
     "data": {
      "text/plain": [
       "ПОЖЕРТВОВАНИЕ                                                                             3811\n",
       "Пожертвование в фонд помощи детям-отказникам и детям-сиротам \"Бюро Добрых Дел\"            3335\n",
       "ПОЖЕРТВОВАНИЕ  undefined                                                                  2162\n",
       "NaN                                                                                       1269\n",
       "Добровольное пожертвование. НДС не облагается                                              497\n",
       "                                                                                          ... \n",
       "ДОБРОВОЛЬНОЕ ПОЖЕРТВОВАНИЕ;Сумма 50 руб.;Комиссия 0 руб;Дата оплаты 22/11/2019;              1\n",
       "ДОБРОВОЛЬНОЕ ПОЖЕРТВОВАНИЕ;Сумма 500.00 руб.;Комиссия 0.00 руб;Дата оплаты 20/01/2022;       1\n",
       "ДОБРОВОЛЬНОЕ ПОЖЕРТВОВАНИЕ;Сумма 200 руб.;Комиссия 0 руб;Дата оплаты 10/06/2019;             1\n",
       "ДОБРОВОЛЬНОЕ ПОЖЕРТВОВАНИЕ;Сумма 1000 руб.;Комиссия 0 руб;Дата оплаты 12/06/2020;            1\n",
       "ДОБРОВОЛЬНОЕ ПОЖЕРТВОВАНИЕ;Сумма 300 руб.;Комиссия 0 руб;Дата оплаты 17/04/2020;             1\n",
       "Name: Назначение платежа, Length: 894, dtype: int64"
      ]
     },
     "metadata": {},
     "output_type": "display_data"
    },
    {
     "data": {
      "text/plain": [
       "'Уникальные значения в колонке Канал оплаты и их количество: '"
      ]
     },
     "metadata": {},
     "output_type": "display_data"
    },
    {
     "data": {
      "text/plain": [
       "Банковские карты                11204\n",
       "SMS                              1474\n",
       "Прямые поступления на счет       1362\n",
       "Наличные в кассу                    3\n",
       "Name: Канал оплаты, dtype: int64"
      ]
     },
     "metadata": {},
     "output_type": "display_data"
    }
   ],
   "source": [
    "for df in [donors,donats]:\n",
    "    date_first_glampse(df)"
   ]
  },
  {
   "cell_type": "code",
   "execution_count": 5,
   "id": "6459f6af",
   "metadata": {},
   "outputs": [],
   "source": [
    "# т.к. количество уникальных id равны, объединим таблицы в одну,\n",
    "# предварительно переименовав столбец в donats\n",
    "\n",
    "donats = donats.rename(columns={'Donor ID' : 'ID'})\n",
    "\n",
    "df = donats.merge(donors, how='left', on = 'ID')"
   ]
  },
  {
   "cell_type": "code",
   "execution_count": 6,
   "id": "e00f19bf",
   "metadata": {},
   "outputs": [],
   "source": [
    "#приведем датасет к нижнему регистру\n",
    "df = df.apply(lambda x: x.str.lower() if(x.dtype == 'object') else x)\n",
    "\n",
    "# переименуем столбцы, приведя их к змеиному регистру\n",
    "df = df.rename(columns = \n",
    "              {\n",
    "                  'ID':'id',\n",
    "                  'Дата платежа':'date',\n",
    "                  'Сумма платежа':'sum',\n",
    "                  'Пол':'gender',\n",
    "                  'Город':'city',\n",
    "                  'Назначение платежа' : 'purpose',\n",
    "                  'Рекуррентный' : 'is_reccurent',\n",
    "                  'Канал оплаты' : 'channel',\n",
    "                  'Дата последней email активности': 'last_email_activity'\n",
    "                  \n",
    "              }\n",
    "              )\n",
    "\n",
    "# удалим дубликаты\n",
    "df = df.drop_duplicates()"
   ]
  },
  {
   "cell_type": "code",
   "execution_count": 7,
   "id": "ccbc4a91",
   "metadata": {},
   "outputs": [],
   "source": [
    "df['payment_date'] = df['date'].dt.date\n",
    "df = df.drop('date',axis=1)"
   ]
  },
  {
   "cell_type": "code",
   "execution_count": 8,
   "id": "8f0128b3",
   "metadata": {},
   "outputs": [
    {
     "data": {
      "text/plain": [
       "id                    0.00\n",
       "sum                   0.00\n",
       "is_reccurent          0.00\n",
       "purpose               0.09\n",
       "channel               0.00\n",
       "gender                0.11\n",
       "city                  0.52\n",
       "last_email_activity   0.21\n",
       "payment_date          0.00\n",
       "dtype: float64"
      ]
     },
     "execution_count": 8,
     "metadata": {},
     "output_type": "execute_result"
    }
   ],
   "source": [
    "# Пропуски\n",
    "df.isna().sum()/len(df)"
   ]
  },
  {
   "cell_type": "code",
   "execution_count": 9,
   "id": "9034cf19",
   "metadata": {},
   "outputs": [],
   "source": [
    "df['is_reccurent'] = df['is_reccurent'].replace({'нет                                                                                                                                                                                                                                                       ':\n",
    "                                                 0, \n",
    "                                                 'да                                                                                                                                                                                                                                                        ':\n",
    "                                                 1})\n",
    "df['is_woman'] = df['gender'].replace({'мужской                                                                                                                                                                                                                                                   ':\n",
    "                                     0, \n",
    "                                    'женский                                                                                                                                                                                                                                                   ':\n",
    "                                    1})\n",
    "# удалим столбец 'city'\n",
    "df = df.drop('gender',axis=1)"
   ]
  },
  {
   "cell_type": "code",
   "execution_count": 10,
   "id": "82ed6cf1",
   "metadata": {},
   "outputs": [
    {
     "data": {
      "text/html": [
       "<div>\n",
       "<style scoped>\n",
       "    .dataframe tbody tr th:only-of-type {\n",
       "        vertical-align: middle;\n",
       "    }\n",
       "\n",
       "    .dataframe tbody tr th {\n",
       "        vertical-align: top;\n",
       "    }\n",
       "\n",
       "    .dataframe thead th {\n",
       "        text-align: right;\n",
       "    }\n",
       "</style>\n",
       "<table border=\"1\" class=\"dataframe\">\n",
       "  <thead>\n",
       "    <tr style=\"text-align: right;\">\n",
       "      <th></th>\n",
       "      <th>id</th>\n",
       "      <th>sum</th>\n",
       "      <th>is_reccurent</th>\n",
       "      <th>purpose</th>\n",
       "      <th>channel</th>\n",
       "      <th>city</th>\n",
       "      <th>last_email_activity</th>\n",
       "      <th>payment_date</th>\n",
       "      <th>is_woman</th>\n",
       "      <th>life_time</th>\n",
       "      <th>delta_days_with_first_pay</th>\n",
       "      <th>day_of_year</th>\n",
       "      <th>life_time_cumsum</th>\n",
       "      <th>life_time_cumsum_group</th>\n",
       "      <th>is_last_year_pay</th>\n",
       "      <th>is_first_year_pay</th>\n",
       "    </tr>\n",
       "  </thead>\n",
       "  <tbody>\n",
       "    <tr>\n",
       "      <th>10367</th>\n",
       "      <td>e702d9da-dc44-4861-89b8-53eee26e1e06</td>\n",
       "      <td>300.00</td>\n",
       "      <td>1</td>\n",
       "      <td>пожертвование  undefined</td>\n",
       "      <td>банковские карты</td>\n",
       "      <td>брянск</td>\n",
       "      <td>2022-07-18 16:29:48</td>\n",
       "      <td>2022-03-29</td>\n",
       "      <td>0.00</td>\n",
       "      <td>28</td>\n",
       "      <td>2445</td>\n",
       "      <td>88</td>\n",
       "      <td>455</td>\n",
       "      <td>от 1 до 2</td>\n",
       "      <td>1</td>\n",
       "      <td>0</td>\n",
       "    </tr>\n",
       "    <tr>\n",
       "      <th>11247</th>\n",
       "      <td>6b60b0cd-41aa-45c8-963a-d53f2999a567</td>\n",
       "      <td>500.00</td>\n",
       "      <td>1</td>\n",
       "      <td>пожертвование  undefined</td>\n",
       "      <td>банковские карты</td>\n",
       "      <td>москва</td>\n",
       "      <td>2022-07-18 16:29:48</td>\n",
       "      <td>2021-11-01</td>\n",
       "      <td>1.00</td>\n",
       "      <td>31</td>\n",
       "      <td>2297</td>\n",
       "      <td>305</td>\n",
       "      <td>153</td>\n",
       "      <td>до 1</td>\n",
       "      <td>1</td>\n",
       "      <td>1</td>\n",
       "    </tr>\n",
       "    <tr>\n",
       "      <th>5721</th>\n",
       "      <td>c0bdfc0b-7193-498c-8ef5-624fdb8f0510</td>\n",
       "      <td>200.00</td>\n",
       "      <td>0</td>\n",
       "      <td>пожертвование в фонд помощи детям-отказникам и...</td>\n",
       "      <td>банковские карты</td>\n",
       "      <td>NaN</td>\n",
       "      <td>2022-07-18 16:29:47</td>\n",
       "      <td>2017-05-25</td>\n",
       "      <td>0.00</td>\n",
       "      <td>0</td>\n",
       "      <td>676</td>\n",
       "      <td>145</td>\n",
       "      <td>0</td>\n",
       "      <td>NaN</td>\n",
       "      <td>1</td>\n",
       "      <td>1</td>\n",
       "    </tr>\n",
       "  </tbody>\n",
       "</table>\n",
       "</div>"
      ],
      "text/plain": [
       "                                         id    sum  is_reccurent  \\\n",
       "10367  e702d9da-dc44-4861-89b8-53eee26e1e06 300.00             1   \n",
       "11247  6b60b0cd-41aa-45c8-963a-d53f2999a567 500.00             1   \n",
       "5721   c0bdfc0b-7193-498c-8ef5-624fdb8f0510 200.00             0   \n",
       "\n",
       "                                                 purpose             channel  \\\n",
       "10367                           пожертвование  undefined  банковские карты     \n",
       "11247                           пожертвование  undefined  банковские карты     \n",
       "5721   пожертвование в фонд помощи детям-отказникам и...  банковские карты     \n",
       "\n",
       "         city last_email_activity payment_date  is_woman  life_time  \\\n",
       "10367  брянск 2022-07-18 16:29:48   2022-03-29      0.00         28   \n",
       "11247  москва 2022-07-18 16:29:48   2021-11-01      1.00         31   \n",
       "5721      NaN 2022-07-18 16:29:47   2017-05-25      0.00          0   \n",
       "\n",
       "       delta_days_with_first_pay  day_of_year  life_time_cumsum  \\\n",
       "10367                       2445           88               455   \n",
       "11247                       2297          305               153   \n",
       "5721                         676          145                 0   \n",
       "\n",
       "      life_time_cumsum_group  is_last_year_pay  is_first_year_pay  \n",
       "10367              от 1 до 2                 1                  0  \n",
       "11247                   до 1                 1                  1  \n",
       "5721                     NaN                 1                  1  "
      ]
     },
     "execution_count": 10,
     "metadata": {},
     "output_type": "execute_result"
    }
   ],
   "source": [
    "# Лайфтайм\n",
    "df = df.sort_values(by='payment_date')\n",
    "df['life_time'] = df.groupby('id')['payment_date'].apply(lambda x: x.diff().abs().fillna(pd.Timedelta(0)))\n",
    "df['life_time'] = df['life_time'].dt.days.astype('int')\n",
    "\n",
    "# Количество дней с самого первого платежа\n",
    "df['delta_days_with_first_pay'] = (df['payment_date'] - df['payment_date'].min()).dt.days\n",
    "\n",
    "# Пронумеруем день года от начала анализа для каждого года\n",
    "df['day_of_year']=pd.to_datetime(df['payment_date']).dt.dayofyear\n",
    "\n",
    "# Добавим точки для каждого платежа от начала платежей каждого пользователя\n",
    "df['life_time_cumsum'] = df.groupby('id')['life_time'].apply(lambda x: x.cumsum())\n",
    "\n",
    "# Разбиваем точки лайфтайма на группы\n",
    "df['life_time_cumsum_group'] = pd.cut(df['life_time_cumsum'],\n",
    "                                      [x*365 for x in range(round(df['life_time_cumsum'].max()/365)+1)],\n",
    "                                      labels=['до 1', 'от 1 до 2', 'от 2 до 3', \n",
    "                                              'от 3 до 4', 'от 4 до 5', 'от 5 до 6',\n",
    "                                              'более 6'])\n",
    "\n",
    "# Добавляем метку для платежей последнего года\n",
    "df['is_last_year_pay'] = df.groupby('id')['payment_date'].apply(lambda x: (x.max()-x).fillna(pd.Timedelta(0)))\n",
    "df['is_last_year_pay'] = df['is_last_year_pay'].dt.days.astype('int')\n",
    "df['is_last_year_pay'] = df['is_last_year_pay'].apply(lambda x: 1 if x<366 else 0)\n",
    "\n",
    "# Добавляем метку для платежей первого года\n",
    "df['is_first_year_pay'] = df.groupby('id')['payment_date'].apply(lambda x: (x-x.min()).fillna(pd.Timedelta(0)))\n",
    "df['is_first_year_pay'] = df['is_first_year_pay'].dt.days.astype('int')\n",
    "df['is_first_year_pay'] = df['is_first_year_pay'].apply(lambda x: 1 if x<366 else 0)\n",
    "\n",
    "df.sample(3)"
   ]
  },
  {
   "cell_type": "markdown",
   "id": "f467ad91",
   "metadata": {},
   "source": [
    "## purpose,city_category, channel -> DAMMI"
   ]
  },
  {
   "cell_type": "code",
   "execution_count": 11,
   "id": "e825d868",
   "metadata": {},
   "outputs": [
    {
     "data": {
      "text/plain": [
       "пожертвование                                                                                                       0.27\n",
       "пожертвование в фонд помощи детям-отказникам и детям-сиротам \"бюро добрых дел\"                                      0.24\n",
       "пожертвование  undefined                                                                                            0.15\n",
       "добровольное пожертвование. ндс не облагается                                                                       0.04\n",
       "sms bdd                                                                                                             0.02\n",
       "пожертвование клуб друзей                                                                                           0.01\n",
       "на психологические консультации артёму                                                                              0.01\n",
       "пожертвование без назначения                                                                                        0.01\n",
       "пожертвование на обучение артёма                                                                                    0.00\n",
       "пожертвование на обучение александры                                                                                0.00\n",
       "день рождения со смыслом_м. виторган                                                                                0.00\n",
       "на работу фонда                                                                                                     0.00\n",
       "добровольное пожертвование                                                                                          0.00\n",
       "на ресурсный центр                                                                                                  0.00\n",
       "на обучение дмитрия                                                                                                 0.00\n",
       "на обучение саши в мастерской                                                                                       0.00\n",
       "на обучение александра                                                                                              0.00\n",
       "на тьютора ренате                                                                                                   0.00\n",
       "на обучение романа в мастерской                                                                                     0.00\n",
       "на обучение наташи                                                                                                  0.00\n",
       "московские каникулы 2022                                                                                            0.00\n",
       "на обучение даниила                                                                                                 0.00\n",
       "на обучение фёдора                                                                                                  0.00\n",
       "на обучение валеры                                                                                                  0.00\n",
       "на обучение светланы                                                                                                0.00\n",
       "на обучение владимира​ в мастерской                                                                                 0.00\n",
       "на психологическую помощь лизе                                                                                      0.00\n",
       "на проживание евгении                                                                                               0.00\n",
       "пожертвование на обучение георгия                                                                                   0.00\n",
       "на психологическую помощь юре                                                                                       0.00\n",
       "на программу окно в мир                                                                                             0.00\n",
       "на программу история успеха                                                                                         0.00\n",
       "на обучение софьи                                                                                                   0.00\n",
       "без ндс пожертвование в благотворительный фонд помощи детям-отказникам и детям-сиротам \"бюро добрых дел\". без ндс   0.00\n",
       "на проживание анастасии                                                                                             0.00\n",
       "пожертвование на программу \"школа семьи\"\"                                                                           0.00\n",
       "на обучение елизаветы                                                                                               0.00\n",
       "на обучение никиты                                                                                                  0.00\n",
       "на обучение полины                                                                                                  0.00\n",
       "на обучение олега                                                                                                   0.00\n",
       "на обучение лизы                                                                                                    0.00\n",
       "на обучение ангелины                                                                                                0.00\n",
       "на проживание коли и димы                                                                                           0.00\n",
       "на компьютерный класс артему                                                                                        0.00\n",
       "добровольный взнос                                                                                                  0.00\n",
       "на проживание дарьи                                                                                                 0.00\n",
       "на обучение тани                                                                                                    0.00\n",
       "на трудоустройство                                                                                                  0.00\n",
       "пожертвование  всем                                                                                                 0.00\n",
       "на программу история успеха                                                                                         0.00\n",
       "Name: purpose, dtype: float64"
      ]
     },
     "execution_count": 11,
     "metadata": {},
     "output_type": "execute_result"
    }
   ],
   "source": [
    "# доля назначений пожертвований\n",
    "(df['purpose'].value_counts()/len(df['id'])).head(50)"
   ]
  },
  {
   "cell_type": "code",
   "execution_count": 12,
   "id": "bf994f5e",
   "metadata": {},
   "outputs": [],
   "source": [
    "def purose_category(purpose):\n",
    "    \n",
    "    if 'фонд' in purpose.loc['purpose']:\n",
    "        return 'for_fund'\n",
    "    elif purpose.loc['purpose'] == 'пожертвование':\n",
    "        return 'for_fund'\n",
    "    elif purpose.loc['purpose'] == 'пожертвование  undefined':\n",
    "        return 'for_fund'\n",
    "    elif purpose.loc['purpose'] == 'добровольное пожертвование. ндс не облагается':\n",
    "        return 'for_fund'\n",
    "    elif purpose.loc['purpose'] == 'добровольный взнос':\n",
    "        return 'for_fund'\n",
    "    elif purpose.loc['purpose'] == 'пожертвование  всем':\n",
    "        return 'for_fund'\n",
    "    elif purpose.loc['purpose'] == 'sms bdd':\n",
    "        return 'for_fund'\n",
    "    elif 'программ' in purpose.loc['purpose']:\n",
    "        return 'for_programm'\n",
    "    elif 'no_info' in purpose.loc['purpose']:\n",
    "        return 'no_info_purpose'\n",
    "    else:\n",
    "        return 'for_person'\n",
    "\n",
    "\n",
    "# применим функцию\n",
    "df['purpose'] = df['purpose'].fillna('no_info')\n",
    "df['purpose'] = df.apply(purose_category, axis=1)"
   ]
  },
  {
   "cell_type": "code",
   "execution_count": 13,
   "id": "12617702",
   "metadata": {},
   "outputs": [
    {
     "data": {
      "image/png": "[encoded data removed]",
      "text/plain": [
       "<Figure size 432x216 with 1 Axes>"
      ]
     },
     "metadata": {
      "needs_background": "light"
     },
     "output_type": "display_data"
    }
   ],
   "source": [
    "df['purpose'].hist(figsize=(6,3));"
   ]
  },
  {
   "cell_type": "code",
   "execution_count": 14,
   "id": "cb4ff9d4",
   "metadata": {},
   "outputs": [
    {
     "data": {
      "text/plain": [
       "москва               0.26\n",
       "санкт-петербург      0.04\n",
       "краснодар            0.02\n",
       "якутск               0.01\n",
       "екатеринбург         0.01\n",
       "мытищи               0.01\n",
       "самара               0.01\n",
       "frankfurt am main    0.01\n",
       "ростов-на-дону       0.01\n",
       "сочи                 0.01\n",
       "изобильный           0.01\n",
       "нижний новгород      0.01\n",
       "одинцово             0.01\n",
       "брянск               0.00\n",
       "воронеж              0.00\n",
       "казань               0.00\n",
       "charleston           0.00\n",
       "саратов              0.00\n",
       "владивосток          0.00\n",
       "новосибирск          0.00\n",
       "ставрополь           0.00\n",
       "курган               0.00\n",
       "рязань               0.00\n",
       "каменск-шахтинский   0.00\n",
       "новороссийск         0.00\n",
       "кемерово             0.00\n",
       "helsinki             0.00\n",
       "уфа                  0.00\n",
       "ульяновск            0.00\n",
       "нижневартовск        0.00\n",
       "усть-илимск          0.00\n",
       "волгоград            0.00\n",
       "старый оскол         0.00\n",
       "ярославль            0.00\n",
       "вологда              0.00\n",
       "san jose             0.00\n",
       "красногорск          0.00\n",
       "алупка               0.00\n",
       "vancouver            0.00\n",
       "хабаровск            0.00\n",
       "тверь                0.00\n",
       "караганда            0.00\n",
       "истра                0.00\n",
       "чебоксары            0.00\n",
       "химки                0.00\n",
       "ленск                0.00\n",
       "астрахань            0.00\n",
       "herndon              0.00\n",
       "пермь                0.00\n",
       "margate              0.00\n",
       "Name: city, dtype: float64"
      ]
     },
     "execution_count": 14,
     "metadata": {},
     "output_type": "execute_result"
    }
   ],
   "source": [
    "# доля городов пожертвований\n",
    "(df['city'].value_counts()/len(df['id'])).head(50)"
   ]
  },
  {
   "cell_type": "code",
   "execution_count": 15,
   "id": "394431cf",
   "metadata": {},
   "outputs": [
    {
     "data": {
      "text/html": [
       "<div>\n",
       "<style scoped>\n",
       "    .dataframe tbody tr th:only-of-type {\n",
       "        vertical-align: middle;\n",
       "    }\n",
       "\n",
       "    .dataframe tbody tr th {\n",
       "        vertical-align: top;\n",
       "    }\n",
       "\n",
       "    .dataframe thead th {\n",
       "        text-align: right;\n",
       "    }\n",
       "</style>\n",
       "<table border=\"1\" class=\"dataframe\">\n",
       "  <thead>\n",
       "    <tr style=\"text-align: right;\">\n",
       "      <th></th>\n",
       "      <th>id</th>\n",
       "      <th>sum</th>\n",
       "      <th>is_reccurent</th>\n",
       "      <th>purpose</th>\n",
       "      <th>channel</th>\n",
       "      <th>last_email_activity</th>\n",
       "      <th>payment_date</th>\n",
       "      <th>is_woman</th>\n",
       "      <th>life_time</th>\n",
       "      <th>delta_days_with_first_pay</th>\n",
       "      <th>day_of_year</th>\n",
       "      <th>life_time_cumsum</th>\n",
       "      <th>life_time_cumsum_group</th>\n",
       "      <th>is_last_year_pay</th>\n",
       "      <th>is_first_year_pay</th>\n",
       "      <th>city_category</th>\n",
       "    </tr>\n",
       "  </thead>\n",
       "  <tbody>\n",
       "    <tr>\n",
       "      <th>12752</th>\n",
       "      <td>8da4c1f4-88a2-4aeb-b7ee-d4fe1c41e8ff</td>\n",
       "      <td>50.00</td>\n",
       "      <td>1</td>\n",
       "      <td>for_fund</td>\n",
       "      <td>банковские карты</td>\n",
       "      <td>2022-07-18 16:29:48</td>\n",
       "      <td>2021-11-01</td>\n",
       "      <td>1.00</td>\n",
       "      <td>31</td>\n",
       "      <td>2297</td>\n",
       "      <td>305</td>\n",
       "      <td>153</td>\n",
       "      <td>до 1</td>\n",
       "      <td>1</td>\n",
       "      <td>1</td>\n",
       "      <td>other_rus_city</td>\n",
       "    </tr>\n",
       "  </tbody>\n",
       "</table>\n",
       "</div>"
      ],
      "text/plain": [
       "                                         id   sum  is_reccurent   purpose  \\\n",
       "12752  8da4c1f4-88a2-4aeb-b7ee-d4fe1c41e8ff 50.00             1  for_fund   \n",
       "\n",
       "                  channel last_email_activity payment_date  is_woman  \\\n",
       "12752  банковские карты   2022-07-18 16:29:48   2021-11-01      1.00   \n",
       "\n",
       "       life_time  delta_days_with_first_pay  day_of_year  life_time_cumsum  \\\n",
       "12752         31                       2297          305               153   \n",
       "\n",
       "      life_time_cumsum_group  is_last_year_pay  is_first_year_pay  \\\n",
       "12752                   до 1                 1                  1   \n",
       "\n",
       "        city_category  \n",
       "12752  other_rus_city  "
      ]
     },
     "execution_count": 15,
     "metadata": {},
     "output_type": "execute_result"
    }
   ],
   "source": [
    "# Напишем функцию для категоризации городов\n",
    "\n",
    "def city_category(city):\n",
    "    foreign_cities = ['frankfurt am main', 'charleston', 'helsinki', 'juba', 'copenhagen', 'holon', \n",
    "                     'hyderabad', 'alameda', 'jakarta', 'keighley', 'southall', 'denver']\n",
    "    \n",
    "    if city.loc['city'] == 'москва':\n",
    "        return 'moscow'\n",
    "    elif city.loc['city'] == 'санкт-петербург':\n",
    "        return 'peterburg'\n",
    "    elif city.loc['city'] in foreign_cities:\n",
    "        return 'foreign'\n",
    "    elif city.loc['city'] == 'no_info':\n",
    "        return 'no_info_city'\n",
    "    else:\n",
    "        return 'other_rus_city'\n",
    "\n",
    "df['city'] = df['city'].fillna('no_info')\n",
    "# применим функцию\n",
    "df['city_category'] = df.apply(city_category, axis=1)\n",
    "# удалим столбец 'city'\n",
    "df = df.drop('city',axis=1)\n",
    "\n",
    "df.sample()"
   ]
  },
  {
   "cell_type": "code",
   "execution_count": 16,
   "id": "ac878512",
   "metadata": {},
   "outputs": [
    {
     "data": {
      "image/png": "[encoded data removed]",
      "text/plain": [
       "<Figure size 432x216 with 1 Axes>"
      ]
     },
     "metadata": {
      "needs_background": "light"
     },
     "output_type": "display_data"
    }
   ],
   "source": [
    "df['city_category'].hist(figsize=(6,3));"
   ]
  },
  {
   "cell_type": "code",
   "execution_count": 17,
   "id": "acedbcc9",
   "metadata": {},
   "outputs": [
    {
     "data": {
      "text/plain": [
       "банковские карты               0.80\n",
       "sms                            0.11\n",
       "прямые поступления на счет     0.10\n",
       "наличные в кассу               0.00\n",
       "Name: channel, dtype: float64"
      ]
     },
     "execution_count": 17,
     "metadata": {},
     "output_type": "execute_result"
    }
   ],
   "source": [
    "# доля каналов пожертвований\n",
    "(df['channel'].value_counts()/len(df['id'])).head(50)"
   ]
  },
  {
   "cell_type": "code",
   "execution_count": 18,
   "id": "16c0035d",
   "metadata": {},
   "outputs": [
    {
     "data": {
      "text/html": [
       "<div>\n",
       "<style scoped>\n",
       "    .dataframe tbody tr th:only-of-type {\n",
       "        vertical-align: middle;\n",
       "    }\n",
       "\n",
       "    .dataframe tbody tr th {\n",
       "        vertical-align: top;\n",
       "    }\n",
       "\n",
       "    .dataframe thead th {\n",
       "        text-align: right;\n",
       "    }\n",
       "</style>\n",
       "<table border=\"1\" class=\"dataframe\">\n",
       "  <thead>\n",
       "    <tr style=\"text-align: right;\">\n",
       "      <th></th>\n",
       "      <th>id</th>\n",
       "      <th>sum</th>\n",
       "      <th>is_reccurent</th>\n",
       "      <th>purpose</th>\n",
       "      <th>channel</th>\n",
       "      <th>last_email_activity</th>\n",
       "      <th>payment_date</th>\n",
       "      <th>is_woman</th>\n",
       "      <th>life_time</th>\n",
       "      <th>delta_days_with_first_pay</th>\n",
       "      <th>day_of_year</th>\n",
       "      <th>life_time_cumsum</th>\n",
       "      <th>life_time_cumsum_group</th>\n",
       "      <th>is_last_year_pay</th>\n",
       "      <th>is_first_year_pay</th>\n",
       "      <th>city_category</th>\n",
       "    </tr>\n",
       "  </thead>\n",
       "  <tbody>\n",
       "    <tr>\n",
       "      <th>12395</th>\n",
       "      <td>e674f8af-2ecd-4253-9ac5-761f2d641205</td>\n",
       "      <td>2,500.00</td>\n",
       "      <td>1</td>\n",
       "      <td>for_fund</td>\n",
       "      <td>card</td>\n",
       "      <td>2022-07-19 00:49:55</td>\n",
       "      <td>2020-07-18</td>\n",
       "      <td>1.00</td>\n",
       "      <td>30</td>\n",
       "      <td>1826</td>\n",
       "      <td>200</td>\n",
       "      <td>545</td>\n",
       "      <td>от 1 до 2</td>\n",
       "      <td>0</td>\n",
       "      <td>0</td>\n",
       "      <td>no_info_city</td>\n",
       "    </tr>\n",
       "  </tbody>\n",
       "</table>\n",
       "</div>"
      ],
      "text/plain": [
       "                                         id      sum  is_reccurent   purpose  \\\n",
       "12395  e674f8af-2ecd-4253-9ac5-761f2d641205 2,500.00             1  for_fund   \n",
       "\n",
       "      channel last_email_activity payment_date  is_woman  life_time  \\\n",
       "12395    card 2022-07-19 00:49:55   2020-07-18      1.00         30   \n",
       "\n",
       "       delta_days_with_first_pay  day_of_year  life_time_cumsum  \\\n",
       "12395                       1826          200               545   \n",
       "\n",
       "      life_time_cumsum_group  is_last_year_pay  is_first_year_pay  \\\n",
       "12395              от 1 до 2                 0                  0   \n",
       "\n",
       "      city_category  \n",
       "12395  no_info_city  "
      ]
     },
     "execution_count": 18,
     "metadata": {},
     "output_type": "execute_result"
    }
   ],
   "source": [
    "# Напишем функцию для категоризации городов\n",
    "\n",
    "def channel_category(channel):\n",
    "        \n",
    "    if channel.loc['channel'] == 'sms  ':\n",
    "        return 'sms'\n",
    "    elif channel.loc['channel'] == 'банковские карты  ':\n",
    "        return 'card'\n",
    "    elif channel.loc['channel'] == 'прямые поступления на счет  ':\n",
    "        return 'direct_to_account'\n",
    "    elif 'наличные' in channel.loc['channel']:\n",
    "        return 'cash'\n",
    "    else:\n",
    "        return 'no_info_channel'\n",
    "\n",
    "df['channel'] = df['channel'].fillna('no_info')\n",
    "# применим функцию\n",
    "df['channel'] = df.apply(channel_category, axis=1)\n",
    "\n",
    "df.sample()"
   ]
  },
  {
   "cell_type": "code",
   "execution_count": 19,
   "id": "4f4666f6",
   "metadata": {},
   "outputs": [
    {
     "data": {
      "image/png": "[encoded data removed]",
      "text/plain": [
       "<Figure size 432x216 with 1 Axes>"
      ]
     },
     "metadata": {
      "needs_background": "light"
     },
     "output_type": "display_data"
    }
   ],
   "source": [
    "df['channel'].hist(figsize=(6,3));"
   ]
  },
  {
   "cell_type": "code",
   "execution_count": 20,
   "id": "d1e570af",
   "metadata": {},
   "outputs": [],
   "source": [
    "# Добавим дамми переменные по признаку причин, города, канала\n",
    "df = pd.concat([df, pd.get_dummies(df['purpose'])], axis=1)\n",
    "df = pd.concat([df, pd.get_dummies(df['channel'])], axis=1)\n",
    "df = pd.concat([df, pd.get_dummies(df['city_category'])], axis=1)\n",
    "# удалим столбцы purpose,channel,city_category\n",
    "df = df.drop(['purpose','channel','city_category'],axis=1)"
   ]
  },
  {
   "cell_type": "code",
   "execution_count": 21,
   "id": "6656c766",
   "metadata": {},
   "outputs": [
    {
     "data": {
      "text/html": [
       "<div>\n",
       "<style scoped>\n",
       "    .dataframe tbody tr th:only-of-type {\n",
       "        vertical-align: middle;\n",
       "    }\n",
       "\n",
       "    .dataframe tbody tr th {\n",
       "        vertical-align: top;\n",
       "    }\n",
       "\n",
       "    .dataframe thead th {\n",
       "        text-align: right;\n",
       "    }\n",
       "</style>\n",
       "<table border=\"1\" class=\"dataframe\">\n",
       "  <thead>\n",
       "    <tr style=\"text-align: right;\">\n",
       "      <th></th>\n",
       "      <th>id</th>\n",
       "      <th>sum</th>\n",
       "      <th>is_reccurent</th>\n",
       "      <th>last_email_activity</th>\n",
       "      <th>payment_date</th>\n",
       "      <th>is_woman</th>\n",
       "      <th>life_time</th>\n",
       "      <th>delta_days_with_first_pay</th>\n",
       "      <th>day_of_year</th>\n",
       "      <th>life_time_cumsum</th>\n",
       "      <th>...</th>\n",
       "      <th>no_info_purpose</th>\n",
       "      <th>card</th>\n",
       "      <th>cash</th>\n",
       "      <th>direct_to_account</th>\n",
       "      <th>sms</th>\n",
       "      <th>foreign</th>\n",
       "      <th>moscow</th>\n",
       "      <th>no_info_city</th>\n",
       "      <th>other_rus_city</th>\n",
       "      <th>peterburg</th>\n",
       "    </tr>\n",
       "  </thead>\n",
       "  <tbody>\n",
       "    <tr>\n",
       "      <th>4965</th>\n",
       "      <td>b4f7f5a5-b20e-4fe0-8f0e-060437656916</td>\n",
       "      <td>400.00</td>\n",
       "      <td>1</td>\n",
       "      <td>2022-07-18 16:29:47</td>\n",
       "      <td>2022-06-14</td>\n",
       "      <td>1.00</td>\n",
       "      <td>31</td>\n",
       "      <td>2522</td>\n",
       "      <td>165</td>\n",
       "      <td>485</td>\n",
       "      <td>...</td>\n",
       "      <td>0</td>\n",
       "      <td>1</td>\n",
       "      <td>0</td>\n",
       "      <td>0</td>\n",
       "      <td>0</td>\n",
       "      <td>0</td>\n",
       "      <td>1</td>\n",
       "      <td>0</td>\n",
       "      <td>0</td>\n",
       "      <td>0</td>\n",
       "    </tr>\n",
       "  </tbody>\n",
       "</table>\n",
       "<p>1 rows × 26 columns</p>\n",
       "</div>"
      ],
      "text/plain": [
       "                                        id    sum  is_reccurent  \\\n",
       "4965  b4f7f5a5-b20e-4fe0-8f0e-060437656916 400.00             1   \n",
       "\n",
       "     last_email_activity payment_date  is_woman  life_time  \\\n",
       "4965 2022-07-18 16:29:47   2022-06-14      1.00         31   \n",
       "\n",
       "      delta_days_with_first_pay  day_of_year  life_time_cumsum  ...  \\\n",
       "4965                       2522          165               485  ...   \n",
       "\n",
       "     no_info_purpose  card  cash  direct_to_account  sms  foreign  moscow  \\\n",
       "4965               0     1     0                  0    0        0       1   \n",
       "\n",
       "      no_info_city  other_rus_city  peterburg  \n",
       "4965             0               0          0  \n",
       "\n",
       "[1 rows x 26 columns]"
      ]
     },
     "execution_count": 21,
     "metadata": {},
     "output_type": "execute_result"
    }
   ],
   "source": [
    "df.sample()"
   ]
  },
  {
   "cell_type": "markdown",
   "id": "9f3382af",
   "metadata": {},
   "source": [
    "## Группировка по пользователю для МЛ"
   ]
  },
  {
   "cell_type": "markdown",
   "id": "f9bb5d90",
   "metadata": {},
   "source": [
    "Найдём всех новых пользователей, чей первый платёж после 01.07.2021 и сохраним их id в переменную `id_new`"
   ]
  },
  {
   "cell_type": "code",
   "execution_count": 22,
   "id": "014fc596",
   "metadata": {},
   "outputs": [
    {
     "name": "stdout",
     "output_type": "stream",
     "text": [
      "Новых пользователей  387\n"
     ]
    }
   ],
   "source": [
    "first_dates = df.groupby('id')['payment_date'].first().reset_index()\n",
    "first_dates['payment_date'] = pd.to_datetime(first_dates['payment_date'])\n",
    "id_new = first_dates[first_dates['payment_date'].isin(pd.date_range(start='2021-07-01', end=df.payment_date.max()))]['id']\n",
    "print('Новых пользователей ',len(id_new))"
   ]
  },
  {
   "cell_type": "markdown",
   "id": "0d2fdd52",
   "metadata": {},
   "source": [
    "В качестве целевой переменной обозначим `total_sum` - общую сумму пожертвований от пользователя в течение всего срока взаимодействия с фодндом. Найдём `total_sum` для каждого:"
   ]
  },
  {
   "cell_type": "code",
   "execution_count": 23,
   "id": "c844b3a9",
   "metadata": {},
   "outputs": [
    {
     "data": {
      "text/html": [
       "<div>\n",
       "<style scoped>\n",
       "    .dataframe tbody tr th:only-of-type {\n",
       "        vertical-align: middle;\n",
       "    }\n",
       "\n",
       "    .dataframe tbody tr th {\n",
       "        vertical-align: top;\n",
       "    }\n",
       "\n",
       "    .dataframe thead th {\n",
       "        text-align: right;\n",
       "    }\n",
       "</style>\n",
       "<table border=\"1\" class=\"dataframe\">\n",
       "  <thead>\n",
       "    <tr style=\"text-align: right;\">\n",
       "      <th></th>\n",
       "      <th>id</th>\n",
       "      <th>total_sum</th>\n",
       "      <th>total_count</th>\n",
       "    </tr>\n",
       "  </thead>\n",
       "  <tbody>\n",
       "    <tr>\n",
       "      <th>2168</th>\n",
       "      <td>950a7aba-6d6c-4314-8416-d8d6740f17f6</td>\n",
       "      <td>500.00</td>\n",
       "      <td>1</td>\n",
       "    </tr>\n",
       "    <tr>\n",
       "      <th>962</th>\n",
       "      <td>441c39a2-85c3-4d7d-8fe6-3fbee6dfdda8</td>\n",
       "      <td>150.00</td>\n",
       "      <td>1</td>\n",
       "    </tr>\n",
       "    <tr>\n",
       "      <th>266</th>\n",
       "      <td>13d453bc-46c3-417b-8072-079243282a66</td>\n",
       "      <td>2.00</td>\n",
       "      <td>1</td>\n",
       "    </tr>\n",
       "  </tbody>\n",
       "</table>\n",
       "</div>"
      ],
      "text/plain": [
       "                                        id  total_sum  total_count\n",
       "2168  950a7aba-6d6c-4314-8416-d8d6740f17f6     500.00            1\n",
       "962   441c39a2-85c3-4d7d-8fe6-3fbee6dfdda8     150.00            1\n",
       "266   13d453bc-46c3-417b-8072-079243282a66       2.00            1"
      ]
     },
     "execution_count": 23,
     "metadata": {},
     "output_type": "execute_result"
    }
   ],
   "source": [
    "id_total_sum_count = df.groupby('id').agg({'sum':'sum',\n",
    "                                           'payment_date':'count'}).reset_index().rename(columns={'sum':'total_sum', \n",
    "                                                                                                  'payment_date':'total_count'})\n",
    "id_total_sum_count.sample(3)"
   ]
  },
  {
   "cell_type": "markdown",
   "id": "33d8fdf5",
   "metadata": {},
   "source": [
    "Нам нужны данные только за первый год лайфтайма каждого пользователя, т.к. модель должна адекватно предсказывать на год вперёд. Поэтому сделаем группировку по пользователям и оставим данные только о тех платежах, которые были совершены пользователями за первый год их сотрудничества с фондом"
   ]
  },
  {
   "cell_type": "code",
   "execution_count": 24,
   "id": "471f2707",
   "metadata": {},
   "outputs": [
    {
     "data": {
      "text/plain": [
       "Index(['id', 'sum', 'is_reccurent', 'last_email_activity', 'payment_date',\n",
       "       'is_woman', 'life_time', 'delta_days_with_first_pay', 'day_of_year',\n",
       "       'life_time_cumsum', 'life_time_cumsum_group', 'is_last_year_pay',\n",
       "       'is_first_year_pay', 'for_fund', 'for_person', 'for_programm',\n",
       "       'no_info_purpose', 'card', 'cash', 'direct_to_account', 'sms',\n",
       "       'foreign', 'moscow', 'no_info_city', 'other_rus_city', 'peterburg'],\n",
       "      dtype='object')"
      ]
     },
     "execution_count": 24,
     "metadata": {},
     "output_type": "execute_result"
    }
   ],
   "source": [
    "df.columns"
   ]
  },
  {
   "cell_type": "code",
   "execution_count": 25,
   "id": "dbd56075",
   "metadata": {},
   "outputs": [
    {
     "data": {
      "text/html": [
       "<div>\n",
       "<style scoped>\n",
       "    .dataframe tbody tr th:only-of-type {\n",
       "        vertical-align: middle;\n",
       "    }\n",
       "\n",
       "    .dataframe tbody tr th {\n",
       "        vertical-align: top;\n",
       "    }\n",
       "\n",
       "    .dataframe thead th {\n",
       "        text-align: right;\n",
       "    }\n",
       "</style>\n",
       "<table border=\"1\" class=\"dataframe\">\n",
       "  <thead>\n",
       "    <tr style=\"text-align: right;\">\n",
       "      <th></th>\n",
       "      <th>id</th>\n",
       "      <th>sum_mean</th>\n",
       "      <th>donat_count</th>\n",
       "      <th>life_time_mean</th>\n",
       "      <th>is_woman</th>\n",
       "      <th>is_reccurent_mean</th>\n",
       "      <th>for_fund_mean</th>\n",
       "      <th>for_person_mean</th>\n",
       "      <th>for_programm_mean</th>\n",
       "      <th>no_info_purpose_mean</th>\n",
       "      <th>card_mean</th>\n",
       "      <th>cash_mean</th>\n",
       "      <th>direct_to_account_mean</th>\n",
       "      <th>sms_mean</th>\n",
       "      <th>foreign_mean</th>\n",
       "      <th>moscow_mean</th>\n",
       "      <th>peterburg_mean</th>\n",
       "      <th>no_info_city_mean</th>\n",
       "      <th>other_rus_city_mean</th>\n",
       "    </tr>\n",
       "  </thead>\n",
       "  <tbody>\n",
       "    <tr>\n",
       "      <th>710</th>\n",
       "      <td>32bd387e-20e6-4720-9428-8f255f798acd</td>\n",
       "      <td>100.00</td>\n",
       "      <td>1</td>\n",
       "      <td>0.00</td>\n",
       "      <td>NaN</td>\n",
       "      <td>0.00</td>\n",
       "      <td>0.00</td>\n",
       "      <td>0.00</td>\n",
       "      <td>0.00</td>\n",
       "      <td>1.00</td>\n",
       "      <td>0.00</td>\n",
       "      <td>0</td>\n",
       "      <td>0.00</td>\n",
       "      <td>1.00</td>\n",
       "      <td>0</td>\n",
       "      <td>0</td>\n",
       "      <td>0</td>\n",
       "      <td>1</td>\n",
       "      <td>0</td>\n",
       "    </tr>\n",
       "    <tr>\n",
       "      <th>2849</th>\n",
       "      <td>c544d1a1-0623-43cd-a4fb-0ef7c49718da</td>\n",
       "      <td>0.42</td>\n",
       "      <td>4</td>\n",
       "      <td>14.50</td>\n",
       "      <td>0.00</td>\n",
       "      <td>0.00</td>\n",
       "      <td>0.00</td>\n",
       "      <td>1.00</td>\n",
       "      <td>0.00</td>\n",
       "      <td>0.00</td>\n",
       "      <td>0.00</td>\n",
       "      <td>0</td>\n",
       "      <td>1.00</td>\n",
       "      <td>0.00</td>\n",
       "      <td>0</td>\n",
       "      <td>0</td>\n",
       "      <td>0</td>\n",
       "      <td>1</td>\n",
       "      <td>0</td>\n",
       "    </tr>\n",
       "    <tr>\n",
       "      <th>3626</th>\n",
       "      <td>fb62bd97-7889-4e40-ac13-d11ab1a9d63e</td>\n",
       "      <td>100.00</td>\n",
       "      <td>1</td>\n",
       "      <td>0.00</td>\n",
       "      <td>NaN</td>\n",
       "      <td>0.00</td>\n",
       "      <td>0.00</td>\n",
       "      <td>0.00</td>\n",
       "      <td>0.00</td>\n",
       "      <td>1.00</td>\n",
       "      <td>0.00</td>\n",
       "      <td>0</td>\n",
       "      <td>0.00</td>\n",
       "      <td>1.00</td>\n",
       "      <td>0</td>\n",
       "      <td>0</td>\n",
       "      <td>0</td>\n",
       "      <td>1</td>\n",
       "      <td>0</td>\n",
       "    </tr>\n",
       "  </tbody>\n",
       "</table>\n",
       "</div>"
      ],
      "text/plain": [
       "                                        id  sum_mean  donat_count  \\\n",
       "710   32bd387e-20e6-4720-9428-8f255f798acd    100.00            1   \n",
       "2849  c544d1a1-0623-43cd-a4fb-0ef7c49718da      0.42            4   \n",
       "3626  fb62bd97-7889-4e40-ac13-d11ab1a9d63e    100.00            1   \n",
       "\n",
       "      life_time_mean  is_woman  is_reccurent_mean  for_fund_mean  \\\n",
       "710             0.00       NaN               0.00           0.00   \n",
       "2849           14.50      0.00               0.00           0.00   \n",
       "3626            0.00       NaN               0.00           0.00   \n",
       "\n",
       "      for_person_mean  for_programm_mean  no_info_purpose_mean  card_mean  \\\n",
       "710              0.00               0.00                  1.00       0.00   \n",
       "2849             1.00               0.00                  0.00       0.00   \n",
       "3626             0.00               0.00                  1.00       0.00   \n",
       "\n",
       "      cash_mean  direct_to_account_mean  sms_mean  foreign_mean  moscow_mean  \\\n",
       "710           0                    0.00      1.00             0            0   \n",
       "2849          0                    1.00      0.00             0            0   \n",
       "3626          0                    0.00      1.00             0            0   \n",
       "\n",
       "      peterburg_mean  no_info_city_mean  other_rus_city_mean  \n",
       "710                0                  1                    0  \n",
       "2849               0                  1                    0  \n",
       "3626               0                  1                    0  "
      ]
     },
     "execution_count": 25,
     "metadata": {},
     "output_type": "execute_result"
    }
   ],
   "source": [
    "# Группируем по пользователю, оставим только некоторые признаки\n",
    "df_by_id = df.query('is_first_year_pay==1').groupby('id').agg({'sum':['mean','count'],\n",
    "                                                               'life_time':'mean',\n",
    "                                                               'is_woman':'first',\n",
    "                                                               'is_reccurent':'mean',\n",
    "                                                               'for_fund':'mean',\n",
    "                                                               'for_person':'mean',\n",
    "                                                               'for_programm':'mean', \n",
    "                                                               'no_info_purpose':'mean', \n",
    "                                                               'card':'mean', \n",
    "                                                               'cash':'mean',\n",
    "                                                               'direct_to_account':'mean',\n",
    "                                                               'sms':'mean',\n",
    "                                                               'foreign':'mean',\n",
    "                                                               'moscow':'mean',\n",
    "                                                               'peterburg':'mean',\n",
    "                                                               'no_info_city':'mean',\n",
    "                                                               'other_rus_city':'mean'}).set_axis(['sum_mean','donat_count',\n",
    "                                                                                                   'life_time_mean',\n",
    "                                                                                                   'is_woman',\n",
    "                                                                                                   'is_reccurent_mean',\n",
    "                                                                                                   'for_fund_mean', \n",
    "                                                                                                   'for_person_mean',\n",
    "                                                                                                   'for_programm_mean',\n",
    "                                                                                                   'no_info_purpose_mean', \n",
    "                                                                                                   'card_mean',\n",
    "                                                                                                   'cash_mean',\n",
    "                                                                                                   'direct_to_account_mean',\n",
    "                                                                                                   'sms_mean', \n",
    "                                                                                                   'foreign_mean',\n",
    "                                                                                                   'moscow_mean',\n",
    "                                                                                                   'peterburg_mean',\n",
    "                                                                                                   'no_info_city_mean', \n",
    "                                                                                                   'other_rus_city_mean'],\n",
    "                                                                                                  axis=1, inplace=False).reset_index()\n",
    "df_by_id.sample(3)"
   ]
  },
  {
   "cell_type": "code",
   "execution_count": 26,
   "id": "258e300c",
   "metadata": {
    "scrolled": true
   },
   "outputs": [
    {
     "data": {
      "text/html": [
       "<div>\n",
       "<style scoped>\n",
       "    .dataframe tbody tr th:only-of-type {\n",
       "        vertical-align: middle;\n",
       "    }\n",
       "\n",
       "    .dataframe tbody tr th {\n",
       "        vertical-align: top;\n",
       "    }\n",
       "\n",
       "    .dataframe thead th {\n",
       "        text-align: right;\n",
       "    }\n",
       "</style>\n",
       "<table border=\"1\" class=\"dataframe\">\n",
       "  <thead>\n",
       "    <tr style=\"text-align: right;\">\n",
       "      <th></th>\n",
       "      <th>sum_mean</th>\n",
       "      <th>donat_count</th>\n",
       "      <th>life_time_mean</th>\n",
       "      <th>is_woman</th>\n",
       "      <th>is_reccurent_mean</th>\n",
       "      <th>for_fund_mean</th>\n",
       "      <th>for_person_mean</th>\n",
       "      <th>for_programm_mean</th>\n",
       "      <th>no_info_purpose_mean</th>\n",
       "      <th>card_mean</th>\n",
       "      <th>cash_mean</th>\n",
       "      <th>direct_to_account_mean</th>\n",
       "      <th>sms_mean</th>\n",
       "      <th>foreign_mean</th>\n",
       "      <th>moscow_mean</th>\n",
       "      <th>peterburg_mean</th>\n",
       "      <th>no_info_city_mean</th>\n",
       "      <th>other_rus_city_mean</th>\n",
       "    </tr>\n",
       "  </thead>\n",
       "  <tbody>\n",
       "    <tr>\n",
       "      <th>count</th>\n",
       "      <td>3,683.00</td>\n",
       "      <td>3,683.00</td>\n",
       "      <td>3,683.00</td>\n",
       "      <td>2,431.00</td>\n",
       "      <td>3,683.00</td>\n",
       "      <td>3,683.00</td>\n",
       "      <td>3,683.00</td>\n",
       "      <td>3,683.00</td>\n",
       "      <td>3,683.00</td>\n",
       "      <td>3,683.00</td>\n",
       "      <td>3,683.00</td>\n",
       "      <td>3,683.00</td>\n",
       "      <td>3,683.00</td>\n",
       "      <td>3,683.00</td>\n",
       "      <td>3,683.00</td>\n",
       "      <td>3,683.00</td>\n",
       "      <td>3,683.00</td>\n",
       "      <td>3,683.00</td>\n",
       "    </tr>\n",
       "    <tr>\n",
       "      <th>mean</th>\n",
       "      <td>2,934.52</td>\n",
       "      <td>2.48</td>\n",
       "      <td>9.31</td>\n",
       "      <td>0.77</td>\n",
       "      <td>0.12</td>\n",
       "      <td>0.47</td>\n",
       "      <td>0.23</td>\n",
       "      <td>0.01</td>\n",
       "      <td>0.28</td>\n",
       "      <td>0.53</td>\n",
       "      <td>0.00</td>\n",
       "      <td>0.15</td>\n",
       "      <td>0.32</td>\n",
       "      <td>0.00</td>\n",
       "      <td>0.12</td>\n",
       "      <td>0.02</td>\n",
       "      <td>0.72</td>\n",
       "      <td>0.13</td>\n",
       "    </tr>\n",
       "    <tr>\n",
       "      <th>std</th>\n",
       "      <td>53,495.20</td>\n",
       "      <td>3.62</td>\n",
       "      <td>22.56</td>\n",
       "      <td>0.42</td>\n",
       "      <td>0.32</td>\n",
       "      <td>0.49</td>\n",
       "      <td>0.41</td>\n",
       "      <td>0.11</td>\n",
       "      <td>0.45</td>\n",
       "      <td>0.50</td>\n",
       "      <td>0.00</td>\n",
       "      <td>0.36</td>\n",
       "      <td>0.46</td>\n",
       "      <td>0.06</td>\n",
       "      <td>0.33</td>\n",
       "      <td>0.14</td>\n",
       "      <td>0.45</td>\n",
       "      <td>0.33</td>\n",
       "    </tr>\n",
       "    <tr>\n",
       "      <th>min</th>\n",
       "      <td>0.01</td>\n",
       "      <td>1.00</td>\n",
       "      <td>0.00</td>\n",
       "      <td>0.00</td>\n",
       "      <td>0.00</td>\n",
       "      <td>0.00</td>\n",
       "      <td>0.00</td>\n",
       "      <td>0.00</td>\n",
       "      <td>0.00</td>\n",
       "      <td>0.00</td>\n",
       "      <td>0.00</td>\n",
       "      <td>0.00</td>\n",
       "      <td>0.00</td>\n",
       "      <td>0.00</td>\n",
       "      <td>0.00</td>\n",
       "      <td>0.00</td>\n",
       "      <td>0.00</td>\n",
       "      <td>0.00</td>\n",
       "    </tr>\n",
       "    <tr>\n",
       "      <th>25%</th>\n",
       "      <td>100.00</td>\n",
       "      <td>1.00</td>\n",
       "      <td>0.00</td>\n",
       "      <td>1.00</td>\n",
       "      <td>0.00</td>\n",
       "      <td>0.00</td>\n",
       "      <td>0.00</td>\n",
       "      <td>0.00</td>\n",
       "      <td>0.00</td>\n",
       "      <td>0.00</td>\n",
       "      <td>0.00</td>\n",
       "      <td>0.00</td>\n",
       "      <td>0.00</td>\n",
       "      <td>0.00</td>\n",
       "      <td>0.00</td>\n",
       "      <td>0.00</td>\n",
       "      <td>0.00</td>\n",
       "      <td>0.00</td>\n",
       "    </tr>\n",
       "    <tr>\n",
       "      <th>50%</th>\n",
       "      <td>300.00</td>\n",
       "      <td>1.00</td>\n",
       "      <td>0.00</td>\n",
       "      <td>1.00</td>\n",
       "      <td>0.00</td>\n",
       "      <td>0.00</td>\n",
       "      <td>0.00</td>\n",
       "      <td>0.00</td>\n",
       "      <td>0.00</td>\n",
       "      <td>1.00</td>\n",
       "      <td>0.00</td>\n",
       "      <td>0.00</td>\n",
       "      <td>0.00</td>\n",
       "      <td>0.00</td>\n",
       "      <td>0.00</td>\n",
       "      <td>0.00</td>\n",
       "      <td>1.00</td>\n",
       "      <td>0.00</td>\n",
       "    </tr>\n",
       "    <tr>\n",
       "      <th>75%</th>\n",
       "      <td>500.00</td>\n",
       "      <td>2.00</td>\n",
       "      <td>0.00</td>\n",
       "      <td>1.00</td>\n",
       "      <td>0.00</td>\n",
       "      <td>1.00</td>\n",
       "      <td>0.20</td>\n",
       "      <td>0.00</td>\n",
       "      <td>1.00</td>\n",
       "      <td>1.00</td>\n",
       "      <td>0.00</td>\n",
       "      <td>0.00</td>\n",
       "      <td>1.00</td>\n",
       "      <td>0.00</td>\n",
       "      <td>0.00</td>\n",
       "      <td>0.00</td>\n",
       "      <td>1.00</td>\n",
       "      <td>0.00</td>\n",
       "    </tr>\n",
       "    <tr>\n",
       "      <th>max</th>\n",
       "      <td>3,000,000.00</td>\n",
       "      <td>50.00</td>\n",
       "      <td>182.50</td>\n",
       "      <td>1.00</td>\n",
       "      <td>1.00</td>\n",
       "      <td>1.00</td>\n",
       "      <td>1.00</td>\n",
       "      <td>1.00</td>\n",
       "      <td>1.00</td>\n",
       "      <td>1.00</td>\n",
       "      <td>0.00</td>\n",
       "      <td>1.00</td>\n",
       "      <td>1.00</td>\n",
       "      <td>1.00</td>\n",
       "      <td>1.00</td>\n",
       "      <td>1.00</td>\n",
       "      <td>1.00</td>\n",
       "      <td>1.00</td>\n",
       "    </tr>\n",
       "  </tbody>\n",
       "</table>\n",
       "</div>"
      ],
      "text/plain": [
       "          sum_mean  donat_count  life_time_mean  is_woman  is_reccurent_mean  \\\n",
       "count     3,683.00     3,683.00        3,683.00  2,431.00           3,683.00   \n",
       "mean      2,934.52         2.48            9.31      0.77               0.12   \n",
       "std      53,495.20         3.62           22.56      0.42               0.32   \n",
       "min           0.01         1.00            0.00      0.00               0.00   \n",
       "25%         100.00         1.00            0.00      1.00               0.00   \n",
       "50%         300.00         1.00            0.00      1.00               0.00   \n",
       "75%         500.00         2.00            0.00      1.00               0.00   \n",
       "max   3,000,000.00        50.00          182.50      1.00               1.00   \n",
       "\n",
       "       for_fund_mean  for_person_mean  for_programm_mean  \\\n",
       "count       3,683.00         3,683.00           3,683.00   \n",
       "mean            0.47             0.23               0.01   \n",
       "std             0.49             0.41               0.11   \n",
       "min             0.00             0.00               0.00   \n",
       "25%             0.00             0.00               0.00   \n",
       "50%             0.00             0.00               0.00   \n",
       "75%             1.00             0.20               0.00   \n",
       "max             1.00             1.00               1.00   \n",
       "\n",
       "       no_info_purpose_mean  card_mean  cash_mean  direct_to_account_mean  \\\n",
       "count              3,683.00   3,683.00   3,683.00                3,683.00   \n",
       "mean                   0.28       0.53       0.00                    0.15   \n",
       "std                    0.45       0.50       0.00                    0.36   \n",
       "min                    0.00       0.00       0.00                    0.00   \n",
       "25%                    0.00       0.00       0.00                    0.00   \n",
       "50%                    0.00       1.00       0.00                    0.00   \n",
       "75%                    1.00       1.00       0.00                    0.00   \n",
       "max                    1.00       1.00       0.00                    1.00   \n",
       "\n",
       "       sms_mean  foreign_mean  moscow_mean  peterburg_mean  no_info_city_mean  \\\n",
       "count  3,683.00      3,683.00     3,683.00        3,683.00           3,683.00   \n",
       "mean       0.32          0.00         0.12            0.02               0.72   \n",
       "std        0.46          0.06         0.33            0.14               0.45   \n",
       "min        0.00          0.00         0.00            0.00               0.00   \n",
       "25%        0.00          0.00         0.00            0.00               0.00   \n",
       "50%        0.00          0.00         0.00            0.00               1.00   \n",
       "75%        1.00          0.00         0.00            0.00               1.00   \n",
       "max        1.00          1.00         1.00            1.00               1.00   \n",
       "\n",
       "       other_rus_city_mean  \n",
       "count             3,683.00  \n",
       "mean                  0.13  \n",
       "std                   0.33  \n",
       "min                   0.00  \n",
       "25%                   0.00  \n",
       "50%                   0.00  \n",
       "75%                   0.00  \n",
       "max                   1.00  "
      ]
     },
     "execution_count": 26,
     "metadata": {},
     "output_type": "execute_result"
    }
   ],
   "source": [
    "df_by_id.describe()"
   ]
  },
  {
   "cell_type": "code",
   "execution_count": 27,
   "id": "140a6e96",
   "metadata": {},
   "outputs": [],
   "source": [
    "df_by_id = df_by_id.merge(id_total_sum_count, on='id', how='left')"
   ]
  },
  {
   "cell_type": "markdown",
   "id": "ec0822aa",
   "metadata": {},
   "source": [
    "Разделим выборку на 2 части:  \n",
    "1) старые пользователи: оставим только тех пользователей, которые не входят в `id_new` (новые пользователи) - это **train data** + **validation data**    \n",
    "2) только новые - это будет **test data**"
   ]
  },
  {
   "cell_type": "code",
   "execution_count": 28,
   "id": "53d9e8eb",
   "metadata": {},
   "outputs": [
    {
     "data": {
      "text/plain": [
       "0"
      ]
     },
     "execution_count": 28,
     "metadata": {},
     "output_type": "execute_result"
    }
   ],
   "source": [
    "df_by_id_1 = df_by_id.query('id not in @id_new')\n",
    "\n",
    "#Проверочка, если всё хорошо то будет 0\n",
    "len(df_by_id)-len(df_by_id_1)-len(id_new)"
   ]
  },
  {
   "cell_type": "code",
   "execution_count": 29,
   "id": "e56ef03b",
   "metadata": {},
   "outputs": [
    {
     "data": {
      "text/plain": [
       "True"
      ]
     },
     "execution_count": 29,
     "metadata": {},
     "output_type": "execute_result"
    }
   ],
   "source": [
    "df_by_id_2 = df_by_id.query('id in @id_new')\n",
    "\n",
    "#Проверочка, если всё хорошо то будет True\n",
    "len(df_by_id_2)==len(id_new)"
   ]
  },
  {
   "cell_type": "markdown",
   "id": "02f780d0",
   "metadata": {},
   "source": [
    "`df_by_id_1` - выборка для обучения  \n",
    "`df_by_id_2` - выборка для тестирования правдивости предсказаний  "
   ]
  },
  {
   "cell_type": "code",
   "execution_count": 30,
   "id": "c74e0688",
   "metadata": {},
   "outputs": [
    {
     "data": {
      "text/plain": [
       "'Несколько строк: '"
      ]
     },
     "metadata": {},
     "output_type": "display_data"
    },
    {
     "data": {
      "text/html": [
       "<div>\n",
       "<style scoped>\n",
       "    .dataframe tbody tr th:only-of-type {\n",
       "        vertical-align: middle;\n",
       "    }\n",
       "\n",
       "    .dataframe tbody tr th {\n",
       "        vertical-align: top;\n",
       "    }\n",
       "\n",
       "    .dataframe thead th {\n",
       "        text-align: right;\n",
       "    }\n",
       "</style>\n",
       "<table border=\"1\" class=\"dataframe\">\n",
       "  <thead>\n",
       "    <tr style=\"text-align: right;\">\n",
       "      <th></th>\n",
       "      <th>id</th>\n",
       "      <th>sum_mean</th>\n",
       "      <th>donat_count</th>\n",
       "      <th>life_time_mean</th>\n",
       "      <th>is_woman</th>\n",
       "      <th>is_reccurent_mean</th>\n",
       "      <th>for_fund_mean</th>\n",
       "      <th>for_person_mean</th>\n",
       "      <th>for_programm_mean</th>\n",
       "      <th>no_info_purpose_mean</th>\n",
       "      <th>...</th>\n",
       "      <th>cash_mean</th>\n",
       "      <th>direct_to_account_mean</th>\n",
       "      <th>sms_mean</th>\n",
       "      <th>foreign_mean</th>\n",
       "      <th>moscow_mean</th>\n",
       "      <th>peterburg_mean</th>\n",
       "      <th>no_info_city_mean</th>\n",
       "      <th>other_rus_city_mean</th>\n",
       "      <th>total_sum</th>\n",
       "      <th>total_count</th>\n",
       "    </tr>\n",
       "  </thead>\n",
       "  <tbody>\n",
       "    <tr>\n",
       "      <th>1000</th>\n",
       "      <td>470c6545-e57a-4e69-bb39-c2fa25140ddf</td>\n",
       "      <td>500.00</td>\n",
       "      <td>1</td>\n",
       "      <td>0.00</td>\n",
       "      <td>NaN</td>\n",
       "      <td>0.00</td>\n",
       "      <td>0.00</td>\n",
       "      <td>0.00</td>\n",
       "      <td>0.00</td>\n",
       "      <td>1.00</td>\n",
       "      <td>...</td>\n",
       "      <td>0</td>\n",
       "      <td>0.00</td>\n",
       "      <td>1.00</td>\n",
       "      <td>0</td>\n",
       "      <td>0</td>\n",
       "      <td>0</td>\n",
       "      <td>1</td>\n",
       "      <td>0</td>\n",
       "      <td>500.00</td>\n",
       "      <td>1</td>\n",
       "    </tr>\n",
       "    <tr>\n",
       "      <th>2105</th>\n",
       "      <td>9139e252-ff67-4ed1-b450-5648490d4e60</td>\n",
       "      <td>100.00</td>\n",
       "      <td>1</td>\n",
       "      <td>0.00</td>\n",
       "      <td>NaN</td>\n",
       "      <td>0.00</td>\n",
       "      <td>0.00</td>\n",
       "      <td>0.00</td>\n",
       "      <td>0.00</td>\n",
       "      <td>1.00</td>\n",
       "      <td>...</td>\n",
       "      <td>0</td>\n",
       "      <td>0.00</td>\n",
       "      <td>1.00</td>\n",
       "      <td>0</td>\n",
       "      <td>0</td>\n",
       "      <td>0</td>\n",
       "      <td>1</td>\n",
       "      <td>0</td>\n",
       "      <td>100.00</td>\n",
       "      <td>1</td>\n",
       "    </tr>\n",
       "    <tr>\n",
       "      <th>3379</th>\n",
       "      <td>ebac5c3f-9a50-419a-bbf3-5797d2411247</td>\n",
       "      <td>300.00</td>\n",
       "      <td>1</td>\n",
       "      <td>0.00</td>\n",
       "      <td>NaN</td>\n",
       "      <td>0.00</td>\n",
       "      <td>1.00</td>\n",
       "      <td>0.00</td>\n",
       "      <td>0.00</td>\n",
       "      <td>0.00</td>\n",
       "      <td>...</td>\n",
       "      <td>0</td>\n",
       "      <td>0.00</td>\n",
       "      <td>1.00</td>\n",
       "      <td>0</td>\n",
       "      <td>0</td>\n",
       "      <td>0</td>\n",
       "      <td>1</td>\n",
       "      <td>0</td>\n",
       "      <td>300.00</td>\n",
       "      <td>1</td>\n",
       "    </tr>\n",
       "  </tbody>\n",
       "</table>\n",
       "<p>3 rows × 21 columns</p>\n",
       "</div>"
      ],
      "text/plain": [
       "                                        id  sum_mean  donat_count  \\\n",
       "1000  470c6545-e57a-4e69-bb39-c2fa25140ddf    500.00            1   \n",
       "2105  9139e252-ff67-4ed1-b450-5648490d4e60    100.00            1   \n",
       "3379  ebac5c3f-9a50-419a-bbf3-5797d2411247    300.00            1   \n",
       "\n",
       "      life_time_mean  is_woman  is_reccurent_mean  for_fund_mean  \\\n",
       "1000            0.00       NaN               0.00           0.00   \n",
       "2105            0.00       NaN               0.00           0.00   \n",
       "3379            0.00       NaN               0.00           1.00   \n",
       "\n",
       "      for_person_mean  for_programm_mean  no_info_purpose_mean  ...  \\\n",
       "1000             0.00               0.00                  1.00  ...   \n",
       "2105             0.00               0.00                  1.00  ...   \n",
       "3379             0.00               0.00                  0.00  ...   \n",
       "\n",
       "      cash_mean  direct_to_account_mean  sms_mean  foreign_mean  moscow_mean  \\\n",
       "1000          0                    0.00      1.00             0            0   \n",
       "2105          0                    0.00      1.00             0            0   \n",
       "3379          0                    0.00      1.00             0            0   \n",
       "\n",
       "      peterburg_mean  no_info_city_mean  other_rus_city_mean  total_sum  \\\n",
       "1000               0                  1                    0     500.00   \n",
       "2105               0                  1                    0     100.00   \n",
       "3379               0                  1                    0     300.00   \n",
       "\n",
       "      total_count  \n",
       "1000            1  \n",
       "2105            1  \n",
       "3379            1  \n",
       "\n",
       "[3 rows x 21 columns]"
      ]
     },
     "metadata": {},
     "output_type": "display_data"
    },
    {
     "data": {
      "text/plain": [
       "'Общая информация: '"
      ]
     },
     "metadata": {},
     "output_type": "display_data"
    },
    {
     "name": "stdout",
     "output_type": "stream",
     "text": [
      "<class 'pandas.core.frame.DataFrame'>\n",
      "Int64Index: 3296 entries, 0 to 3682\n",
      "Data columns (total 21 columns):\n",
      " #   Column                  Non-Null Count  Dtype  \n",
      "---  ------                  --------------  -----  \n",
      " 0   id                      3296 non-null   object \n",
      " 1   sum_mean                3296 non-null   float64\n",
      " 2   donat_count             3296 non-null   int64  \n",
      " 3   life_time_mean          3296 non-null   float64\n",
      " 4   is_woman                2131 non-null   float64\n",
      " 5   is_reccurent_mean       3296 non-null   float64\n",
      " 6   for_fund_mean           3296 non-null   float64\n",
      " 7   for_person_mean         3296 non-null   float64\n",
      " 8   for_programm_mean       3296 non-null   float64\n",
      " 9   no_info_purpose_mean    3296 non-null   float64\n",
      " 10  card_mean               3296 non-null   float64\n",
      " 11  cash_mean               3296 non-null   uint8  \n",
      " 12  direct_to_account_mean  3296 non-null   float64\n",
      " 13  sms_mean                3296 non-null   float64\n",
      " 14  foreign_mean            3296 non-null   uint8  \n",
      " 15  moscow_mean             3296 non-null   uint8  \n",
      " 16  peterburg_mean          3296 non-null   uint8  \n",
      " 17  no_info_city_mean       3296 non-null   uint8  \n",
      " 18  other_rus_city_mean     3296 non-null   uint8  \n",
      " 19  total_sum               3296 non-null   float64\n",
      " 20  total_count             3296 non-null   int64  \n",
      "dtypes: float64(12), int64(2), object(1), uint8(6)\n",
      "memory usage: 431.3+ KB\n"
     ]
    },
    {
     "data": {
      "text/plain": [
       "'Дубликаты: '"
      ]
     },
     "metadata": {},
     "output_type": "display_data"
    },
    {
     "data": {
      "text/plain": [
       "0"
      ]
     },
     "metadata": {},
     "output_type": "display_data"
    },
    {
     "data": {
      "text/plain": [
       "'Уникальные значения в колонке id и их количество: '"
      ]
     },
     "metadata": {},
     "output_type": "display_data"
    },
    {
     "data": {
      "text/plain": [
       "c172cb0b-c6ea-43db-8c96-6efab3a3ed8d    1\n",
       "97a58e5e-252f-44b2-a21b-3c1262f54e16    1\n",
       "686ff9c3-d32d-4e84-b33d-b173a9c535b6    1\n",
       "b1aa9e0f-f4ef-4188-9867-e955bbbc347a    1\n",
       "aa17fc95-5b67-46b9-8175-ae7430fee953    1\n",
       "                                       ..\n",
       "44ff227c-8cc1-4cda-a8e0-a3b75ddb3a8c    1\n",
       "da334f5a-07e4-474b-805a-44bd535ae506    1\n",
       "214cc544-a5ce-4e6e-b3bd-b2cc5396c5a0    1\n",
       "da33b345-4bba-4262-8b0d-a83360d2a68b    1\n",
       "f0284fe5-3fae-4579-9cbc-dce62906dedd    1\n",
       "Name: id, Length: 3296, dtype: int64"
      ]
     },
     "metadata": {},
     "output_type": "display_data"
    },
    {
     "data": {
      "text/plain": [
       "'Уникальные значения в колонке sum_mean и их количество: '"
      ]
     },
     "metadata": {},
     "output_type": "display_data"
    },
    {
     "data": {
      "text/plain": [
       "100.00      648\n",
       "500.00      518\n",
       "300.00      373\n",
       "200.00      338\n",
       "1,000.00    291\n",
       "           ... \n",
       "100.50        1\n",
       "456.00        1\n",
       "1,300.00      1\n",
       "460.00        1\n",
       "243.75        1\n",
       "Name: sum_mean, Length: 362, dtype: int64"
      ]
     },
     "metadata": {},
     "output_type": "display_data"
    },
    {
     "data": {
      "text/plain": [
       "'Уникальные значения в колонке donat_count и их количество: '"
      ]
     },
     "metadata": {},
     "output_type": "display_data"
    },
    {
     "data": {
      "text/plain": [
       "1     2441\n",
       "2      237\n",
       "13     127\n",
       "3      103\n",
       "12      86\n",
       "4       63\n",
       "5       42\n",
       "11      34\n",
       "6       33\n",
       "10      31\n",
       "8       27\n",
       "7       20\n",
       "9       19\n",
       "14      13\n",
       "15       6\n",
       "18       2\n",
       "16       2\n",
       "19       2\n",
       "23       2\n",
       "28       1\n",
       "42       1\n",
       "50       1\n",
       "27       1\n",
       "31       1\n",
       "37       1\n",
       "Name: donat_count, dtype: int64"
      ]
     },
     "metadata": {},
     "output_type": "display_data"
    },
    {
     "data": {
      "text/plain": [
       "'Уникальные значения в колонке life_time_mean и их количество: '"
      ]
     },
     "metadata": {},
     "output_type": "display_data"
    },
    {
     "data": {
      "text/plain": [
       "0.00      2495\n",
       "28.08      107\n",
       "27.92       31\n",
       "28.00       21\n",
       "30.42       12\n",
       "          ... \n",
       "20.00        1\n",
       "109.00       1\n",
       "62.00        1\n",
       "32.73        1\n",
       "12.50        1\n",
       "Name: life_time_mean, Length: 392, dtype: int64"
      ]
     },
     "metadata": {},
     "output_type": "display_data"
    },
    {
     "data": {
      "text/plain": [
       "'Уникальные значения в колонке is_woman и их количество: '"
      ]
     },
     "metadata": {},
     "output_type": "display_data"
    },
    {
     "data": {
      "text/plain": [
       "1.00    1680\n",
       "NaN     1165\n",
       "0.00     451\n",
       "Name: is_woman, dtype: int64"
      ]
     },
     "metadata": {},
     "output_type": "display_data"
    },
    {
     "data": {
      "text/plain": [
       "'Уникальные значения в колонке is_reccurent_mean и их количество: '"
      ]
     },
     "metadata": {},
     "output_type": "display_data"
    },
    {
     "data": {
      "text/plain": [
       "0.00    2865\n",
       "1.00     362\n",
       "0.93       9\n",
       "0.50       8\n",
       "0.92       7\n",
       "0.80       6\n",
       "0.91       4\n",
       "0.86       3\n",
       "0.92       3\n",
       "0.67       2\n",
       "0.90       2\n",
       "0.81       2\n",
       "0.93       2\n",
       "0.87       2\n",
       "0.83       2\n",
       "0.69       1\n",
       "0.38       1\n",
       "0.82       1\n",
       "0.39       1\n",
       "0.70       1\n",
       "0.75       1\n",
       "0.62       1\n",
       "0.22       1\n",
       "0.72       1\n",
       "0.29       1\n",
       "0.11       1\n",
       "0.40       1\n",
       "0.96       1\n",
       "0.33       1\n",
       "0.89       1\n",
       "0.57       1\n",
       "0.77       1\n",
       "Name: is_reccurent_mean, dtype: int64"
      ]
     },
     "metadata": {},
     "output_type": "display_data"
    },
    {
     "data": {
      "text/plain": [
       "'Уникальные значения в колонке for_fund_mean и их количество: '"
      ]
     },
     "metadata": {},
     "output_type": "display_data"
    },
    {
     "data": {
      "text/plain": [
       "0.00    1728\n",
       "1.00    1405\n",
       "0.50      60\n",
       "0.33      13\n",
       "0.67      11\n",
       "0.25      10\n",
       "0.75       7\n",
       "0.93       5\n",
       "0.80       5\n",
       "0.71       4\n",
       "0.60       4\n",
       "0.83       4\n",
       "0.93       3\n",
       "0.92       3\n",
       "0.20       3\n",
       "0.62       2\n",
       "0.91       2\n",
       "0.78       2\n",
       "0.29       2\n",
       "0.81       2\n",
       "0.17       2\n",
       "0.14       1\n",
       "0.09       1\n",
       "0.38       1\n",
       "0.42       1\n",
       "0.87       1\n",
       "0.12       1\n",
       "0.40       1\n",
       "0.86       1\n",
       "0.11       1\n",
       "0.85       1\n",
       "0.08       1\n",
       "0.77       1\n",
       "0.88       1\n",
       "0.89       1\n",
       "0.04       1\n",
       "0.15       1\n",
       "0.90       1\n",
       "0.10       1\n",
       "0.95       1\n",
       "Name: for_fund_mean, dtype: int64"
      ]
     },
     "metadata": {},
     "output_type": "display_data"
    },
    {
     "data": {
      "text/plain": [
       "'Уникальные значения в колонке for_person_mean и их количество: '"
      ]
     },
     "metadata": {},
     "output_type": "display_data"
    },
    {
     "data": {
      "text/plain": [
       "0.00    2508\n",
       "1.00     655\n",
       "0.50      45\n",
       "0.67      10\n",
       "0.25       9\n",
       "0.33       8\n",
       "0.75       7\n",
       "0.20       6\n",
       "0.07       4\n",
       "0.17       4\n",
       "0.80       3\n",
       "0.40       3\n",
       "0.07       3\n",
       "0.08       3\n",
       "0.19       2\n",
       "0.71       2\n",
       "0.09       2\n",
       "0.12       2\n",
       "0.29       2\n",
       "0.22       2\n",
       "0.83       1\n",
       "0.38       1\n",
       "0.90       1\n",
       "0.14       1\n",
       "0.13       1\n",
       "0.15       1\n",
       "0.86       1\n",
       "0.60       1\n",
       "0.89       1\n",
       "0.73       1\n",
       "0.11       1\n",
       "0.10       1\n",
       "0.23       1\n",
       "0.58       1\n",
       "0.88       1\n",
       "0.85       1\n",
       "Name: for_person_mean, dtype: int64"
      ]
     },
     "metadata": {},
     "output_type": "display_data"
    },
    {
     "data": {
      "text/plain": [
       "'Уникальные значения в колонке for_programm_mean и их количество: '"
      ]
     },
     "metadata": {},
     "output_type": "display_data"
    },
    {
     "data": {
      "text/plain": [
       "0.00    3242\n",
       "1.00      38\n",
       "0.50       5\n",
       "0.33       3\n",
       "0.67       2\n",
       "0.75       2\n",
       "0.78       1\n",
       "0.29       1\n",
       "0.83       1\n",
       "0.12       1\n",
       "Name: for_programm_mean, dtype: int64"
      ]
     },
     "metadata": {},
     "output_type": "display_data"
    },
    {
     "data": {
      "text/plain": [
       "'Уникальные значения в колонке no_info_purpose_mean и их количество: '"
      ]
     },
     "metadata": {},
     "output_type": "display_data"
    },
    {
     "data": {
      "text/plain": [
       "0.00    2226\n",
       "1.00    1024\n",
       "0.50      16\n",
       "0.33       6\n",
       "0.25       3\n",
       "0.17       3\n",
       "0.67       3\n",
       "0.20       2\n",
       "0.75       2\n",
       "0.88       1\n",
       "0.96       1\n",
       "0.40       1\n",
       "0.18       1\n",
       "0.60       1\n",
       "0.07       1\n",
       "0.12       1\n",
       "0.80       1\n",
       "0.06       1\n",
       "0.05       1\n",
       "0.29       1\n",
       "Name: no_info_purpose_mean, dtype: int64"
      ]
     },
     "metadata": {},
     "output_type": "display_data"
    },
    {
     "data": {
      "text/plain": [
       "'Уникальные значения в колонке card_mean и их количество: '"
      ]
     },
     "metadata": {},
     "output_type": "display_data"
    },
    {
     "data": {
      "text/plain": [
       "1.00    1762\n",
       "0.00    1492\n",
       "0.50      15\n",
       "0.75       5\n",
       "0.93       3\n",
       "0.67       3\n",
       "0.80       2\n",
       "0.93       2\n",
       "0.25       2\n",
       "0.04       1\n",
       "0.20       1\n",
       "0.88       1\n",
       "0.96       1\n",
       "0.43       1\n",
       "0.33       1\n",
       "0.40       1\n",
       "0.97       1\n",
       "0.83       1\n",
       "0.12       1\n",
       "Name: card_mean, dtype: int64"
      ]
     },
     "metadata": {},
     "output_type": "display_data"
    },
    {
     "data": {
      "text/plain": [
       "'Уникальные значения в колонке cash_mean и их количество: '"
      ]
     },
     "metadata": {},
     "output_type": "display_data"
    },
    {
     "data": {
      "text/plain": [
       "0    3296\n",
       "Name: cash_mean, dtype: int64"
      ]
     },
     "metadata": {},
     "output_type": "display_data"
    },
    {
     "data": {
      "text/plain": [
       "'Уникальные значения в колонке direct_to_account_mean и их количество: '"
      ]
     },
     "metadata": {},
     "output_type": "display_data"
    },
    {
     "data": {
      "text/plain": [
       "0.00    2924\n",
       "1.00     369\n",
       "0.50       3\n",
       "Name: direct_to_account_mean, dtype: int64"
      ]
     },
     "metadata": {},
     "output_type": "display_data"
    },
    {
     "data": {
      "text/plain": [
       "'Уникальные значения в колонке sms_mean и их количество: '"
      ]
     },
     "metadata": {},
     "output_type": "display_data"
    },
    {
     "data": {
      "text/plain": [
       "0.00    2134\n",
       "1.00    1123\n",
       "0.50      12\n",
       "0.25       5\n",
       "0.33       3\n",
       "0.07       3\n",
       "0.20       2\n",
       "0.07       2\n",
       "0.75       2\n",
       "0.12       1\n",
       "0.60       1\n",
       "0.04       1\n",
       "0.03       1\n",
       "0.67       1\n",
       "0.88       1\n",
       "0.96       1\n",
       "0.57       1\n",
       "0.80       1\n",
       "0.17       1\n",
       "Name: sms_mean, dtype: int64"
      ]
     },
     "metadata": {},
     "output_type": "display_data"
    },
    {
     "data": {
      "text/plain": [
       "'Уникальные значения в колонке foreign_mean и их количество: '"
      ]
     },
     "metadata": {},
     "output_type": "display_data"
    },
    {
     "data": {
      "text/plain": [
       "0    3285\n",
       "1      11\n",
       "Name: foreign_mean, dtype: int64"
      ]
     },
     "metadata": {},
     "output_type": "display_data"
    },
    {
     "data": {
      "text/plain": [
       "'Уникальные значения в колонке moscow_mean и их количество: '"
      ]
     },
     "metadata": {},
     "output_type": "display_data"
    },
    {
     "data": {
      "text/plain": [
       "0    2924\n",
       "1     372\n",
       "Name: moscow_mean, dtype: int64"
      ]
     },
     "metadata": {},
     "output_type": "display_data"
    },
    {
     "data": {
      "text/plain": [
       "'Уникальные значения в колонке peterburg_mean и их количество: '"
      ]
     },
     "metadata": {},
     "output_type": "display_data"
    },
    {
     "data": {
      "text/plain": [
       "0    3231\n",
       "1      65\n",
       "Name: peterburg_mean, dtype: int64"
      ]
     },
     "metadata": {},
     "output_type": "display_data"
    },
    {
     "data": {
      "text/plain": [
       "'Уникальные значения в колонке no_info_city_mean и их количество: '"
      ]
     },
     "metadata": {},
     "output_type": "display_data"
    },
    {
     "data": {
      "text/plain": [
       "1    2468\n",
       "0     828\n",
       "Name: no_info_city_mean, dtype: int64"
      ]
     },
     "metadata": {},
     "output_type": "display_data"
    },
    {
     "data": {
      "text/plain": [
       "'Уникальные значения в колонке other_rus_city_mean и их количество: '"
      ]
     },
     "metadata": {},
     "output_type": "display_data"
    },
    {
     "data": {
      "text/plain": [
       "0    2916\n",
       "1     380\n",
       "Name: other_rus_city_mean, dtype: int64"
      ]
     },
     "metadata": {},
     "output_type": "display_data"
    },
    {
     "data": {
      "text/plain": [
       "'Уникальные значения в колонке total_sum и их количество: '"
      ]
     },
     "metadata": {},
     "output_type": "display_data"
    },
    {
     "data": {
      "text/plain": [
       "100.00        553\n",
       "500.00        399\n",
       "300.00        310\n",
       "200.00        291\n",
       "1,000.00      236\n",
       "             ... \n",
       "11,800.00       1\n",
       "71,000.00       1\n",
       "52.44           1\n",
       "0.48            1\n",
       "160,000.00      1\n",
       "Name: total_sum, Length: 400, dtype: int64"
      ]
     },
     "metadata": {},
     "output_type": "display_data"
    },
    {
     "data": {
      "text/plain": [
       "'Уникальные значения в колонке total_count и их количество: '"
      ]
     },
     "metadata": {},
     "output_type": "display_data"
    },
    {
     "data": {
      "text/plain": [
       "1     2357\n",
       "2      251\n",
       "3       95\n",
       "4       62\n",
       "5       48\n",
       "6       34\n",
       "10      27\n",
       "8       26\n",
       "11      26\n",
       "7       26\n",
       "14      19\n",
       "21      19\n",
       "15      17\n",
       "17      17\n",
       "20      16\n",
       "29      16\n",
       "19      15\n",
       "12      14\n",
       "24      14\n",
       "13      14\n",
       "23      14\n",
       "28      14\n",
       "18      13\n",
       "25      12\n",
       "27      12\n",
       "9       12\n",
       "16      10\n",
       "34       9\n",
       "22       7\n",
       "30       7\n",
       "26       6\n",
       "33       5\n",
       "39       5\n",
       "37       5\n",
       "32       5\n",
       "31       5\n",
       "46       4\n",
       "40       4\n",
       "35       3\n",
       "45       3\n",
       "44       3\n",
       "53       2\n",
       "43       2\n",
       "41       2\n",
       "76       2\n",
       "38       2\n",
       "42       2\n",
       "52       2\n",
       "62       1\n",
       "36       1\n",
       "48       1\n",
       "50       1\n",
       "49       1\n",
       "57       1\n",
       "59       1\n",
       "63       1\n",
       "65       1\n",
       "73       1\n",
       "83       1\n",
       "Name: total_count, dtype: int64"
      ]
     },
     "metadata": {},
     "output_type": "display_data"
    }
   ],
   "source": [
    "date_first_glampse(df_by_id_1)"
   ]
  },
  {
   "cell_type": "code",
   "execution_count": 31,
   "id": "faf95b91",
   "metadata": {},
   "outputs": [
    {
     "data": {
      "text/html": [
       "<div>\n",
       "<style scoped>\n",
       "    .dataframe tbody tr th:only-of-type {\n",
       "        vertical-align: middle;\n",
       "    }\n",
       "\n",
       "    .dataframe tbody tr th {\n",
       "        vertical-align: top;\n",
       "    }\n",
       "\n",
       "    .dataframe thead th {\n",
       "        text-align: right;\n",
       "    }\n",
       "</style>\n",
       "<table border=\"1\" class=\"dataframe\">\n",
       "  <thead>\n",
       "    <tr style=\"text-align: right;\">\n",
       "      <th></th>\n",
       "      <th>sum_mean</th>\n",
       "      <th>donat_count</th>\n",
       "      <th>life_time_mean</th>\n",
       "      <th>is_woman</th>\n",
       "      <th>is_reccurent_mean</th>\n",
       "      <th>for_fund_mean</th>\n",
       "      <th>for_person_mean</th>\n",
       "      <th>for_programm_mean</th>\n",
       "      <th>no_info_purpose_mean</th>\n",
       "      <th>card_mean</th>\n",
       "      <th>cash_mean</th>\n",
       "      <th>direct_to_account_mean</th>\n",
       "      <th>sms_mean</th>\n",
       "      <th>foreign_mean</th>\n",
       "      <th>moscow_mean</th>\n",
       "      <th>peterburg_mean</th>\n",
       "      <th>no_info_city_mean</th>\n",
       "      <th>other_rus_city_mean</th>\n",
       "      <th>total_sum</th>\n",
       "      <th>total_count</th>\n",
       "    </tr>\n",
       "  </thead>\n",
       "  <tbody>\n",
       "    <tr>\n",
       "      <th>count</th>\n",
       "      <td>3,296.00</td>\n",
       "      <td>3,296.00</td>\n",
       "      <td>3,296.00</td>\n",
       "      <td>2,131.00</td>\n",
       "      <td>3,296.00</td>\n",
       "      <td>3,296.00</td>\n",
       "      <td>3,296.00</td>\n",
       "      <td>3,296.00</td>\n",
       "      <td>3,296.00</td>\n",
       "      <td>3,296.00</td>\n",
       "      <td>3,296.00</td>\n",
       "      <td>3,296.00</td>\n",
       "      <td>3,296.00</td>\n",
       "      <td>3,296.00</td>\n",
       "      <td>3,296.00</td>\n",
       "      <td>3,296.00</td>\n",
       "      <td>3,296.00</td>\n",
       "      <td>3,296.00</td>\n",
       "      <td>3,296.00</td>\n",
       "      <td>3,296.00</td>\n",
       "    </tr>\n",
       "    <tr>\n",
       "      <th>mean</th>\n",
       "      <td>2,981.11</td>\n",
       "      <td>2.55</td>\n",
       "      <td>9.68</td>\n",
       "      <td>0.79</td>\n",
       "      <td>0.13</td>\n",
       "      <td>0.45</td>\n",
       "      <td>0.22</td>\n",
       "      <td>0.01</td>\n",
       "      <td>0.32</td>\n",
       "      <td>0.54</td>\n",
       "      <td>0.00</td>\n",
       "      <td>0.11</td>\n",
       "      <td>0.35</td>\n",
       "      <td>0.00</td>\n",
       "      <td>0.11</td>\n",
       "      <td>0.02</td>\n",
       "      <td>0.75</td>\n",
       "      <td>0.12</td>\n",
       "      <td>6,885.95</td>\n",
       "      <td>4.04</td>\n",
       "    </tr>\n",
       "    <tr>\n",
       "      <th>std</th>\n",
       "      <td>56,326.13</td>\n",
       "      <td>3.75</td>\n",
       "      <td>23.14</td>\n",
       "      <td>0.41</td>\n",
       "      <td>0.33</td>\n",
       "      <td>0.49</td>\n",
       "      <td>0.40</td>\n",
       "      <td>0.11</td>\n",
       "      <td>0.46</td>\n",
       "      <td>0.50</td>\n",
       "      <td>0.00</td>\n",
       "      <td>0.32</td>\n",
       "      <td>0.47</td>\n",
       "      <td>0.06</td>\n",
       "      <td>0.32</td>\n",
       "      <td>0.14</td>\n",
       "      <td>0.43</td>\n",
       "      <td>0.32</td>\n",
       "      <td>70,770.64</td>\n",
       "      <td>8.23</td>\n",
       "    </tr>\n",
       "    <tr>\n",
       "      <th>min</th>\n",
       "      <td>0.01</td>\n",
       "      <td>1.00</td>\n",
       "      <td>0.00</td>\n",
       "      <td>0.00</td>\n",
       "      <td>0.00</td>\n",
       "      <td>0.00</td>\n",
       "      <td>0.00</td>\n",
       "      <td>0.00</td>\n",
       "      <td>0.00</td>\n",
       "      <td>0.00</td>\n",
       "      <td>0.00</td>\n",
       "      <td>0.00</td>\n",
       "      <td>0.00</td>\n",
       "      <td>0.00</td>\n",
       "      <td>0.00</td>\n",
       "      <td>0.00</td>\n",
       "      <td>0.00</td>\n",
       "      <td>0.00</td>\n",
       "      <td>0.01</td>\n",
       "      <td>1.00</td>\n",
       "    </tr>\n",
       "    <tr>\n",
       "      <th>25%</th>\n",
       "      <td>100.00</td>\n",
       "      <td>1.00</td>\n",
       "      <td>0.00</td>\n",
       "      <td>1.00</td>\n",
       "      <td>0.00</td>\n",
       "      <td>0.00</td>\n",
       "      <td>0.00</td>\n",
       "      <td>0.00</td>\n",
       "      <td>0.00</td>\n",
       "      <td>0.00</td>\n",
       "      <td>0.00</td>\n",
       "      <td>0.00</td>\n",
       "      <td>0.00</td>\n",
       "      <td>0.00</td>\n",
       "      <td>0.00</td>\n",
       "      <td>0.00</td>\n",
       "      <td>0.00</td>\n",
       "      <td>0.00</td>\n",
       "      <td>150.00</td>\n",
       "      <td>1.00</td>\n",
       "    </tr>\n",
       "    <tr>\n",
       "      <th>50%</th>\n",
       "      <td>300.00</td>\n",
       "      <td>1.00</td>\n",
       "      <td>0.00</td>\n",
       "      <td>1.00</td>\n",
       "      <td>0.00</td>\n",
       "      <td>0.00</td>\n",
       "      <td>0.00</td>\n",
       "      <td>0.00</td>\n",
       "      <td>0.00</td>\n",
       "      <td>1.00</td>\n",
       "      <td>0.00</td>\n",
       "      <td>0.00</td>\n",
       "      <td>0.00</td>\n",
       "      <td>0.00</td>\n",
       "      <td>0.00</td>\n",
       "      <td>0.00</td>\n",
       "      <td>1.00</td>\n",
       "      <td>0.00</td>\n",
       "      <td>500.00</td>\n",
       "      <td>1.00</td>\n",
       "    </tr>\n",
       "    <tr>\n",
       "      <th>75%</th>\n",
       "      <td>500.00</td>\n",
       "      <td>2.00</td>\n",
       "      <td>0.00</td>\n",
       "      <td>1.00</td>\n",
       "      <td>0.00</td>\n",
       "      <td>1.00</td>\n",
       "      <td>0.00</td>\n",
       "      <td>0.00</td>\n",
       "      <td>1.00</td>\n",
       "      <td>1.00</td>\n",
       "      <td>0.00</td>\n",
       "      <td>0.00</td>\n",
       "      <td>1.00</td>\n",
       "      <td>0.00</td>\n",
       "      <td>0.00</td>\n",
       "      <td>0.00</td>\n",
       "      <td>1.00</td>\n",
       "      <td>0.00</td>\n",
       "      <td>1,500.00</td>\n",
       "      <td>2.00</td>\n",
       "    </tr>\n",
       "    <tr>\n",
       "      <th>max</th>\n",
       "      <td>3,000,000.00</td>\n",
       "      <td>50.00</td>\n",
       "      <td>182.50</td>\n",
       "      <td>1.00</td>\n",
       "      <td>1.00</td>\n",
       "      <td>1.00</td>\n",
       "      <td>1.00</td>\n",
       "      <td>1.00</td>\n",
       "      <td>1.00</td>\n",
       "      <td>1.00</td>\n",
       "      <td>0.00</td>\n",
       "      <td>1.00</td>\n",
       "      <td>1.00</td>\n",
       "      <td>1.00</td>\n",
       "      <td>1.00</td>\n",
       "      <td>1.00</td>\n",
       "      <td>1.00</td>\n",
       "      <td>1.00</td>\n",
       "      <td>3,000,000.00</td>\n",
       "      <td>83.00</td>\n",
       "    </tr>\n",
       "  </tbody>\n",
       "</table>\n",
       "</div>"
      ],
      "text/plain": [
       "          sum_mean  donat_count  life_time_mean  is_woman  is_reccurent_mean  \\\n",
       "count     3,296.00     3,296.00        3,296.00  2,131.00           3,296.00   \n",
       "mean      2,981.11         2.55            9.68      0.79               0.13   \n",
       "std      56,326.13         3.75           23.14      0.41               0.33   \n",
       "min           0.01         1.00            0.00      0.00               0.00   \n",
       "25%         100.00         1.00            0.00      1.00               0.00   \n",
       "50%         300.00         1.00            0.00      1.00               0.00   \n",
       "75%         500.00         2.00            0.00      1.00               0.00   \n",
       "max   3,000,000.00        50.00          182.50      1.00               1.00   \n",
       "\n",
       "       for_fund_mean  for_person_mean  for_programm_mean  \\\n",
       "count       3,296.00         3,296.00           3,296.00   \n",
       "mean            0.45             0.22               0.01   \n",
       "std             0.49             0.40               0.11   \n",
       "min             0.00             0.00               0.00   \n",
       "25%             0.00             0.00               0.00   \n",
       "50%             0.00             0.00               0.00   \n",
       "75%             1.00             0.00               0.00   \n",
       "max             1.00             1.00               1.00   \n",
       "\n",
       "       no_info_purpose_mean  card_mean  cash_mean  direct_to_account_mean  \\\n",
       "count              3,296.00   3,296.00   3,296.00                3,296.00   \n",
       "mean                   0.32       0.54       0.00                    0.11   \n",
       "std                    0.46       0.50       0.00                    0.32   \n",
       "min                    0.00       0.00       0.00                    0.00   \n",
       "25%                    0.00       0.00       0.00                    0.00   \n",
       "50%                    0.00       1.00       0.00                    0.00   \n",
       "75%                    1.00       1.00       0.00                    0.00   \n",
       "max                    1.00       1.00       0.00                    1.00   \n",
       "\n",
       "       sms_mean  foreign_mean  moscow_mean  peterburg_mean  no_info_city_mean  \\\n",
       "count  3,296.00      3,296.00     3,296.00        3,296.00           3,296.00   \n",
       "mean       0.35          0.00         0.11            0.02               0.75   \n",
       "std        0.47          0.06         0.32            0.14               0.43   \n",
       "min        0.00          0.00         0.00            0.00               0.00   \n",
       "25%        0.00          0.00         0.00            0.00               0.00   \n",
       "50%        0.00          0.00         0.00            0.00               1.00   \n",
       "75%        1.00          0.00         0.00            0.00               1.00   \n",
       "max        1.00          1.00         1.00            1.00               1.00   \n",
       "\n",
       "       other_rus_city_mean    total_sum  total_count  \n",
       "count             3,296.00     3,296.00     3,296.00  \n",
       "mean                  0.12     6,885.95         4.04  \n",
       "std                   0.32    70,770.64         8.23  \n",
       "min                   0.00         0.01         1.00  \n",
       "25%                   0.00       150.00         1.00  \n",
       "50%                   0.00       500.00         1.00  \n",
       "75%                   0.00     1,500.00         2.00  \n",
       "max                   1.00 3,000,000.00        83.00  "
      ]
     },
     "execution_count": 31,
     "metadata": {},
     "output_type": "execute_result"
    }
   ],
   "source": [
    "df_by_id_1.describe()"
   ]
  },
  {
   "cell_type": "code",
   "execution_count": 32,
   "id": "7f7bc048",
   "metadata": {
    "scrolled": true
   },
   "outputs": [
    {
     "data": {
      "image/png": "[encoded data removed]",
      "text/plain": [
       "<Figure size 432x288 with 1 Axes>"
      ]
     },
     "metadata": {
      "needs_background": "light"
     },
     "output_type": "display_data"
    },
    {
     "data": {
      "image/png": "[encoded data removed]",
      "text/plain": [
       "<Figure size 432x288 with 1 Axes>"
      ]
     },
     "metadata": {
      "needs_background": "light"
     },
     "output_type": "display_data"
    },
    {
     "data": {
      "image/png": "[encoded data removed]",
      "text/plain": [
       "<Figure size 432x288 with 1 Axes>"
      ]
     },
     "metadata": {
      "needs_background": "light"
     },
     "output_type": "display_data"
    },
    {
     "data": {
      "image/png": "[encoded data removed]",
      "text/plain": [
       "<Figure size 432x288 with 1 Axes>"
      ]
     },
     "metadata": {
      "needs_background": "light"
     },
     "output_type": "display_data"
    },
    {
     "data": {
      "image/png": "[encoded data removed]",
      "text/plain": [
       "<Figure size 432x288 with 1 Axes>"
      ]
     },
     "metadata": {
      "needs_background": "light"
     },
     "output_type": "display_data"
    },
    {
     "data": {
      "image/png": "[encoded data removed]",
      "text/plain": [
       "<Figure size 432x288 with 1 Axes>"
      ]
     },
     "metadata": {
      "needs_background": "light"
     },
     "output_type": "display_data"
    },
    {
     "data": {
      "image/png": "[encoded data removed]",
      "text/plain": [
       "<Figure size 432x288 with 1 Axes>"
      ]
     },
     "metadata": {
      "needs_background": "light"
     },
     "output_type": "display_data"
    },
    {
     "data": {
      "image/png": "[encoded data removed]",
      "text/plain": [
       "<Figure size 432x288 with 1 Axes>"
      ]
     },
     "metadata": {
      "needs_background": "light"
     },
     "output_type": "display_data"
    },
    {
     "data": {
      "image/png": "[encoded data removed]",
      "text/plain": [
       "<Figure size 432x288 with 1 Axes>"
      ]
     },
     "metadata": {
      "needs_background": "light"
     },
     "output_type": "display_data"
    },
    {
     "data": {
      "image/png": "[encoded data removed]",
      "text/plain": [
       "<Figure size 432x288 with 1 Axes>"
      ]
     },
     "metadata": {
      "needs_background": "light"
     },
     "output_type": "display_data"
    }
   ],
   "source": [
    "for df in [df_by_id_1,df_by_id_2]:\n",
    "    for col in ['sum_mean','donat_count','life_time_mean','is_woman','is_reccurent_mean']:\n",
    "        ax = sns.lineplot(data=df, x=col, y='total_sum')\n",
    "        plt.show()"
   ]
  },
  {
   "cell_type": "markdown",
   "id": "f499b98b",
   "metadata": {},
   "source": [
    "# МЛ"
   ]
  },
  {
   "cell_type": "markdown",
   "id": "513f5310",
   "metadata": {},
   "source": [
    "## План МЛ:\n",
    "  \n",
    "Данные:\n",
    "\n",
    "Т.к. в признаке пола у нас много пропусков попробуем сначала удалить этот признак, а потом оставим его и избавимся от nan. Далее сравним какой вариант будет точнее\n",
    "\n",
    "1. Нет признака пола  \n",
    "2. Удалим все Нан в признаке пола  \n",
    "3. Заменим Нан в той же пропорции  \n",
    "\n",
    "Методы:\n",
    "1. LinearRegression  \n",
    "2. GradientBoostingRegressor  \n",
    "3. RandomForestRegressor\n",
    "4. VotingRegressor\n",
    "  \n",
    "  целевой признак:  \n",
    "1. 1:  \n",
    "1) сумма  \n",
    "2) количество  \n",
    "2. 2: сумма + количество"
   ]
  },
  {
   "cell_type": "markdown",
   "id": "0e04950a",
   "metadata": {},
   "source": [
    "## 1: без гендера, целевой признак - общая сумма пожертвований за всё время сотрудничества total_sum"
   ]
  },
  {
   "cell_type": "code",
   "execution_count": 33,
   "id": "19857839",
   "metadata": {},
   "outputs": [],
   "source": [
    "from sklearn.ensemble import GradientBoostingRegressor\n",
    "from sklearn.ensemble import RandomForestRegressor\n",
    "from sklearn.linear_model import LinearRegression\n",
    "from sklearn.neighbors import KNeighborsRegressor\n",
    "from sklearn.ensemble import VotingRegressor\n",
    "from sklearn.metrics import mean_absolute_error, mean_absolute_percentage_error, r2_score\n",
    "\n",
    "# Загрузим данные с одним признаком\n",
    "X_train = df_by_id_1.drop(columns=['is_woman','id','total_sum','total_count'], axis=1)\n",
    "y_train = df_by_id_1['total_sum']\n",
    "\n",
    "X_test = df_by_id_2.drop(columns=['is_woman','id','total_sum','total_count'], axis=1)\n",
    "y_test = df_by_id_2['total_sum']\n",
    "\n",
    "# Train classifiers\n",
    "reg1 = GradientBoostingRegressor(random_state=1)\n",
    "reg2 = RandomForestRegressor(random_state=1)\n",
    "reg3 = LinearRegression()\n",
    "reg4 = KNeighborsRegressor()\n",
    "\n",
    "reg1.fit(X_train, y_train)\n",
    "reg2.fit(X_train, y_train)\n",
    "reg3.fit(X_train, y_train)\n",
    "reg4.fit(X_train, y_train)\n",
    "\n",
    "ereg = VotingRegressor([(\"gb\", reg1), (\"rf\", reg2), (\"lr\", reg3), (\"kn\", reg4)])\n",
    "ereg.fit(X_train, y_train)\n",
    "\n",
    "pred1 = reg1.predict(X_test)\n",
    "pred2 = reg2.predict(X_test)\n",
    "pred3 = reg3.predict(X_test)\n",
    "pred4 = reg4.predict(X_test)\n",
    "pred5 = ereg.predict(X_test)"
   ]
  },
  {
   "cell_type": "code",
   "execution_count": 34,
   "id": "526f89e7",
   "metadata": {},
   "outputs": [],
   "source": [
    "def print_metrics(reg,pred,y_test):\n",
    "    print(reg)\n",
    "    # Взглянем на коэффициенты\n",
    "    print(reg.get_params)\n",
    "    # выведем среднее значение целевой переменной на тесте\n",
    "    print('Mean: {:.2f}'.format(y_test.mean()))\n",
    "    # выведем основные метрики\n",
    "    print('MAE: {:.2f}'.format(mean_absolute_error(y_test, pred)))\n",
    "    print('MAPE: {:.2f}'.format(mean_absolute_percentage_error(y_test, pred)))\n",
    "    print('R2: {:.2f}'.format(r2_score(y_test, pred)))"
   ]
  },
  {
   "cell_type": "code",
   "execution_count": 35,
   "id": "08dfbf7e",
   "metadata": {},
   "outputs": [
    {
     "name": "stdout",
     "output_type": "stream",
     "text": [
      "GradientBoostingRegressor(random_state=1)\n",
      "<bound method BaseEstimator.get_params of GradientBoostingRegressor(random_state=1)>\n",
      "Mean: 3797.35\n",
      "MAE: 3018.20\n",
      "MAPE: 10.53\n",
      "R2: 0.69\n"
     ]
    }
   ],
   "source": [
    "print_metrics(reg1,pred1,y_test)"
   ]
  },
  {
   "cell_type": "code",
   "execution_count": 36,
   "id": "57424f75",
   "metadata": {},
   "outputs": [
    {
     "name": "stdout",
     "output_type": "stream",
     "text": [
      "RandomForestRegressor(random_state=1)\n",
      "<bound method BaseEstimator.get_params of RandomForestRegressor(random_state=1)>\n",
      "Mean: 3797.35\n",
      "MAE: 2548.41\n",
      "MAPE: 1.76\n",
      "R2: 0.68\n"
     ]
    }
   ],
   "source": [
    "print_metrics(reg2,pred2,y_test)"
   ]
  },
  {
   "cell_type": "code",
   "execution_count": 37,
   "id": "9cc26dd2",
   "metadata": {},
   "outputs": [
    {
     "name": "stdout",
     "output_type": "stream",
     "text": [
      "LinearRegression()\n",
      "<bound method BaseEstimator.get_params of LinearRegression()>\n",
      "Mean: 3797.35\n",
      "MAE: 4531.91\n",
      "MAPE: 20.53\n",
      "R2: 0.72\n"
     ]
    }
   ],
   "source": [
    "print_metrics(reg3,pred3,y_test)"
   ]
  },
  {
   "cell_type": "code",
   "execution_count": 38,
   "id": "cbd5e2a4",
   "metadata": {},
   "outputs": [
    {
     "name": "stdout",
     "output_type": "stream",
     "text": [
      "KNeighborsRegressor()\n",
      "<bound method BaseEstimator.get_params of KNeighborsRegressor()>\n",
      "Mean: 3797.35\n",
      "MAE: 2316.32\n",
      "MAPE: 0.81\n",
      "R2: 0.71\n"
     ]
    }
   ],
   "source": [
    "print_metrics(reg4,pred4,y_test)"
   ]
  },
  {
   "cell_type": "code",
   "execution_count": 39,
   "id": "92f71057",
   "metadata": {},
   "outputs": [
    {
     "name": "stdout",
     "output_type": "stream",
     "text": [
      "VotingRegressor(estimators=[('gb', GradientBoostingRegressor(random_state=1)),\n",
      "                            ('rf', RandomForestRegressor(random_state=1)),\n",
      "                            ('lr', LinearRegression()),\n",
      "                            ('kn', KNeighborsRegressor())])\n",
      "<bound method _BaseHeterogeneousEnsemble.get_params of VotingRegressor(estimators=[('gb', GradientBoostingRegressor(random_state=1)),\n",
      "                            ('rf', RandomForestRegressor(random_state=1)),\n",
      "                            ('lr', LinearRegression()),\n",
      "                            ('kn', KNeighborsRegressor())])>\n",
      "Mean: 3797.35\n",
      "MAE: 2857.37\n",
      "MAPE: 7.69\n",
      "R2: 0.83\n"
     ]
    }
   ],
   "source": [
    "print_metrics(ereg,pred5,y_test)"
   ]
  },
  {
   "cell_type": "code",
   "execution_count": 40,
   "id": "7e936d02",
   "metadata": {},
   "outputs": [
    {
     "data": {
      "text/plain": [
       "0"
      ]
     },
     "execution_count": 40,
     "metadata": {},
     "output_type": "execute_result"
    }
   ],
   "source": [
    "len(y_test)-len(pred5)"
   ]
  },
  {
   "cell_type": "code",
   "execution_count": 41,
   "id": "bf2874a9",
   "metadata": {},
   "outputs": [
    {
     "data": {
      "image/png": "[encoded data removed]",
      "text/plain": [
       "<Figure size 1224x720 with 1 Axes>"
      ]
     },
     "metadata": {
      "needs_background": "light"
     },
     "output_type": "display_data"
    }
   ],
   "source": [
    "# Визуализируем:\n",
    "plt.figure(figsize=(17,10))\n",
    "plt.plot(pred1, \"gd\", label=\"GradientBoostingRegressor\")\n",
    "plt.plot(pred2, \"b^\", label=\"RandomForestRegressor\")\n",
    "plt.plot(pred3, \"ys\", label=\"LinearRegression\")\n",
    "plt.plot(pred4, \"*\", label=\"KNeighborsRegressor\")\n",
    "plt.plot(pred5, \"r*\", ms=10, label=\"VotingRegressor\")\n",
    "plt.plot(y_test.reset_index(drop=True), label=\"test_data\")\n",
    "\n",
    "plt.tick_params(axis=\"x\", which=\"both\", bottom=False, top=False, labelbottom=False)\n",
    "plt.ylabel(\"predicted\")\n",
    "plt.xlabel(\"training samples\")\n",
    "plt.legend(loc=\"best\")\n",
    "plt.title(\"Regressor predictions and their average\")\n",
    "\n",
    "plt.show()"
   ]
  },
  {
   "cell_type": "code",
   "execution_count": 42,
   "id": "3d7f7f7d",
   "metadata": {},
   "outputs": [
    {
     "data": {
      "text/html": [
       "<div>\n",
       "<style scoped>\n",
       "    .dataframe tbody tr th:only-of-type {\n",
       "        vertical-align: middle;\n",
       "    }\n",
       "\n",
       "    .dataframe tbody tr th {\n",
       "        vertical-align: top;\n",
       "    }\n",
       "\n",
       "    .dataframe thead th {\n",
       "        text-align: right;\n",
       "    }\n",
       "</style>\n",
       "<table border=\"1\" class=\"dataframe\">\n",
       "  <thead>\n",
       "    <tr style=\"text-align: right;\">\n",
       "      <th></th>\n",
       "      <th>total_sum_real</th>\n",
       "      <th>best_prediction_VR</th>\n",
       "    </tr>\n",
       "  </thead>\n",
       "  <tbody>\n",
       "    <tr>\n",
       "      <th>0</th>\n",
       "      <td>400.00</td>\n",
       "      <td>4,069.10</td>\n",
       "    </tr>\n",
       "    <tr>\n",
       "      <th>1</th>\n",
       "      <td>77.00</td>\n",
       "      <td>86.05</td>\n",
       "    </tr>\n",
       "    <tr>\n",
       "      <th>2</th>\n",
       "      <td>1,000.00</td>\n",
       "      <td>1,142.75</td>\n",
       "    </tr>\n",
       "    <tr>\n",
       "      <th>3</th>\n",
       "      <td>148.00</td>\n",
       "      <td>698.09</td>\n",
       "    </tr>\n",
       "    <tr>\n",
       "      <th>4</th>\n",
       "      <td>300.00</td>\n",
       "      <td>3,601.01</td>\n",
       "    </tr>\n",
       "    <tr>\n",
       "      <th>...</th>\n",
       "      <td>...</td>\n",
       "      <td>...</td>\n",
       "    </tr>\n",
       "    <tr>\n",
       "      <th>382</th>\n",
       "      <td>3,000.00</td>\n",
       "      <td>6,912.58</td>\n",
       "    </tr>\n",
       "    <tr>\n",
       "      <th>383</th>\n",
       "      <td>780.00</td>\n",
       "      <td>2,640.76</td>\n",
       "    </tr>\n",
       "    <tr>\n",
       "      <th>384</th>\n",
       "      <td>600.00</td>\n",
       "      <td>849.44</td>\n",
       "    </tr>\n",
       "    <tr>\n",
       "      <th>385</th>\n",
       "      <td>0.22</td>\n",
       "      <td>25.06</td>\n",
       "    </tr>\n",
       "    <tr>\n",
       "      <th>386</th>\n",
       "      <td>60.00</td>\n",
       "      <td>1,108.51</td>\n",
       "    </tr>\n",
       "  </tbody>\n",
       "</table>\n",
       "<p>387 rows × 2 columns</p>\n",
       "</div>"
      ],
      "text/plain": [
       "     total_sum_real  best_prediction_VR\n",
       "0            400.00            4,069.10\n",
       "1             77.00               86.05\n",
       "2          1,000.00            1,142.75\n",
       "3            148.00              698.09\n",
       "4            300.00            3,601.01\n",
       "..              ...                 ...\n",
       "382        3,000.00            6,912.58\n",
       "383          780.00            2,640.76\n",
       "384          600.00              849.44\n",
       "385            0.22               25.06\n",
       "386           60.00            1,108.51\n",
       "\n",
       "[387 rows x 2 columns]"
      ]
     },
     "execution_count": 42,
     "metadata": {},
     "output_type": "execute_result"
    }
   ],
   "source": [
    "d = {'total_sum_real': y_test.reset_index(drop=True), 'best_prediction_VR': pred5}\n",
    "df_predictions = pd.DataFrame(d)\n",
    "df_predictions"
   ]
  },
  {
   "cell_type": "code",
   "execution_count": null,
   "id": "1215c389",
   "metadata": {},
   "outputs": [],
   "source": [
    "##### Загрузим библиотеки\n",
    "from sklearn.preprocessing import StandardScaler\n",
    "from sklearn.preprocessing import PolynomialFeatures\n",
    "from sklearn.linear_model import LinearRegression\n",
    "from sklearn.metrics import mean_absolute_error, mean_squared_error, mean_absolute_percentage_error, r2_score\n",
    "\n",
    "# Загрузить данные с одним признаком\n",
    "X_train = df_by_id_1.drop(columns=['is_woman','id','total_sum'], axis=1)\n",
    "y_train = df_by_id_1['total_sum']\n",
    "\n",
    "X_test = df_by_id_2.drop(columns=['is_woman','id','total_sum'], axis=1)\n",
    "y_test = df_by_id_2['total_sum']\n",
    "\n",
    "# Создать полиномиальные признаки\n",
    "polynomial = PolynomialFeatures(degree=1, include_bias=False)\n",
    "features_polynomial = polynomial.fit_transform(X_train)\n",
    "features_polynomial_test = polynomial.fit_transform(X_test)\n",
    "\n",
    "# Создать объект линейной регрессии\n",
    "regression = LinearRegression()\n",
    "\n",
    "# Выполнить подгонку линейной регрессии\n",
    "model = regression.fit(features_polynomial, y_train)\n",
    "\n",
    "# воспользуемся уже обученной моделью, чтобы сделать прогнозы\n",
    "predictions = model.predict(features_polynomial_test)\n",
    "\n",
    "# Взглянуть на коэффициенты\n",
    "print(model.coef_)\n",
    "\n",
    "# выведем среднее значение целевой переменной на тесте\n",
    "print('Mean: {:.2f}'.format(y_test.mean()))\n",
    "\n",
    "# выведем основные метрики\n",
    "print('MAE: {:.2f}'.format(mean_absolute_error(y_test, predictions)))\n",
    "print('MAPE: {:.2f}'.format(mean_absolute_percentage_error(y_test, predictions)))\n",
    "print('R2: {:.2f}'.format(r2_score(y_test, predictions)))\n"
   ]
  },
  {
   "cell_type": "code",
   "execution_count": null,
   "id": "da95408d",
   "metadata": {},
   "outputs": [],
   "source": [
    "##### Загрузить библиотеки\n",
    "from sklearn.preprocessing import StandardScaler\n",
    "from sklearn.linear_model import MultiTaskLassoCV\n",
    "from sklearn.metrics import mean_absolute_error, mean_squared_error, mean_absolute_percentage_error, r2_score\n",
    "\n",
    "# Загрузить данные с одним признаком\n",
    "X_train = df_by_id_1.drop(columns=['is_woman','id','total_sum'], axis=1)\n",
    "y_train = df_by_id_1['total_sum']\n",
    "\n",
    "X_test = df_by_id_2.drop(columns=['is_woman','id','total_sum'], axis=1)\n",
    "y_test = df_by_id_2['total_sum']\n",
    "\n",
    "# Создать полиномиальные признаки\n",
    "polynomial = PolynomialFeatures(degree=1, include_bias=False)\n",
    "features_polynomial = polynomial.fit_transform(X_train)\n",
    "features_polynomial_test = polynomial.fit_transform(X_test)\n",
    "\n",
    "# Создать объект линейной регрессии\n",
    "regression = LinearRegression()\n",
    "\n",
    "# Выполнить подгонку линейной регрессии\n",
    "model = regression.fit(features_polynomial, y_train)\n",
    "\n",
    "# воспользуемся уже обученной моделью, чтобы сделать прогнозы\n",
    "predictions = model.predict(features_polynomial_test)\n",
    "\n",
    "# Взглянуть на коэффициенты\n",
    "print(model.coef_)\n",
    "\n",
    "# выведем среднее значение целевой переменной на тесте\n",
    "print('Mean: {:.2f}'.format(y_test.mean()))\n",
    "\n",
    "# выведем основные метрики\n",
    "print('MAE: {:.2f}'.format(mean_absolute_error(y_test, predictions)))\n",
    "print('MAPE: {:.2f}'.format(mean_absolute_percentage_error(y_test, predictions)))\n",
    "print('R2: {:.2f}'.format(r2_score(y_test, predictions)))\n"
   ]
  },
  {
   "cell_type": "markdown",
   "id": "a7cf2c28",
   "metadata": {},
   "source": []
  },
  {
   "cell_type": "code",
   "execution_count": null,
   "id": "9a63cacd",
   "metadata": {},
   "outputs": [],
   "source": [
    "from sklearn.model_selection import train_test_split\n",
    "from sklearn.linear_model import LogisticRegression\n",
    "from sklearn.tree import DecisionTreeClassifier\n",
    "\n",
    "\n",
    "from sklearn.ensemble import RandomForestClassifier, GradientBoostingClassifier\n",
    "\n",
    "from sklearn.metrics import accuracy_score, precision_score, recall_score, f1_score\n",
    "from sklearn.metrics import roc_auc_score"
   ]
  },
  {
   "cell_type": "code",
   "execution_count": null,
   "id": "1e34a425",
   "metadata": {},
   "outputs": [],
   "source": [
    "# Загрузить библиотеку\n",
    "from sklearn.linear_model import RidgeCV\n",
    "# Создать объект гребневой регрессии с тремя значениями alpha\n",
    "regr_cv = RidgeCV(alphas=[0.1, 1.0, 10.0])\n",
    "# Выполнить подгонку линейной регрессии\n",
    "model_cv = regr_cv.fit(features_standardized, target)\n",
    "# Взглянуть на коэффициенты\n",
    "model_cv.coef_"
   ]
  },
  {
   "cell_type": "code",
   "execution_count": null,
   "id": "4a685064",
   "metadata": {},
   "outputs": [],
   "source": [
    "# Загрузить библиотеки\n",
    "from sklearn.linear_model import Ridge\n",
    "from sklearn.datasets import load_boston\n",
    "from sklearn.preprocessing import StandardScaler\n",
    "\n",
    "from sklearn.preprocessing import PolynomiaiFeatures\n",
    "\n",
    "# Загрузить данные\n",
    "X = df_by_id_1.drop(columns=['is_woman','id','total_sum'], axis=1)\n",
    "y = df_by_id_1['total_sum']\n",
    "\n",
    "# Стандартизировать признаки\n",
    "scaler = StandardScaler()\n",
    "X_standardized = scaler.fit_transform(X)\n",
    "\n",
    "# Создать объект гребневой регрессии с тремя значениями alpha\n",
    "regr_cv = RidgeCV(alphas=[0.1, 1.0, 10.0])\n",
    "\n",
    "# Выполнить подгонку линейной регрессии\n",
    "model_cv = regr_cv.fit(X_standardized, y)\n",
    "\n",
    "# Взглянуть на коэффициенты\n",
    "model_cv.coef_\n",
    "\n",
    "# Создать полиномиальные признаки хл2 и хл3\n",
    "polynomial = PolynomiaiFeatures(degree=3, include_bias=False)\n",
    "features_polynomial = polynomial.fit_transform(features)\n",
    "# Создать объект линейной регрессии\n",
    "regression = LinearRegression()"
   ]
  },
  {
   "cell_type": "code",
   "execution_count": null,
   "id": "da737773",
   "metadata": {},
   "outputs": [],
   "source": [
    "# Загрузить библиотеки\n",
    "from sklearn.datasets import make_regression"
   ]
  },
  {
   "cell_type": "code",
   "execution_count": null,
   "id": "482b4c59",
   "metadata": {},
   "outputs": [],
   "source": [
    "# Загрузить библиотеки\n",
    "from sklearn import datasets\n",
    "from sklearn import metrics\n",
    "from sklearn.model_selection import KFold, cross_val_score\n",
    "from sklearn.pipeline import make_pipeline\n",
    "from sklearn.linear_model import LogisticRegression\n",
    "from sklearn.preprocessing import StandardScaler\n",
    " \n",
    "# Создать матрицу признаков\n",
    "features = df_by_id_1.drop(columns=['is_woman','id','total_sum'], axis=1)\n",
    "# Создать вектор целей\n",
    "target = df_by_id_1['total_sum']\n",
    "\n",
    "# Создать стандартизатор\n",
    "standardizer = StandardScaler()\n",
    "# Создать объект логистической регрессии\n",
    "logit = LogisticRegression()\n",
    "# Создать конвейер, который стандартизирует,\n",
    "# затем выполняет логистическую регрессию\n",
    "pipeline = make_pipeline(standardizer, logit)\n",
    "# Создать k-блочную перекрестную проверку\n",
    "kf = KFold(n_splits=10, shuffle=True, random_state=1)\n",
    "# Выполнить k-блочную перекрестную проверку\n",
    "cv_results = cross_val_score(pipeline, # Конвейер\n",
    "features, # Матрица признаков\n",
    "target, # Вектор целей\n",
    "cv=kf, # Метод перекрестной проверки\n",
    "scoring=\"accuracy\", # Функция потери\n",
    "n_jobs=-1) # Использовать все ядра CPU\n",
    "# Вычислить среднее значение\n",
    "cv_results"
   ]
  },
  {
   "cell_type": "code",
   "execution_count": null,
   "id": "09166f41",
   "metadata": {},
   "outputs": [],
   "source": [
    "from sklearn.linear_model import LinearRegression\n",
    "from sklearn.metrics import mean_absolute_error, mean_squared_error, r2_score\n",
    "\n",
    "# разделим наши данные на признаки (матрица X) и целевую переменную (y)\n",
    "X = df_by_id_1.drop(columns=['is_woman','id','total_sum'], axis=1)\n",
    "y = df_by_id_1['total_sum']\n",
    "\n",
    "# разделяем модель на обучающую и валидационную выборку\n",
    "X_train, X_test, y_train, y_test = train_test_split(\n",
    "    X, y, test_size=0.2\n",
    ")\n",
    "\n",
    "lr = LinearRegression()\n",
    "lr.fit(X_train, y_train)\n",
    "prediction = lr.predict(X_test)\n",
    "\n",
    "plt.figure(figsize=(15, 7))\n",
    "plt.plot(prediction, \"r\", label=\"prediction\")\n",
    "plt.plot(y_test.values, label=\"actual\")\n",
    "plt.legend(loc=\"best\")\n",
    "plt.title(\"Linear regression\\n Mean absolute error {} users\".format(round(mean_absolute_error(prediction, y_test))))\n",
    "plt.grid(True);\n",
    "\n",
    "# The coefficients\n",
    "print(\"Coefficients: \\n\", lr.coef_)\n",
    "# The mean squared error\n",
    "print(\"Mean squared error: %.2f\" % mean_squared_error(y_test, prediction))\n",
    "# The coefficient of determination: 1 is perfect prediction\n",
    "print(\"Coefficient of determination: %.2f\" % r2_score(y_test, prediction))\n"
   ]
  },
  {
   "cell_type": "markdown",
   "id": "d52bc410",
   "metadata": {},
   "source": [
    "## KMeans"
   ]
  },
  {
   "cell_type": "code",
   "execution_count": null,
   "id": "85c32952",
   "metadata": {},
   "outputs": [],
   "source": [
    "from sklearn.cluster import KMeans\n",
    "import itertools\n",
    "from sklearn.metrics import silhouette_score\n",
    "import warnings\n",
    "warnings.filterwarnings('ignore') # уберём предупреждения"
   ]
  },
  {
   "cell_type": "code",
   "execution_count": null,
   "id": "65cc717a",
   "metadata": {},
   "outputs": [],
   "source": [
    "# определим функцию отрисовки графиков попарных признаков для кластеров\n",
    "def show_clusters_on_plot(df, x_name, y_name, cluster_name):\n",
    "    plt.figure(figsize=(5, 5))\n",
    "    sns.scatterplot(\n",
    "        df[x_name], df[y_name], hue=df[cluster_name], palette='Paired'\n",
    "    )\n",
    "    plt.title('{} vs {}'.format(x_name, y_name))\n",
    "    plt.show()\n",
    "\n",
    "# стандартизируем данные\n",
    "sc = StandardScaler()\n",
    "x_sc = sc.fit_transform(df_for_model)\n",
    "\n",
    "# задаём модель k_means с числом кластеров 3 и фиксируем значение random_state\n",
    "km = KMeans(n_clusters=4, random_state=0)\n",
    "# прогнозируем кластеры для наблюдений (алгоритм присваивает им номера от 0 до 2)\n",
    "labels = km.fit_predict(x_sc)\n",
    "\n",
    "# сохраняем метки кластера в поле нашего датасета\n",
    "df_for_model['cluster_km'] = labels\n",
    "\n",
    "# выводим статистику по средним значениям наших признаков по кластеру\n",
    "print(df_for_model.groupby('cluster_km').mean())\n",
    "\n",
    "# отрисуем графики для попарных сочетаний признаков с разметкой по кластерам\n",
    "col_pairs = list(itertools.combinations(df_for_model.drop('cluster_km', axis=1).columns, 2))\n",
    "for pair in col_pairs:\n",
    "    show_clusters_on_plot(df_for_model, pair[0], pair[1], 'cluster_km')\n",
    "\n",
    "# посчитаем метрику силуэта для нашей кластеризации\n",
    "print('Silhouette_score: {:.2f}'.format(silhouette_score(x_sc, labels)))"
   ]
  },
  {
   "cell_type": "code",
   "execution_count": null,
   "id": "ffbdc218",
   "metadata": {},
   "outputs": [],
   "source": []
  },
  {
   "cell_type": "code",
   "execution_count": null,
   "id": "7dd95633",
   "metadata": {},
   "outputs": [],
   "source": []
  },
  {
   "cell_type": "code",
   "execution_count": null,
   "id": "758b492a",
   "metadata": {},
   "outputs": [],
   "source": []
  },
  {
   "cell_type": "code",
   "execution_count": null,
   "id": "d8805098",
   "metadata": {},
   "outputs": [],
   "source": []
  },
  {
   "cell_type": "code",
   "execution_count": null,
   "id": "9638570d",
   "metadata": {},
   "outputs": [],
   "source": []
  },
  {
   "cell_type": "code",
   "execution_count": null,
   "id": "3467b37f",
   "metadata": {},
   "outputs": [],
   "source": []
  },
  {
   "cell_type": "code",
   "execution_count": null,
   "id": "bc94355d",
   "metadata": {},
   "outputs": [],
   "source": []
  },
  {
   "cell_type": "code",
   "execution_count": null,
   "id": "6688d204",
   "metadata": {},
   "outputs": [],
   "source": []
  },
  {
   "cell_type": "code",
   "execution_count": null,
   "id": "842f1914",
   "metadata": {},
   "outputs": [],
   "source": []
  },
  {
   "cell_type": "code",
   "execution_count": null,
   "id": "3f4cde5d",
   "metadata": {},
   "outputs": [],
   "source": []
  },
  {
   "cell_type": "code",
   "execution_count": null,
   "id": "dd038101",
   "metadata": {},
   "outputs": [],
   "source": []
  },
  {
   "cell_type": "code",
   "execution_count": null,
   "id": "7faf9291",
   "metadata": {},
   "outputs": [],
   "source": []
  },
  {
   "cell_type": "code",
   "execution_count": null,
   "id": "268d6cd0",
   "metadata": {},
   "outputs": [],
   "source": []
  },
  {
   "cell_type": "code",
   "execution_count": null,
   "id": "4889e0f8",
   "metadata": {},
   "outputs": [],
   "source": []
  },
  {
   "cell_type": "code",
   "execution_count": null,
   "id": "7af2c811",
   "metadata": {},
   "outputs": [],
   "source": []
  },
  {
   "cell_type": "code",
   "execution_count": null,
   "id": "ceb0cb8b",
   "metadata": {},
   "outputs": [],
   "source": []
  },
  {
   "cell_type": "code",
   "execution_count": null,
   "id": "f9c7b6dd",
   "metadata": {},
   "outputs": [],
   "source": []
  }
 ],
 "metadata": {
  "kernelspec": {
   "display_name": "Python 3",
   "language": "python",
   "name": "python3"
  },
  "language_info": {
   "codemirror_mode": {
    "name": "ipython",
    "version": 3
   },
   "file_extension": ".py",
   "mimetype": "text/x-python",
   "name": "python",
   "nbconvert_exporter": "python",
   "pygments_lexer": "ipython3",
   "version": "3.8.8"
  },
  "toc": {
   "base_numbering": 1,
   "nav_menu": {},
   "number_sections": false,
   "sideBar": true,
   "skip_h1_title": false,
   "title_cell": "Table of Contents",
   "title_sidebar": "Contents",
   "toc_cell": false,
   "toc_position": {},
   "toc_section_display": true,
   "toc_window_display": true
  }
 },
 "nbformat": 4,
 "nbformat_minor": 5
}
